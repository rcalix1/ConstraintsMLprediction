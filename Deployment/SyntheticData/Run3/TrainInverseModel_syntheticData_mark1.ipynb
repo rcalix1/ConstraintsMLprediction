{
 "cells": [
  {
   "cell_type": "markdown",
   "id": "286b5522",
   "metadata": {},
   "source": [
    "\n",
    "## Train Inverse Model (Synthetic Data, from output constraints optimization)\n",
    "\n",
    "* Synthetic Data gen: gradient based input optimization from constrained outputs \n",
    "* invert inputs and outputs and train\n",
    "\n",
    "## Web application \n",
    "\n",
    "Run interactively on the web at: \n",
    "\n",
    "\n",
    "## Inputs\n",
    "\n",
    "\n",
    "* desired output requirements \n",
    "\n",
    "Raceway flame temp > 1900K.....(19, 'o_fta')\n",
    " \n",
    "Hot metal temp > 1700K........(21, 'o_hmt')\n",
    "\n",
    "Top gas temp > 100C,,,,,,,,,,,(23, 'o_tgt')\n",
    "\n",
    "production rate ..............(39, 'o_prod_rt')\n",
    "\n",
    "\n",
    "## Outputs\n",
    "\n",
    "\n",
    "\n",
    "(2, 'i_h2i_rate')\n",
    "\n",
    "(3, 'i_h2_temp')\n",
    "\n",
    "(4, 'i_ngi_rate')\n",
    "\n",
    "(6, 'i_pci_rate')\n",
    "\n",
    "(11, 'i_o2_volfract')\n",
    "\n",
    "(12, 'i_hbtemp')\n",
    "\n",
    "(13, 'i_wind_rt')\n",
    "\n",
    "\n",
    "\n",
    "\n",
    "\n",
    "\n",
    "\n",
    "\n"
   ]
  },
  {
   "cell_type": "markdown",
   "id": "e75f0429",
   "metadata": {},
   "source": [
    "\n",
    "## Installs\n"
   ]
  },
  {
   "cell_type": "code",
   "execution_count": 1,
   "id": "e5878bfa",
   "metadata": {},
   "outputs": [],
   "source": [
    "\n",
    "## !pip install xgboost\n",
    "## !pip install onnxmltools\n",
    "## !pip install onnxruntime\n",
    "## !pip install pandas\n",
    "## !pip install scikit-learn\n",
    "## !pip install matplotlib\n",
    "## !pip install seaborn\n",
    "## !pip install mlxtend\n",
    "## ! pip install skl2onnx\n"
   ]
  },
  {
   "cell_type": "markdown",
   "id": "ebb037f5",
   "metadata": {},
   "source": [
    "\n",
    "## Imports\n"
   ]
  },
  {
   "cell_type": "code",
   "execution_count": 2,
   "id": "976f2c8b",
   "metadata": {},
   "outputs": [],
   "source": [
    "\n",
    "import torch\n",
    "import numpy as np\n",
    "import pandas as pd\n",
    "import sklearn\n",
    "import torch.nn as nn\n",
    "import torch.nn.functional as F\n",
    "\n",
    "import matplotlib.pyplot as plt\n",
    "import math\n",
    "import seaborn as sns\n",
    "import random\n",
    "import functorch\n",
    "\n",
    "\n",
    "import torch.optim as optim\n",
    "\n",
    "\n",
    "from numpy.random import normal\n",
    "from scipy.stats import norm\n",
    "import scipy.stats as stats\n",
    "from numpy import hstack\n",
    "from numpy import vstack\n",
    "from numpy import exp\n",
    "from sklearn.neighbors import KernelDensity\n",
    "\n",
    "##from typing import Optional\n",
    "\n",
    "from torch import Tensor\n",
    "\n",
    "\n",
    "from torch.utils.data import TensorDataset, DataLoader\n",
    "\n",
    "from mlxtend.plotting import heatmap\n",
    "\n",
    "## coefficient of determination (R**2)\n",
    "from sklearn.metrics import r2_score\n",
    "\n",
    "np.set_printoptions(suppress=True)\n",
    "torch.set_printoptions(sci_mode=False)\n",
    "\n",
    "from sklearn.metrics import mean_absolute_error, mean_squared_error, r2_score\n"
   ]
  },
  {
   "cell_type": "code",
   "execution_count": 3,
   "id": "1d1e5d18",
   "metadata": {},
   "outputs": [],
   "source": [
    "\n",
    "import xgboost as xgb\n",
    "from xgboost import XGBClassifier, XGBRegressor, DMatrix, train as train_xgb\n",
    "from sklearn.datasets import load_boston\n",
    "from sklearn.model_selection import train_test_split\n",
    "from sklearn.metrics import mean_squared_error\n",
    "from sklearn.pipeline import Pipeline\n",
    "from sklearn.preprocessing import StandardScaler\n",
    "\n",
    "import onnxmltools\n",
    "from onnxmltools.convert.xgboost.operator_converters.XGBoost import (\n",
    "    convert_xgboost)\n",
    "from onnxmltools.convert import convert_xgboost as convert_xgboost_booster\n",
    "\n",
    "\n",
    "from zipfile import ZipFile\n",
    "from skl2onnx.common.data_types import FloatTensorType\n",
    "from skl2onnx import convert_sklearn, to_onnx, update_registered_converter\n",
    "from skl2onnx.common.shape_calculator import (\n",
    "    calculate_linear_classifier_output_shapes,\n",
    "    calculate_linear_regressor_output_shapes)\n",
    "\n",
    "\n",
    "# Import the ONNX runtime environment\n",
    "import onnxruntime as rt\n",
    "\n"
   ]
  },
  {
   "cell_type": "code",
   "execution_count": 4,
   "id": "b62c5c0d",
   "metadata": {},
   "outputs": [],
   "source": [
    "\n",
    "import PDFshapingUtils as PDF_tk\n"
   ]
  },
  {
   "cell_type": "markdown",
   "id": "7acae472",
   "metadata": {},
   "source": [
    "\n",
    "## Instantiate PDF shaping and regression class\n"
   ]
  },
  {
   "cell_type": "code",
   "execution_count": 5,
   "id": "0398adc8",
   "metadata": {},
   "outputs": [],
   "source": [
    "\n",
    "PDFshapingOBJ = PDF_tk.PDFshapingUtils()\n"
   ]
  },
  {
   "cell_type": "markdown",
   "id": "c4147cd3",
   "metadata": {},
   "source": [
    "\n",
    "## Initialize parameters\n"
   ]
  },
  {
   "cell_type": "code",
   "execution_count": 6,
   "id": "33351992",
   "metadata": {},
   "outputs": [],
   "source": [
    "\n",
    "PDFshapingOBJ.N_error_range = 5         ## 20\n",
    "PDFshapingOBJ.mean_impulse  = 0.0       ## -7.0      ## 0.0\n",
    "PDFshapingOBJ.std_impulse   = 0.001     ## 1.0\n",
    "PDFshapingOBJ.kde_std       = 0.5       ## 0.1       ## 0.5      ## 3.0  ## smaller is better approximation?\n",
    "PDFshapingOBJ.bandwidth     = 0.2       ## 0.2->more jagged, 2.0->more smooth\n"
   ]
  },
  {
   "cell_type": "code",
   "execution_count": 7,
   "id": "1f3e1ea8",
   "metadata": {},
   "outputs": [],
   "source": [
    "\n",
    "PDFshapingOBJ.initializeImpulseGaussian()\n"
   ]
  },
  {
   "cell_type": "markdown",
   "id": "4ac9d820",
   "metadata": {},
   "source": [
    "\n",
    "## Load Data\n"
   ]
  },
  {
   "cell_type": "code",
   "execution_count": 8,
   "id": "83fb3b5a",
   "metadata": {},
   "outputs": [],
   "source": [
    "\n",
    "df_synthetic_data_for_inverse = PDFshapingOBJ.load_synth_folder_to_pandas(\"SyntheticCorpus\", flatten=True)\n"
   ]
  },
  {
   "cell_type": "code",
   "execution_count": 9,
   "id": "c778ddea",
   "metadata": {},
   "outputs": [],
   "source": [
    "\n",
    "PDFshapingOBJ.CFD_raw_data = df_synthetic_data_for_inverse \n"
   ]
  },
  {
   "cell_type": "code",
   "execution_count": 10,
   "id": "0c808fb4",
   "metadata": {},
   "outputs": [],
   "source": [
    "\n",
    "PDFshapingOBJ.headers_list = PDFshapingOBJ.CFD_raw_data.columns.values.tolist()\n"
   ]
  },
  {
   "cell_type": "code",
   "execution_count": 11,
   "id": "9fb2a300",
   "metadata": {},
   "outputs": [
    {
     "data": {
      "text/html": [
       "<div>\n",
       "<style scoped>\n",
       "    .dataframe tbody tr th:only-of-type {\n",
       "        vertical-align: middle;\n",
       "    }\n",
       "\n",
       "    .dataframe tbody tr th {\n",
       "        vertical-align: top;\n",
       "    }\n",
       "\n",
       "    .dataframe thead th {\n",
       "        text-align: right;\n",
       "    }\n",
       "</style>\n",
       "<table border=\"1\" class=\"dataframe\">\n",
       "  <thead>\n",
       "    <tr style=\"text-align: right;\">\n",
       "      <th></th>\n",
       "      <th>clamp_min_0</th>\n",
       "      <th>clamp_min_1</th>\n",
       "      <th>clamp_min_2</th>\n",
       "      <th>clamp_min_3</th>\n",
       "      <th>clamp_min_4</th>\n",
       "      <th>clamp_min_5</th>\n",
       "      <th>clamp_min_6</th>\n",
       "      <th>final_input_0</th>\n",
       "      <th>final_input_1</th>\n",
       "      <th>final_input_2</th>\n",
       "      <th>...</th>\n",
       "      <th>lower_bounds_glob_2</th>\n",
       "      <th>lower_bounds_glob_3</th>\n",
       "      <th>final_output_0</th>\n",
       "      <th>final_output_1</th>\n",
       "      <th>final_output_2</th>\n",
       "      <th>final_output_3</th>\n",
       "      <th>upper_bounds_glob_0</th>\n",
       "      <th>upper_bounds_glob_1</th>\n",
       "      <th>upper_bounds_glob_2</th>\n",
       "      <th>upper_bounds_glob_3</th>\n",
       "    </tr>\n",
       "  </thead>\n",
       "  <tbody>\n",
       "    <tr>\n",
       "      <th>0</th>\n",
       "      <td>0.0</td>\n",
       "      <td>0.0</td>\n",
       "      <td>0.0</td>\n",
       "      <td>0.0</td>\n",
       "      <td>0.0</td>\n",
       "      <td>1150.0</td>\n",
       "      <td>100.0</td>\n",
       "      <td>30.913000</td>\n",
       "      <td>605.179993</td>\n",
       "      <td>70.586998</td>\n",
       "      <td>...</td>\n",
       "      <td>12.201427</td>\n",
       "      <td>8336.685547</td>\n",
       "      <td>2412.514893</td>\n",
       "      <td>807.518005</td>\n",
       "      <td>34.897999</td>\n",
       "      <td>9327.898438</td>\n",
       "      <td>2457.082764</td>\n",
       "      <td>945.653198</td>\n",
       "      <td>43.632729</td>\n",
       "      <td>9949.238281</td>\n",
       "    </tr>\n",
       "    <tr>\n",
       "      <th>1</th>\n",
       "      <td>0.0</td>\n",
       "      <td>0.0</td>\n",
       "      <td>0.0</td>\n",
       "      <td>0.0</td>\n",
       "      <td>0.0</td>\n",
       "      <td>1150.0</td>\n",
       "      <td>100.0</td>\n",
       "      <td>8.196000</td>\n",
       "      <td>849.021973</td>\n",
       "      <td>84.723000</td>\n",
       "      <td>...</td>\n",
       "      <td>136.951645</td>\n",
       "      <td>6527.677734</td>\n",
       "      <td>2218.454102</td>\n",
       "      <td>1723.489990</td>\n",
       "      <td>117.444000</td>\n",
       "      <td>7630.222168</td>\n",
       "      <td>2384.780273</td>\n",
       "      <td>1846.199707</td>\n",
       "      <td>161.503098</td>\n",
       "      <td>8197.164062</td>\n",
       "    </tr>\n",
       "    <tr>\n",
       "      <th>2</th>\n",
       "      <td>0.0</td>\n",
       "      <td>0.0</td>\n",
       "      <td>0.0</td>\n",
       "      <td>0.0</td>\n",
       "      <td>0.0</td>\n",
       "      <td>1150.0</td>\n",
       "      <td>100.0</td>\n",
       "      <td>19.176001</td>\n",
       "      <td>385.032013</td>\n",
       "      <td>47.999001</td>\n",
       "      <td>...</td>\n",
       "      <td>70.967445</td>\n",
       "      <td>8830.876953</td>\n",
       "      <td>2063.924072</td>\n",
       "      <td>555.703979</td>\n",
       "      <td>71.166000</td>\n",
       "      <td>9310.989258</td>\n",
       "      <td>2061.797363</td>\n",
       "      <td>814.313354</td>\n",
       "      <td>80.050781</td>\n",
       "      <td>9196.826172</td>\n",
       "    </tr>\n",
       "    <tr>\n",
       "      <th>3</th>\n",
       "      <td>0.0</td>\n",
       "      <td>0.0</td>\n",
       "      <td>0.0</td>\n",
       "      <td>0.0</td>\n",
       "      <td>0.0</td>\n",
       "      <td>1150.0</td>\n",
       "      <td>100.0</td>\n",
       "      <td>10.705000</td>\n",
       "      <td>609.044983</td>\n",
       "      <td>39.851002</td>\n",
       "      <td>...</td>\n",
       "      <td>72.513382</td>\n",
       "      <td>9474.287109</td>\n",
       "      <td>2383.951904</td>\n",
       "      <td>1627.159058</td>\n",
       "      <td>77.302002</td>\n",
       "      <td>10752.974609</td>\n",
       "      <td>2449.659424</td>\n",
       "      <td>2199.852051</td>\n",
       "      <td>110.303909</td>\n",
       "      <td>10992.480469</td>\n",
       "    </tr>\n",
       "    <tr>\n",
       "      <th>4</th>\n",
       "      <td>0.0</td>\n",
       "      <td>0.0</td>\n",
       "      <td>0.0</td>\n",
       "      <td>0.0</td>\n",
       "      <td>0.0</td>\n",
       "      <td>1150.0</td>\n",
       "      <td>100.0</td>\n",
       "      <td>19.545000</td>\n",
       "      <td>775.119995</td>\n",
       "      <td>68.838997</td>\n",
       "      <td>...</td>\n",
       "      <td>106.992905</td>\n",
       "      <td>7615.858398</td>\n",
       "      <td>2229.862061</td>\n",
       "      <td>1464.323975</td>\n",
       "      <td>102.764999</td>\n",
       "      <td>8250.154297</td>\n",
       "      <td>2437.204590</td>\n",
       "      <td>1541.996338</td>\n",
       "      <td>135.790146</td>\n",
       "      <td>8403.231445</td>\n",
       "    </tr>\n",
       "    <tr>\n",
       "      <th>...</th>\n",
       "      <td>...</td>\n",
       "      <td>...</td>\n",
       "      <td>...</td>\n",
       "      <td>...</td>\n",
       "      <td>...</td>\n",
       "      <td>...</td>\n",
       "      <td>...</td>\n",
       "      <td>...</td>\n",
       "      <td>...</td>\n",
       "      <td>...</td>\n",
       "      <td>...</td>\n",
       "      <td>...</td>\n",
       "      <td>...</td>\n",
       "      <td>...</td>\n",
       "      <td>...</td>\n",
       "      <td>...</td>\n",
       "      <td>...</td>\n",
       "      <td>...</td>\n",
       "      <td>...</td>\n",
       "      <td>...</td>\n",
       "      <td>...</td>\n",
       "    </tr>\n",
       "    <tr>\n",
       "      <th>155</th>\n",
       "      <td>0.0</td>\n",
       "      <td>0.0</td>\n",
       "      <td>0.0</td>\n",
       "      <td>0.0</td>\n",
       "      <td>0.0</td>\n",
       "      <td>1150.0</td>\n",
       "      <td>100.0</td>\n",
       "      <td>23.858000</td>\n",
       "      <td>759.765015</td>\n",
       "      <td>57.305000</td>\n",
       "      <td>...</td>\n",
       "      <td>93.745247</td>\n",
       "      <td>8092.908691</td>\n",
       "      <td>2377.839111</td>\n",
       "      <td>1478.128052</td>\n",
       "      <td>92.150002</td>\n",
       "      <td>8597.575195</td>\n",
       "      <td>2428.693604</td>\n",
       "      <td>2075.100830</td>\n",
       "      <td>137.209122</td>\n",
       "      <td>9675.949219</td>\n",
       "    </tr>\n",
       "    <tr>\n",
       "      <th>156</th>\n",
       "      <td>0.0</td>\n",
       "      <td>0.0</td>\n",
       "      <td>0.0</td>\n",
       "      <td>0.0</td>\n",
       "      <td>0.0</td>\n",
       "      <td>1150.0</td>\n",
       "      <td>100.0</td>\n",
       "      <td>15.391000</td>\n",
       "      <td>946.646973</td>\n",
       "      <td>77.273003</td>\n",
       "      <td>...</td>\n",
       "      <td>66.551659</td>\n",
       "      <td>8981.023438</td>\n",
       "      <td>2572.766113</td>\n",
       "      <td>1936.387939</td>\n",
       "      <td>73.183998</td>\n",
       "      <td>9273.188477</td>\n",
       "      <td>2670.626953</td>\n",
       "      <td>2184.010742</td>\n",
       "      <td>96.083076</td>\n",
       "      <td>9712.229492</td>\n",
       "    </tr>\n",
       "    <tr>\n",
       "      <th>157</th>\n",
       "      <td>0.0</td>\n",
       "      <td>0.0</td>\n",
       "      <td>0.0</td>\n",
       "      <td>0.0</td>\n",
       "      <td>0.0</td>\n",
       "      <td>1150.0</td>\n",
       "      <td>100.0</td>\n",
       "      <td>21.216999</td>\n",
       "      <td>517.351990</td>\n",
       "      <td>47.403999</td>\n",
       "      <td>...</td>\n",
       "      <td>88.621223</td>\n",
       "      <td>9398.181641</td>\n",
       "      <td>2091.215088</td>\n",
       "      <td>504.355988</td>\n",
       "      <td>91.134003</td>\n",
       "      <td>10011.727539</td>\n",
       "      <td>2163.517334</td>\n",
       "      <td>924.842590</td>\n",
       "      <td>106.366951</td>\n",
       "      <td>10341.786133</td>\n",
       "    </tr>\n",
       "    <tr>\n",
       "      <th>158</th>\n",
       "      <td>0.0</td>\n",
       "      <td>0.0</td>\n",
       "      <td>0.0</td>\n",
       "      <td>0.0</td>\n",
       "      <td>0.0</td>\n",
       "      <td>1150.0</td>\n",
       "      <td>100.0</td>\n",
       "      <td>20.695000</td>\n",
       "      <td>735.875000</td>\n",
       "      <td>60.167000</td>\n",
       "      <td>...</td>\n",
       "      <td>78.929237</td>\n",
       "      <td>7034.716797</td>\n",
       "      <td>2237.495117</td>\n",
       "      <td>1388.083984</td>\n",
       "      <td>97.424004</td>\n",
       "      <td>7873.049805</td>\n",
       "      <td>2335.684570</td>\n",
       "      <td>1612.003174</td>\n",
       "      <td>118.919418</td>\n",
       "      <td>7760.502441</td>\n",
       "    </tr>\n",
       "    <tr>\n",
       "      <th>159</th>\n",
       "      <td>0.0</td>\n",
       "      <td>0.0</td>\n",
       "      <td>0.0</td>\n",
       "      <td>0.0</td>\n",
       "      <td>0.0</td>\n",
       "      <td>1150.0</td>\n",
       "      <td>100.0</td>\n",
       "      <td>19.958000</td>\n",
       "      <td>552.245972</td>\n",
       "      <td>88.442001</td>\n",
       "      <td>...</td>\n",
       "      <td>82.894943</td>\n",
       "      <td>7429.264648</td>\n",
       "      <td>2089.403076</td>\n",
       "      <td>1178.188965</td>\n",
       "      <td>92.000999</td>\n",
       "      <td>8398.595703</td>\n",
       "      <td>2125.867188</td>\n",
       "      <td>1476.782227</td>\n",
       "      <td>117.444214</td>\n",
       "      <td>9028.053711</td>\n",
       "    </tr>\n",
       "  </tbody>\n",
       "</table>\n",
       "<p>160 rows × 33 columns</p>\n",
       "</div>"
      ],
      "text/plain": [
       "     clamp_min_0  clamp_min_1  clamp_min_2  clamp_min_3  clamp_min_4  \\\n",
       "0            0.0          0.0          0.0          0.0          0.0   \n",
       "1            0.0          0.0          0.0          0.0          0.0   \n",
       "2            0.0          0.0          0.0          0.0          0.0   \n",
       "3            0.0          0.0          0.0          0.0          0.0   \n",
       "4            0.0          0.0          0.0          0.0          0.0   \n",
       "..           ...          ...          ...          ...          ...   \n",
       "155          0.0          0.0          0.0          0.0          0.0   \n",
       "156          0.0          0.0          0.0          0.0          0.0   \n",
       "157          0.0          0.0          0.0          0.0          0.0   \n",
       "158          0.0          0.0          0.0          0.0          0.0   \n",
       "159          0.0          0.0          0.0          0.0          0.0   \n",
       "\n",
       "     clamp_min_5  clamp_min_6  final_input_0  final_input_1  final_input_2  \\\n",
       "0         1150.0        100.0      30.913000     605.179993      70.586998   \n",
       "1         1150.0        100.0       8.196000     849.021973      84.723000   \n",
       "2         1150.0        100.0      19.176001     385.032013      47.999001   \n",
       "3         1150.0        100.0      10.705000     609.044983      39.851002   \n",
       "4         1150.0        100.0      19.545000     775.119995      68.838997   \n",
       "..           ...          ...            ...            ...            ...   \n",
       "155       1150.0        100.0      23.858000     759.765015      57.305000   \n",
       "156       1150.0        100.0      15.391000     946.646973      77.273003   \n",
       "157       1150.0        100.0      21.216999     517.351990      47.403999   \n",
       "158       1150.0        100.0      20.695000     735.875000      60.167000   \n",
       "159       1150.0        100.0      19.958000     552.245972      88.442001   \n",
       "\n",
       "     ...  lower_bounds_glob_2  lower_bounds_glob_3  final_output_0  \\\n",
       "0    ...            12.201427          8336.685547     2412.514893   \n",
       "1    ...           136.951645          6527.677734     2218.454102   \n",
       "2    ...            70.967445          8830.876953     2063.924072   \n",
       "3    ...            72.513382          9474.287109     2383.951904   \n",
       "4    ...           106.992905          7615.858398     2229.862061   \n",
       "..   ...                  ...                  ...             ...   \n",
       "155  ...            93.745247          8092.908691     2377.839111   \n",
       "156  ...            66.551659          8981.023438     2572.766113   \n",
       "157  ...            88.621223          9398.181641     2091.215088   \n",
       "158  ...            78.929237          7034.716797     2237.495117   \n",
       "159  ...            82.894943          7429.264648     2089.403076   \n",
       "\n",
       "     final_output_1  final_output_2  final_output_3  upper_bounds_glob_0  \\\n",
       "0        807.518005       34.897999     9327.898438          2457.082764   \n",
       "1       1723.489990      117.444000     7630.222168          2384.780273   \n",
       "2        555.703979       71.166000     9310.989258          2061.797363   \n",
       "3       1627.159058       77.302002    10752.974609          2449.659424   \n",
       "4       1464.323975      102.764999     8250.154297          2437.204590   \n",
       "..              ...             ...             ...                  ...   \n",
       "155     1478.128052       92.150002     8597.575195          2428.693604   \n",
       "156     1936.387939       73.183998     9273.188477          2670.626953   \n",
       "157      504.355988       91.134003    10011.727539          2163.517334   \n",
       "158     1388.083984       97.424004     7873.049805          2335.684570   \n",
       "159     1178.188965       92.000999     8398.595703          2125.867188   \n",
       "\n",
       "     upper_bounds_glob_1  upper_bounds_glob_2  upper_bounds_glob_3  \n",
       "0             945.653198            43.632729          9949.238281  \n",
       "1            1846.199707           161.503098          8197.164062  \n",
       "2             814.313354            80.050781          9196.826172  \n",
       "3            2199.852051           110.303909         10992.480469  \n",
       "4            1541.996338           135.790146          8403.231445  \n",
       "..                   ...                  ...                  ...  \n",
       "155          2075.100830           137.209122          9675.949219  \n",
       "156          2184.010742            96.083076          9712.229492  \n",
       "157           924.842590           106.366951         10341.786133  \n",
       "158          1612.003174           118.919418          7760.502441  \n",
       "159          1476.782227           117.444214          9028.053711  \n",
       "\n",
       "[160 rows x 33 columns]"
      ]
     },
     "execution_count": 11,
     "metadata": {},
     "output_type": "execute_result"
    }
   ],
   "source": [
    "\n",
    "PDFshapingOBJ.CFD_raw_data\n"
   ]
  },
  {
   "cell_type": "code",
   "execution_count": 12,
   "id": "805b0aa6",
   "metadata": {},
   "outputs": [
    {
     "name": "stdout",
     "output_type": "stream",
     "text": [
      "['clamp_min_0', 'clamp_min_1', 'clamp_min_2', 'clamp_min_3', 'clamp_min_4', 'clamp_min_5', 'clamp_min_6', 'final_input_0', 'final_input_1', 'final_input_2', 'final_input_3', 'final_input_4', 'final_input_5', 'final_input_6', 'clamp_max_0', 'clamp_max_1', 'clamp_max_2', 'clamp_max_3', 'clamp_max_4', 'clamp_max_5', 'clamp_max_6', 'lower_bounds_glob_0', 'lower_bounds_glob_1', 'lower_bounds_glob_2', 'lower_bounds_glob_3', 'final_output_0', 'final_output_1', 'final_output_2', 'final_output_3', 'upper_bounds_glob_0', 'upper_bounds_glob_1', 'upper_bounds_glob_2', 'upper_bounds_glob_3']\n",
      "33\n",
      "(0, 'clamp_min_0')\n",
      "(1, 'clamp_min_1')\n",
      "(2, 'clamp_min_2')\n",
      "(3, 'clamp_min_3')\n",
      "(4, 'clamp_min_4')\n",
      "(5, 'clamp_min_5')\n",
      "(6, 'clamp_min_6')\n",
      "(7, 'final_input_0')\n",
      "(8, 'final_input_1')\n",
      "(9, 'final_input_2')\n",
      "(10, 'final_input_3')\n",
      "(11, 'final_input_4')\n",
      "(12, 'final_input_5')\n",
      "(13, 'final_input_6')\n",
      "(14, 'clamp_max_0')\n",
      "(15, 'clamp_max_1')\n",
      "(16, 'clamp_max_2')\n",
      "(17, 'clamp_max_3')\n",
      "(18, 'clamp_max_4')\n",
      "(19, 'clamp_max_5')\n",
      "(20, 'clamp_max_6')\n",
      "(21, 'lower_bounds_glob_0')\n",
      "(22, 'lower_bounds_glob_1')\n",
      "(23, 'lower_bounds_glob_2')\n",
      "(24, 'lower_bounds_glob_3')\n",
      "(25, 'final_output_0')\n",
      "(26, 'final_output_1')\n",
      "(27, 'final_output_2')\n",
      "(28, 'final_output_3')\n",
      "(29, 'upper_bounds_glob_0')\n",
      "(30, 'upper_bounds_glob_1')\n",
      "(31, 'upper_bounds_glob_2')\n",
      "(32, 'upper_bounds_glob_3')\n"
     ]
    }
   ],
   "source": [
    "\n",
    "PDFshapingOBJ.print_headers_list()\n"
   ]
  },
  {
   "cell_type": "code",
   "execution_count": 13,
   "id": "d57e4c15",
   "metadata": {},
   "outputs": [
    {
     "data": {
      "text/plain": [
       "\"\\n\\n\\nPDFshapingOBJ.list_of_selected_column_names = ['i_h2i_rate','i_h2_temp','i_ngi_rate','i_ng_temp','i_pci_rate',\\n                    'i_wpi_rate','i_o2_volfract',\\n                    'i_hbtemp','i_wind_rt','o_prod_rt', 'o_tgt', 'o_hmt','o_fta']\\n\\n\\n\\nPDFshapingOBJ.print_correlation_coefficients()\\n\\n\""
      ]
     },
     "execution_count": 13,
     "metadata": {},
     "output_type": "execute_result"
    }
   ],
   "source": [
    "'''\n",
    "\n",
    "\n",
    "PDFshapingOBJ.list_of_selected_column_names = ['i_h2i_rate','i_h2_temp','i_ngi_rate','i_ng_temp','i_pci_rate',\n",
    "                    'i_wpi_rate','i_o2_volfract',\n",
    "                    'i_hbtemp','i_wind_rt','o_prod_rt', 'o_tgt', 'o_hmt','o_fta']\n",
    "\n",
    "\n",
    "\n",
    "PDFshapingOBJ.print_correlation_coefficients()\n",
    "\n",
    "'''\n"
   ]
  },
  {
   "cell_type": "code",
   "execution_count": 14,
   "id": "ac298349",
   "metadata": {},
   "outputs": [
    {
     "name": "stdout",
     "output_type": "stream",
     "text": [
      "[[    0.             0.             0.         ...   945.65319824\n",
      "     43.63272858  9949.23828125]\n",
      " [    0.             0.             0.         ...  1846.19970703\n",
      "    161.50309753  8197.1640625 ]\n",
      " [    0.             0.             0.         ...   814.31335449\n",
      "     80.05078125  9196.82617188]\n",
      " ...\n",
      " [    0.             0.             0.         ...   924.84259033\n",
      "    106.36695099 10341.78613281]\n",
      " [    0.             0.             0.         ...  1612.00317383\n",
      "    118.91941833  7760.50244141]\n",
      " [    0.             0.             0.         ...  1476.78222656\n",
      "    117.44421387  9028.05371094]]\n",
      "(160, 33)\n"
     ]
    }
   ],
   "source": [
    "\n",
    "PDFshapingOBJ.convert_pd_data_to_numpy()\n"
   ]
  },
  {
   "cell_type": "markdown",
   "id": "60c6a7ed",
   "metadata": {},
   "source": [
    "\n",
    "## Select inputs and outputs\n"
   ]
  },
  {
   "cell_type": "code",
   "execution_count": 15,
   "id": "82175b15",
   "metadata": {},
   "outputs": [
    {
     "name": "stdout",
     "output_type": "stream",
     "text": [
      "8\n",
      "7\n"
     ]
    }
   ],
   "source": [
    "\n",
    "\n",
    "\n",
    "'''\n",
    "(21, 'lower_bounds_glob_0')\n",
    "(22, 'lower_bounds_glob_1')\n",
    "(23, 'lower_bounds_glob_2')\n",
    "(24, 'lower_bounds_glob_3')\n",
    "\n",
    "(29, 'upper_bounds_glob_0')\n",
    "(30, 'upper_bounds_glob_1')\n",
    "(31, 'upper_bounds_glob_2')\n",
    "(32, 'upper_bounds_glob_3')\n",
    "'''\n",
    "\n",
    "\n",
    "\n",
    "\n",
    "PDFshapingOBJ.gen_X_y_for_selected_indeces(  \n",
    "                   inputs = [ 21,22,23,24,    29,30,31,32 ] ,  \n",
    "                   outputs= [  7, 8, 9, 10, 11, 12, 13 ]   \n",
    ")\n"
   ]
  },
  {
   "cell_type": "code",
   "execution_count": 16,
   "id": "d2df9b9e",
   "metadata": {},
   "outputs": [
    {
     "name": "stdout",
     "output_type": "stream",
     "text": [
      "(160, 8)\n",
      "(160, 7)\n"
     ]
    }
   ],
   "source": [
    "\n",
    "print(PDFshapingOBJ.X.shape)\n",
    "print(PDFshapingOBJ.y.shape)\n"
   ]
  },
  {
   "cell_type": "code",
   "execution_count": 17,
   "id": "3eadabb9",
   "metadata": {},
   "outputs": [],
   "source": [
    "\n",
    "PDFshapingOBJ.random_seed = int( random.random() * 100  )         ## defautl is 42\n"
   ]
  },
  {
   "cell_type": "code",
   "execution_count": 18,
   "id": "ca944d87",
   "metadata": {},
   "outputs": [
    {
     "name": "stdout",
     "output_type": "stream",
     "text": [
      "(128, 8)\n",
      "(32, 8)\n",
      "(128, 7)\n",
      "(32, 7)\n"
     ]
    }
   ],
   "source": [
    "\n",
    "PDFshapingOBJ.split_np_data_train_test(selected_test_size=0.2)\n"
   ]
  },
  {
   "cell_type": "code",
   "execution_count": 19,
   "id": "bba1eb32",
   "metadata": {},
   "outputs": [],
   "source": [
    "\n",
    "PDFshapingOBJ.convert_dataset_from_np_to_torch()\n"
   ]
  },
  {
   "cell_type": "code",
   "execution_count": 20,
   "id": "61373d5f",
   "metadata": {},
   "outputs": [],
   "source": [
    "\n",
    "PDFshapingOBJ.standardize_X_scales()\n",
    "PDFshapingOBJ.standardize_y_scales()\n"
   ]
  },
  {
   "cell_type": "code",
   "execution_count": 21,
   "id": "d08b752c",
   "metadata": {},
   "outputs": [
    {
     "data": {
      "text/plain": [
       "<torch.utils.data.dataloader.DataLoader at 0x7f2c439e2a90>"
      ]
     },
     "execution_count": 21,
     "metadata": {},
     "output_type": "execute_result"
    }
   ],
   "source": [
    "\n",
    "PDFshapingOBJ.gen_Dataloader_train()\n",
    "\n",
    "PDFshapingOBJ.train_dl\n"
   ]
  },
  {
   "cell_type": "code",
   "execution_count": 22,
   "id": "c5c7e692",
   "metadata": {},
   "outputs": [],
   "source": [
    "\n",
    "n_inputs  = 8\n",
    "n_outputs = 7\n",
    "\n",
    "class ResidualNet(nn.Module):\n",
    "    def __init__(self, x_means, x_deviations, y_means, y_deviations, dropout_rate=0.1, device='cuda'):\n",
    "        \n",
    "        super().__init__()\n",
    "        self.device = device\n",
    "        \n",
    "        self.x_means      = x_means.to(self.device)\n",
    "        self.x_deviations = x_deviations.to(self.device)\n",
    "        self.y_means      = y_means.to(self.device)\n",
    "        self.y_deviations = y_deviations.to(self.device)\n",
    "\n",
    "     \n",
    "        self.fc1  = nn.Linear(n_inputs, 64)\n",
    "        self.act1 = nn.ReLU()\n",
    "        self.dropout1 = nn.Dropout(dropout_rate)\n",
    "\n",
    "        self.fc2 = nn.Linear(64, 64)\n",
    "        self.act2 = nn.ReLU()\n",
    "        self.dropout2 = nn.Dropout(dropout_rate)\n",
    "\n",
    "        self.fc3 = nn.Linear(64, n_outputs)\n",
    "\n",
    "        # If input_dim ≠ 64, project for residual addition\n",
    "        self.input_proj = nn.Linear(n_inputs, 64) if n_inputs != 64 else nn.Identity()\n",
    "        \n",
    "        # Move model to device\n",
    "        self.to(self.device)\n",
    "        \n",
    "\n",
    "    def forward(self, x):\n",
    "        x  = x.to(self.device)\n",
    "        x  = (x - self.x_means) / self.x_deviations\n",
    "        x0 = self.input_proj(x)\n",
    "        x1 = self.dropout1(self.act1(self.fc1(x)))\n",
    "        x2 = self.dropout2(self.act2(self.fc2(x1)))\n",
    "        x_res = x2 + x0\n",
    "        y_scaled = self.fc3(x_res)\n",
    "        y_descaled = y_scaled * self.y_deviations + self.y_means\n",
    "        \n",
    "        return y_descaled, y_scaled\n",
    "    \n",
    "    \n"
   ]
  },
  {
   "cell_type": "code",
   "execution_count": 23,
   "id": "5f432964",
   "metadata": {},
   "outputs": [],
   "source": [
    "\n",
    "device = torch.device('cuda' if torch.cuda.is_available() else 'cpu')\n",
    "\n",
    "model     = ResidualNet(\n",
    "             PDFshapingOBJ.x_means, \n",
    "             PDFshapingOBJ.x_deviations, \n",
    "             PDFshapingOBJ.y_means, \n",
    "             PDFshapingOBJ.y_deviations,\n",
    "             device=device  # pass device into the model\n",
    "    \n",
    ")\n",
    "\n",
    "optimizer = optim.Adam(model.parameters(), lr=0.001)\n",
    "loss_fn   = nn.MSELoss()\n",
    "\n",
    "\n"
   ]
  },
  {
   "cell_type": "code",
   "execution_count": 24,
   "id": "d22a9dd9",
   "metadata": {},
   "outputs": [
    {
     "name": "stdout",
     "output_type": "stream",
     "text": [
      "0 ..... 0.8415763974189758\n",
      "100 ..... 0.22225098311901093\n",
      "200 ..... 0.14222905039787292\n",
      "300 ..... 0.09135176986455917\n",
      "400 ..... 0.1499253213405609\n",
      "500 ..... 0.06743141263723373\n",
      "600 ..... 0.0501396618783474\n",
      "700 ..... 0.05051017925143242\n",
      "800 ..... 0.03698539361357689\n",
      "900 ..... 0.03827572986483574\n"
     ]
    }
   ],
   "source": [
    "\n",
    "model.train()\n",
    "\n",
    "for epoch in range(1000):\n",
    "    for xb, yb in PDFshapingOBJ.train_dl:\n",
    "        \n",
    "        xb = xb.to(model.device)\n",
    "        yb = yb.to(model.device)\n",
    "        \n",
    "        optimizer.zero_grad()\n",
    "        pred_descaled, pred_scaled = model(xb)\n",
    "        loss = loss_fn(pred_scaled, yb)\n",
    "        loss.backward()\n",
    "        optimizer.step()\n",
    "    if epoch % 100 == 0:\n",
    "        print(epoch, \".....\", loss.item() ) \n",
    "    \n",
    "\n",
    "\n",
    "    "
   ]
  },
  {
   "cell_type": "code",
   "execution_count": 25,
   "id": "c7a13532",
   "metadata": {},
   "outputs": [
    {
     "name": "stdout",
     "output_type": "stream",
     "text": [
      "=== SANITY CHECK: SCALING ===\n",
      "y_means: tensor([[  18.9724,  739.1686,   56.9263,   62.2738,   28.4872, 1395.5881,\n",
      "          194.1112]])\n",
      "y_deviations: tensor([[  8.1668, 199.8139,  25.4188,  31.3017,   6.3484,  54.6121,  32.5499]])\n",
      "===============================================\n",
      "x_means: tensor([[2249.3965, 1157.8499,   72.0484, 8123.1006, 2404.3506, 1555.1772,\n",
      "          100.1305, 9152.0352]])\n",
      "x_deviations: tensor([[ 176.2738,  586.9822,   42.0676, 1273.3890,  189.1688,  600.4334,\n",
      "           43.0604, 1338.2035]])\n"
     ]
    }
   ],
   "source": [
    "\n",
    "print(\"=== SANITY CHECK: SCALING ===\")\n",
    "print(\"y_means:\", PDFshapingOBJ.y_means)\n",
    "print(\"y_deviations:\", PDFshapingOBJ.y_deviations)\n",
    "\n",
    "print(\"===============================================\")\n",
    "\n",
    "print(\"x_means:\", PDFshapingOBJ.x_means)\n",
    "print(\"x_deviations:\", PDFshapingOBJ.x_deviations)\n",
    "\n"
   ]
  },
  {
   "cell_type": "markdown",
   "id": "6ca1a292",
   "metadata": {},
   "source": [
    "\n",
    "## Test model\n"
   ]
  },
  {
   "cell_type": "code",
   "execution_count": 26,
   "id": "6f1ebf4f",
   "metadata": {},
   "outputs": [
    {
     "name": "stdout",
     "output_type": "stream",
     "text": [
      "tensor([2707.0635, 2021.4675,   58.6415, 7458.4072, 2779.5774, 2460.7207,\n",
      "          84.6981, 7890.9263])\n",
      "tensor([  13.5500,  981.6370,   30.6540,   19.1640,   31.5310, 1452.5420,\n",
      "         197.0270])\n"
     ]
    }
   ],
   "source": [
    "\n",
    "print( PDFshapingOBJ.X_test_tr[0] )\n",
    "print( PDFshapingOBJ.y_test_tr[0] )\n"
   ]
  },
  {
   "cell_type": "code",
   "execution_count": 27,
   "id": "af93fe73",
   "metadata": {},
   "outputs": [
    {
     "name": "stdout",
     "output_type": "stream",
     "text": [
      "torch.Size([32, 8])\n",
      "torch.Size([32, 7])\n"
     ]
    }
   ],
   "source": [
    "\n",
    "\n",
    "print( PDFshapingOBJ.X_test_tr.shape )\n",
    "print( PDFshapingOBJ.y_test_tr.shape )\n",
    "\n",
    "with torch.no_grad():\n",
    "    \n",
    "    pred_test_descaled, pred_test_scaled = model(  PDFshapingOBJ.X_test_tr  )\n"
   ]
  },
  {
   "cell_type": "code",
   "execution_count": 28,
   "id": "da5ed723",
   "metadata": {},
   "outputs": [
    {
     "name": "stdout",
     "output_type": "stream",
     "text": [
      "MAE: [  5.175151  128.34592    17.226624   15.871365    2.0290265  23.346806\n",
      "   7.773594 ]\n",
      "RMSE: [  7.1440663 176.14488    22.407133   20.728752    2.5812876  32.1756\n",
      "   9.214191 ]\n",
      "R2: [0.26235676 0.44771771 0.25511057 0.54981496 0.83291025 0.68454721\n",
      " 0.88031904]\n",
      "Overall averages: 28.538355 38.627987 0.5589680709116823\n"
     ]
    }
   ],
   "source": [
    "\n",
    "\n",
    "y_true = PDFshapingOBJ.y_test_tr.detach().cpu().numpy()\n",
    "\n",
    "y_pred = pred_test_descaled.detach().cpu().numpy()  # or use descaled pair\n",
    "\n",
    "mae  = mean_absolute_error(y_true, y_pred, multioutput='raw_values')\n",
    "rmse = mean_squared_error( y_true, y_pred, squared=False, multioutput='raw_values')\n",
    "r2   = r2_score(           y_true, y_pred, multioutput='raw_values')\n",
    "\n",
    "print(\"MAE:\", mae)\n",
    "print(\"RMSE:\", rmse)\n",
    "print(\"R2:\", r2)\n",
    "print(\"Overall averages:\", \n",
    "      mae.mean(), rmse.mean(), r2.mean())\n",
    "\n"
   ]
  },
  {
   "cell_type": "code",
   "execution_count": 29,
   "id": "b9456e75",
   "metadata": {},
   "outputs": [
    {
     "data": {
      "text/plain": [
       "array([0.26235676, 0.44771771, 0.25511057, 0.54981496, 0.83291025,\n",
       "       0.68454721, 0.88031904])"
      ]
     },
     "execution_count": 29,
     "metadata": {},
     "output_type": "execute_result"
    }
   ],
   "source": [
    "\n",
    "r2   = r2_score(           y_true, y_pred, multioutput='raw_values')\n",
    "r2\n"
   ]
  },
  {
   "cell_type": "code",
   "execution_count": 30,
   "id": "4ea10270",
   "metadata": {},
   "outputs": [
    {
     "data": {
      "text/plain": [
       "0.5589680709116823"
      ]
     },
     "execution_count": 30,
     "metadata": {},
     "output_type": "execute_result"
    }
   ],
   "source": [
    "\n",
    "r2.mean()\n"
   ]
  },
  {
   "cell_type": "code",
   "execution_count": 31,
   "id": "db8a7e4c",
   "metadata": {},
   "outputs": [
    {
     "name": "stdout",
     "output_type": "stream",
     "text": [
      "Testing R**2 - descaled: 0.3801857671222973\n"
     ]
    }
   ],
   "source": [
    "\n",
    "print('Testing R**2 - descaled:', r2_score( y_pred, y_true   )  )\n"
   ]
  },
  {
   "cell_type": "code",
   "execution_count": 32,
   "id": "8575e058",
   "metadata": {},
   "outputs": [
    {
     "name": "stdout",
     "output_type": "stream",
     "text": [
      "Testing R**2 - descaled: 0.5589680709116823\n"
     ]
    }
   ],
   "source": [
    "\n",
    "print('Testing R**2 - descaled:', r2_score( y_true,  y_pred   )  )\n"
   ]
  },
  {
   "cell_type": "code",
   "execution_count": 33,
   "id": "126f6541",
   "metadata": {},
   "outputs": [
    {
     "data": {
      "text/plain": [
       "tensor(0.5590, device='cuda:0')"
      ]
     },
     "execution_count": 33,
     "metadata": {},
     "output_type": "execute_result"
    }
   ],
   "source": [
    "\n",
    "PDFshapingOBJ.r2_score_torch(PDFshapingOBJ.y_test_tr.to(PDFshapingOBJ.device), pred_test_descaled).mean()\n"
   ]
  },
  {
   "cell_type": "code",
   "execution_count": null,
   "id": "a3a7a040",
   "metadata": {},
   "outputs": [],
   "source": []
  },
  {
   "cell_type": "markdown",
   "id": "d275850b",
   "metadata": {},
   "source": [
    "\n",
    "## ONNX\n"
   ]
  },
  {
   "cell_type": "code",
   "execution_count": null,
   "id": "283a78d5",
   "metadata": {},
   "outputs": [],
   "source": []
  },
  {
   "cell_type": "code",
   "execution_count": 34,
   "id": "c66447c9",
   "metadata": {},
   "outputs": [
    {
     "name": "stdout",
     "output_type": "stream",
     "text": [
      "ONNX model saved\n"
     ]
    }
   ],
   "source": [
    "\n",
    "import torch\n",
    "\n",
    "# Your trained model\n",
    "model.eval().float()\n",
    "\n",
    "\n",
    "dummy_input = torch.randn(1, 8, dtype=torch.float32)\n",
    "\n",
    "# Export to ONNX (single output called \"output1\")\n",
    "torch.onnx.export(\n",
    "    model,\n",
    "    dummy_input,\n",
    "    \"ONNXmodels/resNet_Inverse_syntheticData.onnx\",\n",
    "    input_names=[\"input1\"],\n",
    "    output_names=[\"output1\"],\n",
    "    opset_version=15,              # fine for onnxruntime-web\n",
    "    do_constant_folding=True,\n",
    "    dynamic_axes={\n",
    "        \"input1\": {0: \"batch\"},\n",
    "        \"output1\": {0: \"batch\"}\n",
    "    }\n",
    ")\n",
    "print(\"ONNX model saved\")\n",
    "\n"
   ]
  },
  {
   "cell_type": "code",
   "execution_count": null,
   "id": "25826f4d",
   "metadata": {},
   "outputs": [],
   "source": []
  },
  {
   "cell_type": "markdown",
   "id": "beaa608c",
   "metadata": {},
   "source": [
    "\n",
    "## XGBoost\n"
   ]
  },
  {
   "cell_type": "code",
   "execution_count": 35,
   "id": "dd8a6d9c",
   "metadata": {},
   "outputs": [],
   "source": [
    "\n",
    "regressor = xgb.XGBRegressor(\n",
    "    n_estimators=100,\n",
    "    reg_lambda=1,\n",
    "    gamma=0,\n",
    "    max_depth=3\n",
    ")\n"
   ]
  },
  {
   "cell_type": "code",
   "execution_count": 36,
   "id": "c45674ff",
   "metadata": {},
   "outputs": [
    {
     "data": {
      "text/plain": [
       "XGBRegressor(base_score=0.5, booster='gbtree', callbacks=None,\n",
       "             colsample_bylevel=1, colsample_bynode=1, colsample_bytree=1,\n",
       "             early_stopping_rounds=None, enable_categorical=False,\n",
       "             eval_metric=None, gamma=0, gpu_id=-1, grow_policy='depthwise',\n",
       "             importance_type=None, interaction_constraints='',\n",
       "             learning_rate=0.300000012, max_bin=256, max_cat_to_onehot=4,\n",
       "             max_delta_step=0, max_depth=3, max_leaves=0, min_child_weight=1,\n",
       "             missing=nan, monotone_constraints='()', n_estimators=100, n_jobs=0,\n",
       "             num_parallel_tree=1, predictor='auto', random_state=0, reg_alpha=0,\n",
       "             reg_lambda=1, ...)"
      ]
     },
     "execution_count": 36,
     "metadata": {},
     "output_type": "execute_result"
    }
   ],
   "source": [
    "\n",
    "regressor.fit(PDFshapingOBJ.X_train, PDFshapingOBJ.y_train)\n"
   ]
  },
  {
   "cell_type": "code",
   "execution_count": 37,
   "id": "f1f46489",
   "metadata": {},
   "outputs": [
    {
     "name": "stdout",
     "output_type": "stream",
     "text": [
      "128\n",
      "128\n"
     ]
    }
   ],
   "source": [
    "\n",
    "print( len(PDFshapingOBJ.X_train  ))\n",
    "print( len(PDFshapingOBJ.y_train  ))\n"
   ]
  },
  {
   "cell_type": "code",
   "execution_count": 38,
   "id": "ea9752ec",
   "metadata": {},
   "outputs": [
    {
     "name": "stdout",
     "output_type": "stream",
     "text": [
      "(128, 8)\n",
      "(128, 7)\n"
     ]
    }
   ],
   "source": [
    "\n",
    "print( PDFshapingOBJ.X_train.shape  )\n",
    "print( PDFshapingOBJ.y_train.shape  )\n"
   ]
  },
  {
   "cell_type": "code",
   "execution_count": 39,
   "id": "278c6be1",
   "metadata": {},
   "outputs": [],
   "source": [
    "\n",
    "y_pred = regressor.predict(PDFshapingOBJ.X_test )\n"
   ]
  },
  {
   "cell_type": "code",
   "execution_count": 40,
   "id": "bbb8a1b9",
   "metadata": {},
   "outputs": [
    {
     "data": {
      "text/plain": [
       "array([[   9.853494 , 1025.2375   ,   39.82202  ,   62.429737 ,\n",
       "          29.891685 , 1403.638    ,  193.89433  ],\n",
       "       [  11.858862 ,  735.5758   ,   35.643517 ,   13.546301 ,\n",
       "          25.65001  , 1469.0774   ,  197.93553  ],\n",
       "       [  17.351114 ,  837.4612   ,   48.267517 ,   34.116962 ,\n",
       "          28.932585 , 1429.26     ,  191.36783  ],\n",
       "       [  14.115894 ,  595.33746  ,   61.09657  ,   60.749134 ,\n",
       "          21.056534 , 1396.7827   ,  232.1715   ],\n",
       "       [  11.953241 ,  923.4205   ,   46.41536  ,   47.332912 ,\n",
       "          31.407564 , 1396.5312   ,  172.27466  ],\n",
       "       [  24.193398 ,  746.6952   ,   61.659023 ,   26.2101   ,\n",
       "          26.98408  , 1445.4872   ,  194.8274   ],\n",
       "       [  12.364178 ,  734.36926  ,   40.15349  ,   38.998226 ,\n",
       "          29.203281 , 1435.1046   ,  188.46077  ],\n",
       "       [  22.603748 ,  680.8327   ,   82.90083  ,   99.1888   ,\n",
       "          39.324715 , 1338.7142   ,  144.59378  ],\n",
       "       [  25.14637  ,  564.31213  ,   46.30333  ,   34.017956 ,\n",
       "          24.937313 , 1432.4497   ,  185.90115  ],\n",
       "       [  15.028229 ,  679.38916  ,   54.653427 ,   78.49376  ,\n",
       "          27.990335 , 1407.1277   ,  223.09177  ],\n",
       "       [   7.394851 ,  812.13763  ,   35.97897  ,   84.46969  ,\n",
       "          30.580854 , 1399.9037   ,  202.97421  ],\n",
       "       [  27.780592 ,  566.59033  ,   61.417065 ,   42.152607 ,\n",
       "          25.247036 , 1441.3563   ,  197.9059   ],\n",
       "       [  19.558983 ,  750.8331   ,   73.43144  ,   85.45938  ,\n",
       "          34.330196 , 1338.5511   ,  177.07492  ],\n",
       "       [  25.69464  ,  492.28735  ,   56.30352  ,   64.74902  ,\n",
       "          21.629852 , 1379.1138   ,  238.62291  ],\n",
       "       [   9.999155 ,  788.6523   ,   60.99791  ,   74.779785 ,\n",
       "          35.36917  , 1352.5444   ,  180.59598  ],\n",
       "       [  21.773447 ,  710.68085  ,   58.46333  ,   82.03542  ,\n",
       "          36.04023  , 1357.6348   ,  161.73183  ],\n",
       "       [  25.80004  ,  590.99335  ,   50.597515 ,   92.18243  ,\n",
       "          41.72266  , 1326.0889   ,  140.20798  ],\n",
       "       [  15.216133 ,  856.6062   ,   45.58643  ,   57.980057 ,\n",
       "          29.974075 , 1424.7076   ,  205.52382  ],\n",
       "       [  21.123194 ,  929.35645  ,   36.121037 ,   27.318031 ,\n",
       "          24.670294 , 1469.5837   ,  198.68628  ],\n",
       "       [  23.86553  ,  657.9542   ,   44.365295 ,   37.70405  ,\n",
       "          25.867086 , 1440.0646   ,  190.10011  ],\n",
       "       [  16.317303 ,  369.11108  ,   48.562515 ,   35.698112 ,\n",
       "          19.88479  , 1395.3843   ,  184.62764  ],\n",
       "       [  30.869041 ,  668.24396  ,   78.58236  ,  123.86909  ,\n",
       "          38.676804 , 1323.2571   ,  163.58067  ],\n",
       "       [  26.738407 ,  479.7683   ,   50.801773 ,   34.05211  ,\n",
       "          25.038363 , 1453.2811   ,  210.13481  ],\n",
       "       [  25.954712 ,  544.1565   ,   81.11458  ,  102.92004  ,\n",
       "          32.164307 , 1350.3993   ,  206.39749  ],\n",
       "       [  11.271278 , 1005.66644  ,   40.52729  ,   81.528725 ,\n",
       "          33.54662  , 1406.2345   ,  172.43512  ],\n",
       "       [   9.2855015, 1010.5608   ,   44.940964 ,   29.623148 ,\n",
       "          24.342627 , 1445.5317   ,  195.70451  ],\n",
       "       [   9.157645 ,  944.47314  ,   80.05393  ,   90.78343  ,\n",
       "          25.940716 , 1328.6246   ,  252.20914  ],\n",
       "       [  24.85176  ,  541.3062   ,   59.967342 ,   47.49113  ,\n",
       "          25.569458 , 1410.8604   ,  186.4134   ],\n",
       "       [  20.163816 ,  607.5205   ,   45.08235  ,   43.880295 ,\n",
       "          24.050524 , 1450.0356   ,  191.97229  ],\n",
       "       [   6.3290806,  943.6443   ,   34.468693 ,    6.4438725,\n",
       "          24.800144 , 1457.6271   ,  201.06183  ],\n",
       "       [  28.398748 ,  719.38574  ,   57.797585 ,   41.359234 ,\n",
       "          22.573349 , 1467.7166   ,  211.39711  ],\n",
       "       [  16.431126 ,  723.4883   ,   35.476288 ,   23.665136 ,\n",
       "          26.068062 , 1452.0817   ,  201.13625  ]], dtype=float32)"
      ]
     },
     "execution_count": 40,
     "metadata": {},
     "output_type": "execute_result"
    }
   ],
   "source": [
    "\n",
    "y_pred\n"
   ]
  },
  {
   "cell_type": "code",
   "execution_count": 41,
   "id": "d7983530",
   "metadata": {},
   "outputs": [
    {
     "data": {
      "text/plain": [
       "0.5599516221146192"
      ]
     },
     "execution_count": 41,
     "metadata": {},
     "output_type": "execute_result"
    }
   ],
   "source": [
    "\n",
    "r2_score( PDFshapingOBJ.y_test, y_pred )\n"
   ]
  },
  {
   "cell_type": "code",
   "execution_count": null,
   "id": "8fb5919e",
   "metadata": {},
   "outputs": [],
   "source": []
  },
  {
   "cell_type": "code",
   "execution_count": null,
   "id": "3e3cf0d3",
   "metadata": {},
   "outputs": [],
   "source": []
  },
  {
   "cell_type": "code",
   "execution_count": null,
   "id": "cd5b8775",
   "metadata": {},
   "outputs": [],
   "source": []
  },
  {
   "cell_type": "code",
   "execution_count": null,
   "id": "34680473",
   "metadata": {},
   "outputs": [],
   "source": []
  },
  {
   "cell_type": "code",
   "execution_count": null,
   "id": "eb5218ac",
   "metadata": {},
   "outputs": [],
   "source": []
  },
  {
   "cell_type": "code",
   "execution_count": null,
   "id": "b17bc095",
   "metadata": {},
   "outputs": [],
   "source": []
  },
  {
   "cell_type": "code",
   "execution_count": null,
   "id": "9c1bb46a",
   "metadata": {},
   "outputs": [],
   "source": []
  },
  {
   "cell_type": "code",
   "execution_count": null,
   "id": "324cd265",
   "metadata": {},
   "outputs": [],
   "source": []
  },
  {
   "cell_type": "code",
   "execution_count": null,
   "id": "95682046",
   "metadata": {},
   "outputs": [],
   "source": []
  }
 ],
 "metadata": {
  "kernelspec": {
   "display_name": "Python 3 (ipykernel)",
   "language": "python",
   "name": "python3"
  },
  "language_info": {
   "codemirror_mode": {
    "name": "ipython",
    "version": 3
   },
   "file_extension": ".py",
   "mimetype": "text/x-python",
   "name": "python",
   "nbconvert_exporter": "python",
   "pygments_lexer": "ipython3",
   "version": "3.7.16"
  }
 },
 "nbformat": 4,
 "nbformat_minor": 5
}
