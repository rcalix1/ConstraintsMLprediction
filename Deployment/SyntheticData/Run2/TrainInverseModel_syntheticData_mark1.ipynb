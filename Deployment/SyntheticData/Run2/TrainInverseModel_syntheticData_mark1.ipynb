{
 "cells": [
  {
   "cell_type": "markdown",
   "id": "286b5522",
   "metadata": {},
   "source": [
    "\n",
    "## Train Inverse Model (Synthetic Data, from output constraints optimization)\n",
    "\n",
    "* Synthetic Data gen: gradient based input optimization from constrained outputs \n",
    "* invert inputs and outputs and train\n",
    "\n",
    "## Web application \n",
    "\n",
    "Run interactively on the web at: \n",
    "\n",
    "\n",
    "## Inputs\n",
    "\n",
    "\n",
    "* desired output requirements \n",
    "\n",
    "Raceway flame temp > 1900K.....(19, 'o_fta')\n",
    " \n",
    "Hot metal temp > 1700K........(21, 'o_hmt')\n",
    "\n",
    "Top gas temp > 100C,,,,,,,,,,,(23, 'o_tgt')\n",
    "\n",
    "production rate ..............(39, 'o_prod_rt')\n",
    "\n",
    "\n",
    "## Outputs\n",
    "\n",
    "\n",
    "\n",
    "(2, 'i_h2i_rate')\n",
    "\n",
    "(3, 'i_h2_temp')\n",
    "\n",
    "(4, 'i_ngi_rate')\n",
    "\n",
    "(6, 'i_pci_rate')\n",
    "\n",
    "(11, 'i_o2_volfract')\n",
    "\n",
    "(12, 'i_hbtemp')\n",
    "\n",
    "(13, 'i_wind_rt')\n",
    "\n",
    "\n",
    "\n",
    "\n",
    "\n",
    "\n",
    "\n",
    "\n"
   ]
  },
  {
   "cell_type": "markdown",
   "id": "e75f0429",
   "metadata": {},
   "source": [
    "\n",
    "## Installs\n"
   ]
  },
  {
   "cell_type": "code",
   "execution_count": 1,
   "id": "e5878bfa",
   "metadata": {},
   "outputs": [],
   "source": [
    "\n",
    "## !pip install xgboost\n",
    "## !pip install onnxmltools\n",
    "## !pip install onnxruntime\n",
    "## !pip install pandas\n",
    "## !pip install scikit-learn\n",
    "## !pip install matplotlib\n",
    "## !pip install seaborn\n",
    "## !pip install mlxtend\n",
    "## ! pip install skl2onnx\n"
   ]
  },
  {
   "cell_type": "markdown",
   "id": "ebb037f5",
   "metadata": {},
   "source": [
    "\n",
    "## Imports\n"
   ]
  },
  {
   "cell_type": "code",
   "execution_count": 2,
   "id": "976f2c8b",
   "metadata": {},
   "outputs": [],
   "source": [
    "\n",
    "import torch\n",
    "import numpy as np\n",
    "import pandas as pd\n",
    "import sklearn\n",
    "import torch.nn as nn\n",
    "import torch.nn.functional as F\n",
    "\n",
    "import matplotlib.pyplot as plt\n",
    "import math\n",
    "import seaborn as sns\n",
    "import random\n",
    "import functorch\n",
    "\n",
    "\n",
    "import torch.optim as optim\n",
    "\n",
    "\n",
    "from numpy.random import normal\n",
    "from scipy.stats import norm\n",
    "import scipy.stats as stats\n",
    "from numpy import hstack\n",
    "from numpy import vstack\n",
    "from numpy import exp\n",
    "from sklearn.neighbors import KernelDensity\n",
    "\n",
    "##from typing import Optional\n",
    "\n",
    "from torch import Tensor\n",
    "\n",
    "\n",
    "from torch.utils.data import TensorDataset, DataLoader\n",
    "\n",
    "from mlxtend.plotting import heatmap\n",
    "\n",
    "## coefficient of determination (R**2)\n",
    "from sklearn.metrics import r2_score\n",
    "\n",
    "np.set_printoptions(suppress=True)\n",
    "torch.set_printoptions(sci_mode=False)\n",
    "\n",
    "from sklearn.metrics import mean_absolute_error, mean_squared_error, r2_score\n"
   ]
  },
  {
   "cell_type": "code",
   "execution_count": 3,
   "id": "1d1e5d18",
   "metadata": {},
   "outputs": [],
   "source": [
    "\n",
    "import xgboost as xgb\n",
    "from xgboost import XGBClassifier, XGBRegressor, DMatrix, train as train_xgb\n",
    "from sklearn.datasets import load_boston\n",
    "from sklearn.model_selection import train_test_split\n",
    "from sklearn.metrics import mean_squared_error\n",
    "from sklearn.pipeline import Pipeline\n",
    "from sklearn.preprocessing import StandardScaler\n",
    "\n",
    "import onnxmltools\n",
    "from onnxmltools.convert.xgboost.operator_converters.XGBoost import (\n",
    "    convert_xgboost)\n",
    "from onnxmltools.convert import convert_xgboost as convert_xgboost_booster\n",
    "\n",
    "\n",
    "from zipfile import ZipFile\n",
    "from skl2onnx.common.data_types import FloatTensorType\n",
    "from skl2onnx import convert_sklearn, to_onnx, update_registered_converter\n",
    "from skl2onnx.common.shape_calculator import (\n",
    "    calculate_linear_classifier_output_shapes,\n",
    "    calculate_linear_regressor_output_shapes)\n",
    "\n",
    "\n",
    "# Import the ONNX runtime environment\n",
    "import onnxruntime as rt\n",
    "\n"
   ]
  },
  {
   "cell_type": "code",
   "execution_count": 4,
   "id": "b62c5c0d",
   "metadata": {},
   "outputs": [],
   "source": [
    "\n",
    "import PDFshapingUtils as PDF_tk\n"
   ]
  },
  {
   "cell_type": "markdown",
   "id": "7acae472",
   "metadata": {},
   "source": [
    "\n",
    "## Instantiate PDF shaping and regression class\n"
   ]
  },
  {
   "cell_type": "code",
   "execution_count": 5,
   "id": "0398adc8",
   "metadata": {},
   "outputs": [],
   "source": [
    "\n",
    "PDFshapingOBJ = PDF_tk.PDFshapingUtils()\n"
   ]
  },
  {
   "cell_type": "markdown",
   "id": "c4147cd3",
   "metadata": {},
   "source": [
    "\n",
    "## Initialize parameters\n"
   ]
  },
  {
   "cell_type": "code",
   "execution_count": 6,
   "id": "33351992",
   "metadata": {},
   "outputs": [],
   "source": [
    "\n",
    "PDFshapingOBJ.N_error_range = 5         ## 20\n",
    "PDFshapingOBJ.mean_impulse  = 0.0       ## -7.0      ## 0.0\n",
    "PDFshapingOBJ.std_impulse   = 0.001     ## 1.0\n",
    "PDFshapingOBJ.kde_std       = 0.5       ## 0.1       ## 0.5      ## 3.0  ## smaller is better approximation?\n",
    "PDFshapingOBJ.bandwidth     = 0.2       ## 0.2->more jagged, 2.0->more smooth\n"
   ]
  },
  {
   "cell_type": "code",
   "execution_count": 7,
   "id": "1f3e1ea8",
   "metadata": {},
   "outputs": [],
   "source": [
    "\n",
    "PDFshapingOBJ.initializeImpulseGaussian()\n"
   ]
  },
  {
   "cell_type": "markdown",
   "id": "4ac9d820",
   "metadata": {},
   "source": [
    "\n",
    "## Load Data\n"
   ]
  },
  {
   "cell_type": "code",
   "execution_count": 8,
   "id": "83fb3b5a",
   "metadata": {},
   "outputs": [],
   "source": [
    "\n",
    "df_synthetic_data_for_inverse = PDFshapingOBJ.load_synth_folder_to_pandas(\"SyntheticCorpus\", flatten=True)\n"
   ]
  },
  {
   "cell_type": "code",
   "execution_count": 9,
   "id": "c778ddea",
   "metadata": {},
   "outputs": [],
   "source": [
    "\n",
    "PDFshapingOBJ.CFD_raw_data = df_synthetic_data_for_inverse \n"
   ]
  },
  {
   "cell_type": "code",
   "execution_count": 10,
   "id": "0c808fb4",
   "metadata": {},
   "outputs": [],
   "source": [
    "\n",
    "PDFshapingOBJ.headers_list = PDFshapingOBJ.CFD_raw_data.columns.values.tolist()\n"
   ]
  },
  {
   "cell_type": "code",
   "execution_count": 11,
   "id": "9fb2a300",
   "metadata": {},
   "outputs": [
    {
     "data": {
      "text/html": [
       "<div>\n",
       "<style scoped>\n",
       "    .dataframe tbody tr th:only-of-type {\n",
       "        vertical-align: middle;\n",
       "    }\n",
       "\n",
       "    .dataframe tbody tr th {\n",
       "        vertical-align: top;\n",
       "    }\n",
       "\n",
       "    .dataframe thead th {\n",
       "        text-align: right;\n",
       "    }\n",
       "</style>\n",
       "<table border=\"1\" class=\"dataframe\">\n",
       "  <thead>\n",
       "    <tr style=\"text-align: right;\">\n",
       "      <th></th>\n",
       "      <th>clamp_min_0</th>\n",
       "      <th>clamp_min_1</th>\n",
       "      <th>clamp_min_2</th>\n",
       "      <th>clamp_min_3</th>\n",
       "      <th>clamp_min_4</th>\n",
       "      <th>clamp_min_5</th>\n",
       "      <th>clamp_min_6</th>\n",
       "      <th>final_input_0</th>\n",
       "      <th>final_input_1</th>\n",
       "      <th>final_input_2</th>\n",
       "      <th>...</th>\n",
       "      <th>clamp_max_6</th>\n",
       "      <th>lower_bounds_glob_0</th>\n",
       "      <th>lower_bounds_glob_1</th>\n",
       "      <th>lower_bounds_glob_2</th>\n",
       "      <th>final_output_0</th>\n",
       "      <th>final_output_1</th>\n",
       "      <th>final_output_2</th>\n",
       "      <th>upper_bounds_glob_0</th>\n",
       "      <th>upper_bounds_glob_1</th>\n",
       "      <th>upper_bounds_glob_2</th>\n",
       "    </tr>\n",
       "  </thead>\n",
       "  <tbody>\n",
       "    <tr>\n",
       "      <th>0</th>\n",
       "      <td>-50.0</td>\n",
       "      <td>-50.0</td>\n",
       "      <td>-50.0</td>\n",
       "      <td>-50.0</td>\n",
       "      <td>-29.0</td>\n",
       "      <td>1150.0</td>\n",
       "      <td>100.0</td>\n",
       "      <td>-15.408000</td>\n",
       "      <td>600.830994</td>\n",
       "      <td>110.005997</td>\n",
       "      <td>...</td>\n",
       "      <td>300.0</td>\n",
       "      <td>2358.701172</td>\n",
       "      <td>1655.914551</td>\n",
       "      <td>60.293190</td>\n",
       "      <td>2449.599121</td>\n",
       "      <td>1821.146973</td>\n",
       "      <td>79.871002</td>\n",
       "      <td>2491.664795</td>\n",
       "      <td>2166.322998</td>\n",
       "      <td>99.857727</td>\n",
       "    </tr>\n",
       "    <tr>\n",
       "      <th>1</th>\n",
       "      <td>-50.0</td>\n",
       "      <td>-50.0</td>\n",
       "      <td>-50.0</td>\n",
       "      <td>-50.0</td>\n",
       "      <td>-29.0</td>\n",
       "      <td>1150.0</td>\n",
       "      <td>100.0</td>\n",
       "      <td>-4.730000</td>\n",
       "      <td>858.596985</td>\n",
       "      <td>56.514000</td>\n",
       "      <td>...</td>\n",
       "      <td>300.0</td>\n",
       "      <td>2317.072510</td>\n",
       "      <td>1092.126099</td>\n",
       "      <td>79.248924</td>\n",
       "      <td>2374.600098</td>\n",
       "      <td>1378.092041</td>\n",
       "      <td>95.074997</td>\n",
       "      <td>2500.922607</td>\n",
       "      <td>1712.875244</td>\n",
       "      <td>120.109390</td>\n",
       "    </tr>\n",
       "    <tr>\n",
       "      <th>2</th>\n",
       "      <td>-50.0</td>\n",
       "      <td>-50.0</td>\n",
       "      <td>-50.0</td>\n",
       "      <td>-50.0</td>\n",
       "      <td>-29.0</td>\n",
       "      <td>1150.0</td>\n",
       "      <td>100.0</td>\n",
       "      <td>-22.931999</td>\n",
       "      <td>417.941986</td>\n",
       "      <td>25.250999</td>\n",
       "      <td>...</td>\n",
       "      <td>300.0</td>\n",
       "      <td>2188.174316</td>\n",
       "      <td>1385.928955</td>\n",
       "      <td>109.405258</td>\n",
       "      <td>2233.093994</td>\n",
       "      <td>1664.880981</td>\n",
       "      <td>122.009003</td>\n",
       "      <td>2296.180664</td>\n",
       "      <td>2026.555420</td>\n",
       "      <td>144.704681</td>\n",
       "    </tr>\n",
       "    <tr>\n",
       "      <th>3</th>\n",
       "      <td>-50.0</td>\n",
       "      <td>-50.0</td>\n",
       "      <td>-50.0</td>\n",
       "      <td>-50.0</td>\n",
       "      <td>-29.0</td>\n",
       "      <td>1150.0</td>\n",
       "      <td>100.0</td>\n",
       "      <td>-18.221001</td>\n",
       "      <td>486.447998</td>\n",
       "      <td>29.957001</td>\n",
       "      <td>...</td>\n",
       "      <td>300.0</td>\n",
       "      <td>2078.979248</td>\n",
       "      <td>1005.422363</td>\n",
       "      <td>103.999542</td>\n",
       "      <td>2183.361084</td>\n",
       "      <td>1269.423950</td>\n",
       "      <td>106.377998</td>\n",
       "      <td>2326.123535</td>\n",
       "      <td>1619.734863</td>\n",
       "      <td>115.923889</td>\n",
       "    </tr>\n",
       "    <tr>\n",
       "      <th>4</th>\n",
       "      <td>-50.0</td>\n",
       "      <td>-50.0</td>\n",
       "      <td>-50.0</td>\n",
       "      <td>-50.0</td>\n",
       "      <td>-29.0</td>\n",
       "      <td>1150.0</td>\n",
       "      <td>100.0</td>\n",
       "      <td>21.247999</td>\n",
       "      <td>811.328979</td>\n",
       "      <td>117.718002</td>\n",
       "      <td>...</td>\n",
       "      <td>300.0</td>\n",
       "      <td>2519.401367</td>\n",
       "      <td>1051.182861</td>\n",
       "      <td>41.449707</td>\n",
       "      <td>2592.281982</td>\n",
       "      <td>1219.651978</td>\n",
       "      <td>47.130001</td>\n",
       "      <td>2705.451416</td>\n",
       "      <td>1472.596924</td>\n",
       "      <td>54.678768</td>\n",
       "    </tr>\n",
       "    <tr>\n",
       "      <th>...</th>\n",
       "      <td>...</td>\n",
       "      <td>...</td>\n",
       "      <td>...</td>\n",
       "      <td>...</td>\n",
       "      <td>...</td>\n",
       "      <td>...</td>\n",
       "      <td>...</td>\n",
       "      <td>...</td>\n",
       "      <td>...</td>\n",
       "      <td>...</td>\n",
       "      <td>...</td>\n",
       "      <td>...</td>\n",
       "      <td>...</td>\n",
       "      <td>...</td>\n",
       "      <td>...</td>\n",
       "      <td>...</td>\n",
       "      <td>...</td>\n",
       "      <td>...</td>\n",
       "      <td>...</td>\n",
       "      <td>...</td>\n",
       "      <td>...</td>\n",
       "    </tr>\n",
       "    <tr>\n",
       "      <th>251</th>\n",
       "      <td>-50.0</td>\n",
       "      <td>-50.0</td>\n",
       "      <td>-50.0</td>\n",
       "      <td>-50.0</td>\n",
       "      <td>-29.0</td>\n",
       "      <td>1150.0</td>\n",
       "      <td>100.0</td>\n",
       "      <td>37.507000</td>\n",
       "      <td>665.169006</td>\n",
       "      <td>145.764008</td>\n",
       "      <td>...</td>\n",
       "      <td>300.0</td>\n",
       "      <td>2143.092773</td>\n",
       "      <td>136.790649</td>\n",
       "      <td>52.153313</td>\n",
       "      <td>2244.035889</td>\n",
       "      <td>270.920990</td>\n",
       "      <td>59.862999</td>\n",
       "      <td>2356.703125</td>\n",
       "      <td>431.092896</td>\n",
       "      <td>74.693016</td>\n",
       "    </tr>\n",
       "    <tr>\n",
       "      <th>252</th>\n",
       "      <td>-50.0</td>\n",
       "      <td>-50.0</td>\n",
       "      <td>-50.0</td>\n",
       "      <td>-50.0</td>\n",
       "      <td>-29.0</td>\n",
       "      <td>1150.0</td>\n",
       "      <td>100.0</td>\n",
       "      <td>-15.446000</td>\n",
       "      <td>604.286011</td>\n",
       "      <td>76.025002</td>\n",
       "      <td>...</td>\n",
       "      <td>300.0</td>\n",
       "      <td>2128.074463</td>\n",
       "      <td>1482.573486</td>\n",
       "      <td>147.429230</td>\n",
       "      <td>2147.043945</td>\n",
       "      <td>1720.956055</td>\n",
       "      <td>149.908005</td>\n",
       "      <td>2190.985840</td>\n",
       "      <td>1997.258301</td>\n",
       "      <td>176.805908</td>\n",
       "    </tr>\n",
       "    <tr>\n",
       "      <th>253</th>\n",
       "      <td>-50.0</td>\n",
       "      <td>-50.0</td>\n",
       "      <td>-50.0</td>\n",
       "      <td>-50.0</td>\n",
       "      <td>-29.0</td>\n",
       "      <td>1150.0</td>\n",
       "      <td>100.0</td>\n",
       "      <td>-16.747000</td>\n",
       "      <td>755.739014</td>\n",
       "      <td>90.889999</td>\n",
       "      <td>...</td>\n",
       "      <td>300.0</td>\n",
       "      <td>2471.232422</td>\n",
       "      <td>1957.027832</td>\n",
       "      <td>98.135017</td>\n",
       "      <td>2494.469971</td>\n",
       "      <td>2247.897949</td>\n",
       "      <td>102.805000</td>\n",
       "      <td>2557.979980</td>\n",
       "      <td>2453.308838</td>\n",
       "      <td>122.096336</td>\n",
       "    </tr>\n",
       "    <tr>\n",
       "      <th>254</th>\n",
       "      <td>-50.0</td>\n",
       "      <td>-50.0</td>\n",
       "      <td>-50.0</td>\n",
       "      <td>-50.0</td>\n",
       "      <td>-29.0</td>\n",
       "      <td>1150.0</td>\n",
       "      <td>100.0</td>\n",
       "      <td>-10.564000</td>\n",
       "      <td>656.293030</td>\n",
       "      <td>172.195999</td>\n",
       "      <td>...</td>\n",
       "      <td>300.0</td>\n",
       "      <td>2104.450684</td>\n",
       "      <td>1413.251709</td>\n",
       "      <td>113.882812</td>\n",
       "      <td>2150.665039</td>\n",
       "      <td>1582.086060</td>\n",
       "      <td>123.663002</td>\n",
       "      <td>2225.944824</td>\n",
       "      <td>1712.263672</td>\n",
       "      <td>147.003464</td>\n",
       "    </tr>\n",
       "    <tr>\n",
       "      <th>255</th>\n",
       "      <td>-50.0</td>\n",
       "      <td>-50.0</td>\n",
       "      <td>-50.0</td>\n",
       "      <td>-50.0</td>\n",
       "      <td>-29.0</td>\n",
       "      <td>1150.0</td>\n",
       "      <td>100.0</td>\n",
       "      <td>-19.139000</td>\n",
       "      <td>667.356018</td>\n",
       "      <td>62.286999</td>\n",
       "      <td>...</td>\n",
       "      <td>300.0</td>\n",
       "      <td>2433.544678</td>\n",
       "      <td>1783.886230</td>\n",
       "      <td>90.660141</td>\n",
       "      <td>2525.122070</td>\n",
       "      <td>2130.996094</td>\n",
       "      <td>95.615997</td>\n",
       "      <td>2599.239502</td>\n",
       "      <td>2391.334961</td>\n",
       "      <td>134.365173</td>\n",
       "    </tr>\n",
       "  </tbody>\n",
       "</table>\n",
       "<p>256 rows × 30 columns</p>\n",
       "</div>"
      ],
      "text/plain": [
       "     clamp_min_0  clamp_min_1  clamp_min_2  clamp_min_3  clamp_min_4  \\\n",
       "0          -50.0        -50.0        -50.0        -50.0        -29.0   \n",
       "1          -50.0        -50.0        -50.0        -50.0        -29.0   \n",
       "2          -50.0        -50.0        -50.0        -50.0        -29.0   \n",
       "3          -50.0        -50.0        -50.0        -50.0        -29.0   \n",
       "4          -50.0        -50.0        -50.0        -50.0        -29.0   \n",
       "..           ...          ...          ...          ...          ...   \n",
       "251        -50.0        -50.0        -50.0        -50.0        -29.0   \n",
       "252        -50.0        -50.0        -50.0        -50.0        -29.0   \n",
       "253        -50.0        -50.0        -50.0        -50.0        -29.0   \n",
       "254        -50.0        -50.0        -50.0        -50.0        -29.0   \n",
       "255        -50.0        -50.0        -50.0        -50.0        -29.0   \n",
       "\n",
       "     clamp_min_5  clamp_min_6  final_input_0  final_input_1  final_input_2  \\\n",
       "0         1150.0        100.0     -15.408000     600.830994     110.005997   \n",
       "1         1150.0        100.0      -4.730000     858.596985      56.514000   \n",
       "2         1150.0        100.0     -22.931999     417.941986      25.250999   \n",
       "3         1150.0        100.0     -18.221001     486.447998      29.957001   \n",
       "4         1150.0        100.0      21.247999     811.328979     117.718002   \n",
       "..           ...          ...            ...            ...            ...   \n",
       "251       1150.0        100.0      37.507000     665.169006     145.764008   \n",
       "252       1150.0        100.0     -15.446000     604.286011      76.025002   \n",
       "253       1150.0        100.0     -16.747000     755.739014      90.889999   \n",
       "254       1150.0        100.0     -10.564000     656.293030     172.195999   \n",
       "255       1150.0        100.0     -19.139000     667.356018      62.286999   \n",
       "\n",
       "     ...  clamp_max_6  lower_bounds_glob_0  lower_bounds_glob_1  \\\n",
       "0    ...        300.0          2358.701172          1655.914551   \n",
       "1    ...        300.0          2317.072510          1092.126099   \n",
       "2    ...        300.0          2188.174316          1385.928955   \n",
       "3    ...        300.0          2078.979248          1005.422363   \n",
       "4    ...        300.0          2519.401367          1051.182861   \n",
       "..   ...          ...                  ...                  ...   \n",
       "251  ...        300.0          2143.092773           136.790649   \n",
       "252  ...        300.0          2128.074463          1482.573486   \n",
       "253  ...        300.0          2471.232422          1957.027832   \n",
       "254  ...        300.0          2104.450684          1413.251709   \n",
       "255  ...        300.0          2433.544678          1783.886230   \n",
       "\n",
       "     lower_bounds_glob_2  final_output_0  final_output_1  final_output_2  \\\n",
       "0              60.293190     2449.599121     1821.146973       79.871002   \n",
       "1              79.248924     2374.600098     1378.092041       95.074997   \n",
       "2             109.405258     2233.093994     1664.880981      122.009003   \n",
       "3             103.999542     2183.361084     1269.423950      106.377998   \n",
       "4              41.449707     2592.281982     1219.651978       47.130001   \n",
       "..                   ...             ...             ...             ...   \n",
       "251            52.153313     2244.035889      270.920990       59.862999   \n",
       "252           147.429230     2147.043945     1720.956055      149.908005   \n",
       "253            98.135017     2494.469971     2247.897949      102.805000   \n",
       "254           113.882812     2150.665039     1582.086060      123.663002   \n",
       "255            90.660141     2525.122070     2130.996094       95.615997   \n",
       "\n",
       "     upper_bounds_glob_0  upper_bounds_glob_1  upper_bounds_glob_2  \n",
       "0            2491.664795          2166.322998            99.857727  \n",
       "1            2500.922607          1712.875244           120.109390  \n",
       "2            2296.180664          2026.555420           144.704681  \n",
       "3            2326.123535          1619.734863           115.923889  \n",
       "4            2705.451416          1472.596924            54.678768  \n",
       "..                   ...                  ...                  ...  \n",
       "251          2356.703125           431.092896            74.693016  \n",
       "252          2190.985840          1997.258301           176.805908  \n",
       "253          2557.979980          2453.308838           122.096336  \n",
       "254          2225.944824          1712.263672           147.003464  \n",
       "255          2599.239502          2391.334961           134.365173  \n",
       "\n",
       "[256 rows x 30 columns]"
      ]
     },
     "execution_count": 11,
     "metadata": {},
     "output_type": "execute_result"
    }
   ],
   "source": [
    "\n",
    "PDFshapingOBJ.CFD_raw_data\n"
   ]
  },
  {
   "cell_type": "code",
   "execution_count": 12,
   "id": "f244deb5",
   "metadata": {},
   "outputs": [],
   "source": [
    "\n",
    "## PDFshapingOBJ.read_csv_file_with_pandas('CFD.14.2025_REVISED.csv')\n"
   ]
  },
  {
   "cell_type": "code",
   "execution_count": 13,
   "id": "13c99798",
   "metadata": {},
   "outputs": [],
   "source": [
    "\n",
    "## PDFshapingOBJ.CFD_raw_data\n"
   ]
  },
  {
   "cell_type": "code",
   "execution_count": 14,
   "id": "805b0aa6",
   "metadata": {},
   "outputs": [
    {
     "name": "stdout",
     "output_type": "stream",
     "text": [
      "['clamp_min_0', 'clamp_min_1', 'clamp_min_2', 'clamp_min_3', 'clamp_min_4', 'clamp_min_5', 'clamp_min_6', 'final_input_0', 'final_input_1', 'final_input_2', 'final_input_3', 'final_input_4', 'final_input_5', 'final_input_6', 'clamp_max_0', 'clamp_max_1', 'clamp_max_2', 'clamp_max_3', 'clamp_max_4', 'clamp_max_5', 'clamp_max_6', 'lower_bounds_glob_0', 'lower_bounds_glob_1', 'lower_bounds_glob_2', 'final_output_0', 'final_output_1', 'final_output_2', 'upper_bounds_glob_0', 'upper_bounds_glob_1', 'upper_bounds_glob_2']\n",
      "30\n",
      "(0, 'clamp_min_0')\n",
      "(1, 'clamp_min_1')\n",
      "(2, 'clamp_min_2')\n",
      "(3, 'clamp_min_3')\n",
      "(4, 'clamp_min_4')\n",
      "(5, 'clamp_min_5')\n",
      "(6, 'clamp_min_6')\n",
      "(7, 'final_input_0')\n",
      "(8, 'final_input_1')\n",
      "(9, 'final_input_2')\n",
      "(10, 'final_input_3')\n",
      "(11, 'final_input_4')\n",
      "(12, 'final_input_5')\n",
      "(13, 'final_input_6')\n",
      "(14, 'clamp_max_0')\n",
      "(15, 'clamp_max_1')\n",
      "(16, 'clamp_max_2')\n",
      "(17, 'clamp_max_3')\n",
      "(18, 'clamp_max_4')\n",
      "(19, 'clamp_max_5')\n",
      "(20, 'clamp_max_6')\n",
      "(21, 'lower_bounds_glob_0')\n",
      "(22, 'lower_bounds_glob_1')\n",
      "(23, 'lower_bounds_glob_2')\n",
      "(24, 'final_output_0')\n",
      "(25, 'final_output_1')\n",
      "(26, 'final_output_2')\n",
      "(27, 'upper_bounds_glob_0')\n",
      "(28, 'upper_bounds_glob_1')\n",
      "(29, 'upper_bounds_glob_2')\n"
     ]
    }
   ],
   "source": [
    "\n",
    "PDFshapingOBJ.print_headers_list()\n"
   ]
  },
  {
   "cell_type": "code",
   "execution_count": 15,
   "id": "d57e4c15",
   "metadata": {},
   "outputs": [
    {
     "data": {
      "text/plain": [
       "\"\\n\\n\\nPDFshapingOBJ.list_of_selected_column_names = ['i_h2i_rate','i_h2_temp','i_ngi_rate','i_ng_temp','i_pci_rate',\\n                    'i_wpi_rate','i_o2_volfract',\\n                    'i_hbtemp','i_wind_rt','o_prod_rt', 'o_tgt', 'o_hmt','o_fta']\\n\\n\\n\\nPDFshapingOBJ.print_correlation_coefficients()\\n\\n\""
      ]
     },
     "execution_count": 15,
     "metadata": {},
     "output_type": "execute_result"
    }
   ],
   "source": [
    "'''\n",
    "\n",
    "\n",
    "PDFshapingOBJ.list_of_selected_column_names = ['i_h2i_rate','i_h2_temp','i_ngi_rate','i_ng_temp','i_pci_rate',\n",
    "                    'i_wpi_rate','i_o2_volfract',\n",
    "                    'i_hbtemp','i_wind_rt','o_prod_rt', 'o_tgt', 'o_hmt','o_fta']\n",
    "\n",
    "\n",
    "\n",
    "PDFshapingOBJ.print_correlation_coefficients()\n",
    "\n",
    "'''\n"
   ]
  },
  {
   "cell_type": "code",
   "execution_count": 16,
   "id": "ac298349",
   "metadata": {},
   "outputs": [
    {
     "name": "stdout",
     "output_type": "stream",
     "text": [
      "[[ -50.          -50.          -50.         ... 2491.66479492\n",
      "  2166.32299805   99.85772705]\n",
      " [ -50.          -50.          -50.         ... 2500.92260742\n",
      "  1712.87524414  120.10939026]\n",
      " [ -50.          -50.          -50.         ... 2296.18066406\n",
      "  2026.55541992  144.7046814 ]\n",
      " ...\n",
      " [ -50.          -50.          -50.         ... 2557.97998047\n",
      "  2453.30883789  122.09633636]\n",
      " [ -50.          -50.          -50.         ... 2225.94482422\n",
      "  1712.26367188  147.00346375]\n",
      " [ -50.          -50.          -50.         ... 2599.23950195\n",
      "  2391.33496094  134.36517334]]\n",
      "(256, 30)\n"
     ]
    }
   ],
   "source": [
    "\n",
    "PDFshapingOBJ.convert_pd_data_to_numpy()\n"
   ]
  },
  {
   "cell_type": "markdown",
   "id": "60c6a7ed",
   "metadata": {},
   "source": [
    "\n",
    "## Select inputs and outputs\n"
   ]
  },
  {
   "cell_type": "code",
   "execution_count": 17,
   "id": "82175b15",
   "metadata": {},
   "outputs": [
    {
     "name": "stdout",
     "output_type": "stream",
     "text": [
      "6\n",
      "7\n"
     ]
    }
   ],
   "source": [
    "\n",
    "PDFshapingOBJ.gen_X_y_for_selected_indeces(  \n",
    "                   inputs = [ 21,22,23,27,28,29 ] ,  \n",
    "                   outputs= [  7, 8, 9, 10, 11, 12, 13 ]   \n",
    ")\n"
   ]
  },
  {
   "cell_type": "code",
   "execution_count": 18,
   "id": "d2df9b9e",
   "metadata": {},
   "outputs": [
    {
     "name": "stdout",
     "output_type": "stream",
     "text": [
      "(256, 6)\n",
      "(256, 7)\n"
     ]
    }
   ],
   "source": [
    "\n",
    "print(PDFshapingOBJ.X.shape)\n",
    "print(PDFshapingOBJ.y.shape)\n"
   ]
  },
  {
   "cell_type": "code",
   "execution_count": 19,
   "id": "3eadabb9",
   "metadata": {},
   "outputs": [],
   "source": [
    "\n",
    "PDFshapingOBJ.random_seed = int( random.random() * 100  )         ## defautl is 42\n"
   ]
  },
  {
   "cell_type": "code",
   "execution_count": 20,
   "id": "ca944d87",
   "metadata": {},
   "outputs": [
    {
     "name": "stdout",
     "output_type": "stream",
     "text": [
      "(204, 6)\n",
      "(52, 6)\n",
      "(204, 7)\n",
      "(52, 7)\n"
     ]
    }
   ],
   "source": [
    "\n",
    "PDFshapingOBJ.split_np_data_train_test(selected_test_size=0.2)\n"
   ]
  },
  {
   "cell_type": "code",
   "execution_count": 21,
   "id": "bba1eb32",
   "metadata": {},
   "outputs": [],
   "source": [
    "\n",
    "PDFshapingOBJ.convert_dataset_from_np_to_torch()\n"
   ]
  },
  {
   "cell_type": "code",
   "execution_count": 22,
   "id": "61373d5f",
   "metadata": {},
   "outputs": [],
   "source": [
    "\n",
    "PDFshapingOBJ.standardize_X_scales()\n",
    "PDFshapingOBJ.standardize_y_scales()\n"
   ]
  },
  {
   "cell_type": "code",
   "execution_count": 23,
   "id": "d08b752c",
   "metadata": {},
   "outputs": [
    {
     "data": {
      "text/plain": [
       "<torch.utils.data.dataloader.DataLoader at 0x7fb6f333c310>"
      ]
     },
     "execution_count": 23,
     "metadata": {},
     "output_type": "execute_result"
    }
   ],
   "source": [
    "\n",
    "PDFshapingOBJ.gen_Dataloader_train()\n",
    "\n",
    "PDFshapingOBJ.train_dl\n"
   ]
  },
  {
   "cell_type": "code",
   "execution_count": 24,
   "id": "c5c7e692",
   "metadata": {},
   "outputs": [],
   "source": [
    "\n",
    "n_inputs  = 6\n",
    "n_outputs = 7\n",
    "\n",
    "class ResidualNet(nn.Module):\n",
    "    def __init__(self, x_means, x_deviations, y_means, y_deviations, dropout_rate=0.1, device='cuda'):\n",
    "        \n",
    "        super().__init__()\n",
    "        self.device = device\n",
    "        \n",
    "        self.x_means      = x_means.to(self.device)\n",
    "        self.x_deviations = x_deviations.to(self.device)\n",
    "        self.y_means      = y_means.to(self.device)\n",
    "        self.y_deviations = y_deviations.to(self.device)\n",
    "\n",
    "     \n",
    "        self.fc1  = nn.Linear(n_inputs, 64)\n",
    "        self.act1 = nn.ReLU()\n",
    "        self.dropout1 = nn.Dropout(dropout_rate)\n",
    "\n",
    "        self.fc2 = nn.Linear(64, 64)\n",
    "        self.act2 = nn.ReLU()\n",
    "        self.dropout2 = nn.Dropout(dropout_rate)\n",
    "\n",
    "        self.fc3 = nn.Linear(64, n_outputs)\n",
    "\n",
    "        # If input_dim ≠ 64, project for residual addition\n",
    "        self.input_proj = nn.Linear(n_inputs, 64) if n_inputs != 64 else nn.Identity()\n",
    "        \n",
    "        # Move model to device\n",
    "        self.to(self.device)\n",
    "        \n",
    "\n",
    "    def forward(self, x):\n",
    "        x  = x.to(self.device)\n",
    "        x  = (x - self.x_means) / self.x_deviations\n",
    "        x0 = self.input_proj(x)\n",
    "        x1 = self.dropout1(self.act1(self.fc1(x)))\n",
    "        x2 = self.dropout2(self.act2(self.fc2(x1)))\n",
    "        x_res = x2 + x0\n",
    "        y_scaled = self.fc3(x_res)\n",
    "        y_descaled = y_scaled * self.y_deviations + self.y_means\n",
    "        \n",
    "        return y_descaled, y_scaled\n",
    "    \n",
    "    \n"
   ]
  },
  {
   "cell_type": "code",
   "execution_count": 25,
   "id": "5f432964",
   "metadata": {},
   "outputs": [],
   "source": [
    "\n",
    "device = torch.device('cuda' if torch.cuda.is_available() else 'cpu')\n",
    "\n",
    "model     = ResidualNet(\n",
    "             PDFshapingOBJ.x_means, \n",
    "             PDFshapingOBJ.x_deviations, \n",
    "             PDFshapingOBJ.y_means, \n",
    "             PDFshapingOBJ.y_deviations,\n",
    "             device=device  # pass device into the model\n",
    "    \n",
    ")\n",
    "\n",
    "optimizer = optim.Adam(model.parameters(), lr=0.001)\n",
    "loss_fn   = nn.MSELoss()\n",
    "\n",
    "\n"
   ]
  },
  {
   "cell_type": "code",
   "execution_count": 26,
   "id": "d22a9dd9",
   "metadata": {},
   "outputs": [
    {
     "name": "stdout",
     "output_type": "stream",
     "text": [
      "0 ..... 1.3519436120986938\n",
      "100 ..... 0.33797410130500793\n",
      "200 ..... 0.5971142053604126\n",
      "300 ..... 0.2757813036441803\n",
      "400 ..... 0.19908137619495392\n",
      "500 ..... 0.21069712936878204\n",
      "600 ..... 0.21734409034252167\n",
      "700 ..... 0.15136085450649261\n",
      "800 ..... 0.23077301681041718\n",
      "900 ..... 0.17864631116390228\n"
     ]
    }
   ],
   "source": [
    "\n",
    "model.train()\n",
    "\n",
    "for epoch in range(1000):\n",
    "    for xb, yb in PDFshapingOBJ.train_dl:\n",
    "        \n",
    "        xb = xb.to(model.device)\n",
    "        yb = yb.to(model.device)\n",
    "        \n",
    "        optimizer.zero_grad()\n",
    "        pred_descaled, pred_scaled = model(xb)\n",
    "        loss = loss_fn(pred_scaled, yb)\n",
    "        loss.backward()\n",
    "        optimizer.step()\n",
    "    if epoch % 100 == 0:\n",
    "        print(epoch, \".....\", loss.item() ) \n",
    "    \n",
    "\n",
    "\n",
    "    "
   ]
  },
  {
   "cell_type": "code",
   "execution_count": 27,
   "id": "c7a13532",
   "metadata": {},
   "outputs": [
    {
     "name": "stdout",
     "output_type": "stream",
     "text": [
      "=== SANITY CHECK: SCALING ===\n",
      "y_means: tensor([[   1.7310,  627.3831,  100.1391,   96.1464,   30.3192, 1345.2699,\n",
      "          217.2982]])\n",
      "y_deviations: tensor([[ 18.1763, 157.9689,  48.8911,  43.1962,   7.7842,  24.0978,  33.1882]])\n",
      "===============================================\n",
      "x_means: tensor([[2282.4824, 1227.7366,   68.6166, 2423.3914, 1621.1455,   95.0748]])\n",
      "x_deviations: tensor([[207.2598, 512.7145,  40.7899, 212.3609, 543.6526,  43.1857]])\n"
     ]
    }
   ],
   "source": [
    "\n",
    "print(\"=== SANITY CHECK: SCALING ===\")\n",
    "print(\"y_means:\", PDFshapingOBJ.y_means)\n",
    "print(\"y_deviations:\", PDFshapingOBJ.y_deviations)\n",
    "\n",
    "print(\"===============================================\")\n",
    "\n",
    "print(\"x_means:\", PDFshapingOBJ.x_means)\n",
    "print(\"x_deviations:\", PDFshapingOBJ.x_deviations)\n",
    "\n"
   ]
  },
  {
   "cell_type": "markdown",
   "id": "6ca1a292",
   "metadata": {},
   "source": [
    "\n",
    "## Test model\n"
   ]
  },
  {
   "cell_type": "code",
   "execution_count": 28,
   "id": "6f1ebf4f",
   "metadata": {},
   "outputs": [
    {
     "name": "stdout",
     "output_type": "stream",
     "text": [
      "tensor([2184.4797, 2202.6628,  132.9694, 2414.4944, 2885.2183,  167.2353])\n",
      "tensor([ -16.3880,  674.5480,  127.5450,    4.8760,   27.3430, 1347.1010,\n",
      "         213.6570])\n"
     ]
    }
   ],
   "source": [
    "\n",
    "print( PDFshapingOBJ.X_test_tr[0] )\n",
    "print( PDFshapingOBJ.y_test_tr[0] )\n"
   ]
  },
  {
   "cell_type": "code",
   "execution_count": 29,
   "id": "af93fe73",
   "metadata": {},
   "outputs": [
    {
     "name": "stdout",
     "output_type": "stream",
     "text": [
      "torch.Size([52, 6])\n",
      "torch.Size([52, 7])\n"
     ]
    }
   ],
   "source": [
    "\n",
    "\n",
    "print( PDFshapingOBJ.X_test_tr.shape )\n",
    "print( PDFshapingOBJ.y_test_tr.shape )\n",
    "\n",
    "with torch.no_grad():\n",
    "    \n",
    "    pred_test_descaled, pred_test_scaled = model(  PDFshapingOBJ.X_test_tr  )\n"
   ]
  },
  {
   "cell_type": "code",
   "execution_count": 30,
   "id": "da5ed723",
   "metadata": {},
   "outputs": [
    {
     "name": "stdout",
     "output_type": "stream",
     "text": [
      "MAE: [  9.631208  101.93179    48.117775   41.700523    3.1454396  19.641449\n",
      "  17.965858 ]\n",
      "RMSE: [ 11.78431  128.04898   67.17397   54.788925   4.306202  28.003965\n",
      "  25.208857]\n",
      "R2: [ 0.61687375  0.55699547 -0.93957544 -0.20274108  0.6581342   0.05378012\n",
      "  0.53081157]\n",
      "Overall averages: 34.59058 45.616463 0.18203979837320486\n"
     ]
    }
   ],
   "source": [
    "\n",
    "\n",
    "y_true = PDFshapingOBJ.y_test_tr.detach().cpu().numpy()\n",
    "\n",
    "y_pred = pred_test_descaled.detach().cpu().numpy()  # or use descaled pair\n",
    "\n",
    "mae  = mean_absolute_error(y_true, y_pred, multioutput='raw_values')\n",
    "rmse = mean_squared_error( y_true, y_pred, squared=False, multioutput='raw_values')\n",
    "r2   = r2_score(           y_true, y_pred, multioutput='raw_values')\n",
    "\n",
    "print(\"MAE:\", mae)\n",
    "print(\"RMSE:\", rmse)\n",
    "print(\"R2:\", r2)\n",
    "print(\"Overall averages:\", \n",
    "      mae.mean(), rmse.mean(), r2.mean())\n",
    "\n"
   ]
  },
  {
   "cell_type": "code",
   "execution_count": 31,
   "id": "b9456e75",
   "metadata": {},
   "outputs": [
    {
     "data": {
      "text/plain": [
       "array([ 0.61687375,  0.55699547, -0.93957544, -0.20274108,  0.6581342 ,\n",
       "        0.05378012,  0.53081157])"
      ]
     },
     "execution_count": 31,
     "metadata": {},
     "output_type": "execute_result"
    }
   ],
   "source": [
    "\n",
    "r2   = r2_score(           y_true, y_pred, multioutput='raw_values')\n",
    "r2\n"
   ]
  },
  {
   "cell_type": "code",
   "execution_count": 32,
   "id": "4ea10270",
   "metadata": {},
   "outputs": [
    {
     "data": {
      "text/plain": [
       "0.18203979837320486"
      ]
     },
     "execution_count": 32,
     "metadata": {},
     "output_type": "execute_result"
    }
   ],
   "source": [
    "\n",
    "r2.mean()\n"
   ]
  },
  {
   "cell_type": "code",
   "execution_count": 33,
   "id": "db8a7e4c",
   "metadata": {},
   "outputs": [
    {
     "name": "stdout",
     "output_type": "stream",
     "text": [
      "Testing R**2 - descaled: 0.08096772054611692\n"
     ]
    }
   ],
   "source": [
    "\n",
    "print('Testing R**2 - descaled:', r2_score( y_pred, y_true   )  )\n"
   ]
  },
  {
   "cell_type": "code",
   "execution_count": 34,
   "id": "8575e058",
   "metadata": {},
   "outputs": [
    {
     "name": "stdout",
     "output_type": "stream",
     "text": [
      "Testing R**2 - descaled: 0.18203979837320486\n"
     ]
    }
   ],
   "source": [
    "\n",
    "print('Testing R**2 - descaled:', r2_score( y_true,  y_pred   )  )\n"
   ]
  },
  {
   "cell_type": "code",
   "execution_count": 35,
   "id": "126f6541",
   "metadata": {},
   "outputs": [
    {
     "data": {
      "text/plain": [
       "tensor(0.1820, device='cuda:0')"
      ]
     },
     "execution_count": 35,
     "metadata": {},
     "output_type": "execute_result"
    }
   ],
   "source": [
    "\n",
    "PDFshapingOBJ.r2_score_torch(PDFshapingOBJ.y_test_tr.to(PDFshapingOBJ.device), pred_test_descaled).mean()\n"
   ]
  },
  {
   "cell_type": "code",
   "execution_count": null,
   "id": "a3a7a040",
   "metadata": {},
   "outputs": [],
   "source": []
  },
  {
   "cell_type": "markdown",
   "id": "d275850b",
   "metadata": {},
   "source": [
    "\n",
    "## ONNX\n"
   ]
  },
  {
   "cell_type": "code",
   "execution_count": null,
   "id": "283a78d5",
   "metadata": {},
   "outputs": [],
   "source": []
  },
  {
   "cell_type": "code",
   "execution_count": 36,
   "id": "c66447c9",
   "metadata": {},
   "outputs": [
    {
     "name": "stdout",
     "output_type": "stream",
     "text": [
      "ONNX model saved\n"
     ]
    }
   ],
   "source": [
    "\n",
    "import torch\n",
    "\n",
    "# Your trained model\n",
    "model.eval().float()\n",
    "\n",
    "\n",
    "dummy_input = torch.randn(1, 6, dtype=torch.float32)\n",
    "\n",
    "# Export to ONNX (single output called \"output1\")\n",
    "torch.onnx.export(\n",
    "    model,\n",
    "    dummy_input,\n",
    "    \"ONNXmodels/resNet_Inverse_syntheticData.onnx\",\n",
    "    input_names=[\"input1\"],\n",
    "    output_names=[\"output1\"],\n",
    "    opset_version=15,              # fine for onnxruntime-web\n",
    "    do_constant_folding=True,\n",
    "    dynamic_axes={\n",
    "        \"input1\": {0: \"batch\"},\n",
    "        \"output1\": {0: \"batch\"}\n",
    "    }\n",
    ")\n",
    "print(\"ONNX model saved\")\n",
    "\n"
   ]
  },
  {
   "cell_type": "code",
   "execution_count": null,
   "id": "25826f4d",
   "metadata": {},
   "outputs": [],
   "source": []
  },
  {
   "cell_type": "markdown",
   "id": "beaa608c",
   "metadata": {},
   "source": [
    "\n",
    "## XGBoost\n"
   ]
  },
  {
   "cell_type": "code",
   "execution_count": 37,
   "id": "dd8a6d9c",
   "metadata": {},
   "outputs": [],
   "source": [
    "\n",
    "regressor = xgb.XGBRegressor(\n",
    "    n_estimators=100,\n",
    "    reg_lambda=1,\n",
    "    gamma=0,\n",
    "    max_depth=3\n",
    ")\n"
   ]
  },
  {
   "cell_type": "code",
   "execution_count": 38,
   "id": "c45674ff",
   "metadata": {},
   "outputs": [
    {
     "data": {
      "text/plain": [
       "XGBRegressor(base_score=0.5, booster='gbtree', callbacks=None,\n",
       "             colsample_bylevel=1, colsample_bynode=1, colsample_bytree=1,\n",
       "             early_stopping_rounds=None, enable_categorical=False,\n",
       "             eval_metric=None, gamma=0, gpu_id=-1, grow_policy='depthwise',\n",
       "             importance_type=None, interaction_constraints='',\n",
       "             learning_rate=0.300000012, max_bin=256, max_cat_to_onehot=4,\n",
       "             max_delta_step=0, max_depth=3, max_leaves=0, min_child_weight=1,\n",
       "             missing=nan, monotone_constraints='()', n_estimators=100, n_jobs=0,\n",
       "             num_parallel_tree=1, predictor='auto', random_state=0, reg_alpha=0,\n",
       "             reg_lambda=1, ...)"
      ]
     },
     "execution_count": 38,
     "metadata": {},
     "output_type": "execute_result"
    }
   ],
   "source": [
    "\n",
    "regressor.fit(PDFshapingOBJ.X_train, PDFshapingOBJ.y_train)\n"
   ]
  },
  {
   "cell_type": "code",
   "execution_count": 39,
   "id": "f1f46489",
   "metadata": {},
   "outputs": [
    {
     "name": "stdout",
     "output_type": "stream",
     "text": [
      "204\n",
      "204\n"
     ]
    }
   ],
   "source": [
    "\n",
    "print( len(PDFshapingOBJ.X_train  ))\n",
    "print( len(PDFshapingOBJ.y_train  ))\n"
   ]
  },
  {
   "cell_type": "code",
   "execution_count": 40,
   "id": "ea9752ec",
   "metadata": {},
   "outputs": [
    {
     "name": "stdout",
     "output_type": "stream",
     "text": [
      "(204, 6)\n",
      "(204, 7)\n"
     ]
    }
   ],
   "source": [
    "\n",
    "print( PDFshapingOBJ.X_train.shape  )\n",
    "print( PDFshapingOBJ.y_train.shape  )\n"
   ]
  },
  {
   "cell_type": "code",
   "execution_count": 41,
   "id": "278c6be1",
   "metadata": {},
   "outputs": [],
   "source": [
    "\n",
    "y_pred = regressor.predict(PDFshapingOBJ.X_test )\n"
   ]
  },
  {
   "cell_type": "code",
   "execution_count": 42,
   "id": "bbb8a1b9",
   "metadata": {},
   "outputs": [
    {
     "data": {
      "text/plain": [
       "array([[ -18.775524  ,  568.96704   ,   79.11125   ,   93.173744  ,\n",
       "          29.89427   , 1328.2002    ,  248.4155    ],\n",
       "       [ -15.100213  ,  725.49133   ,   80.513794  ,  133.29036   ,\n",
       "          20.701176  , 1351.8484    ,  252.7776    ],\n",
       "       [   0.24485254,  744.1457    ,   89.809296  ,  131.1893    ,\n",
       "          26.434008  , 1353.8689    ,  247.17802   ],\n",
       "       [  13.808264  ,  691.5573    ,   89.679565  ,  129.16666   ,\n",
       "          40.429897  , 1351.4054    ,  190.56238   ],\n",
       "       [  -1.0432308 ,  547.9631    ,  110.154884  ,   77.40523   ,\n",
       "          29.570608  , 1315.199     ,  229.47792   ],\n",
       "       [   5.0077014 ,  536.85706   ,   90.1988    ,   89.347435  ,\n",
       "          36.60099   , 1334.2969    ,  187.07762   ],\n",
       "       [ -20.088669  ,  543.4079    ,  141.20224   ,   43.006004  ,\n",
       "          23.199774  , 1362.0105    ,  241.41803   ],\n",
       "       [ -22.010288  ,  757.65186   ,   94.14734   ,   78.45734   ,\n",
       "          27.232756  , 1356.3805    ,  224.14838   ],\n",
       "       [ -10.543886  ,  633.19653   ,   69.65884   ,   54.809204  ,\n",
       "          18.040674  , 1323.0337    ,  245.38882   ],\n",
       "       [ -10.783667  ,  909.99005   ,   61.04975   ,   75.94416   ,\n",
       "          30.386919  , 1364.9818    ,  244.19038   ],\n",
       "       [   8.981393  ,  761.24457   ,  117.1445    ,   92.78479   ,\n",
       "          36.31963   , 1349.1259    ,  235.9384    ],\n",
       "       [  11.232551  , 1012.95074   ,   41.91575   ,   93.33279   ,\n",
       "          18.478819  , 1383.1205    ,  238.54494   ],\n",
       "       [ -15.879176  ,  563.5869    ,  104.69858   ,   71.49374   ,\n",
       "          23.702858  , 1342.0312    ,  222.03047   ],\n",
       "       [  15.130883  ,  613.04034   ,   93.29822   ,   90.30646   ,\n",
       "          28.849337  , 1328.5045    ,  226.87347   ],\n",
       "       [  11.777601  ,  527.89185   ,   86.503365  ,   83.5148    ,\n",
       "          37.27176   , 1320.7305    ,  134.67839   ],\n",
       "       [ -18.6577    ,  395.33908   ,   91.87768   ,   87.22741   ,\n",
       "          23.036684  , 1351.5007    ,  229.7269    ],\n",
       "       [  -7.7068667 ,  772.8117    ,   68.99175   ,  109.644356  ,\n",
       "          23.484888  , 1371.2167    ,  240.21623   ],\n",
       "       [   1.3401148 ,  437.5406    ,  113.98902   ,   95.30251   ,\n",
       "          30.467522  , 1326.9763    ,  166.70978   ],\n",
       "       [  26.33454   ,  630.9611    ,  129.50938   ,   85.663506  ,\n",
       "          36.985172  , 1346.8733    ,  164.2591    ],\n",
       "       [ -11.999724  ,  693.63617   ,   68.48578   ,  118.90561   ,\n",
       "          26.611284  , 1374.0463    ,  250.9274    ],\n",
       "       [ -10.650869  ,  633.7053    ,  105.42547   ,  107.78672   ,\n",
       "          37.97311   , 1369.484     ,  225.48242   ],\n",
       "       [   3.8943417 ,  398.4935    ,  123.10912   ,   57.497128  ,\n",
       "          26.572775  , 1312.6906    ,  179.9936    ],\n",
       "       [  -3.0472052 ,  472.29572   ,   79.694305  ,   78.94591   ,\n",
       "          27.771328  , 1332.8927    ,  229.09349   ],\n",
       "       [   8.596952  ,  563.54706   ,   74.34643   ,   86.08297   ,\n",
       "          43.07131   , 1335.2479    ,  159.16174   ],\n",
       "       [  16.141314  ,  635.8623    ,  107.86404   ,  118.81259   ,\n",
       "          34.454304  , 1349.7916    ,  207.33623   ],\n",
       "       [  -4.12795   ,  670.9771    ,   71.340866  ,   98.83687   ,\n",
       "          24.223494  , 1354.3365    ,  233.31026   ],\n",
       "       [ -15.801752  ,  966.34283   ,   36.36141   ,  171.85123   ,\n",
       "          24.520912  , 1389.6837    ,  249.6947    ],\n",
       "       [   2.8058197 ,  687.591     ,  114.75416   ,  104.19888   ,\n",
       "          38.361908  , 1341.6113    ,  226.50713   ],\n",
       "       [ -11.199031  ,  568.0187    ,   88.05591   ,   69.699196  ,\n",
       "          20.114979  , 1327.7168    ,  246.28304   ],\n",
       "       [  14.173469  ,  675.7844    ,   58.491173  ,   53.209045  ,\n",
       "          18.639921  , 1329.835     ,  232.66478   ],\n",
       "       [  20.7361    ,  339.82562   ,  117.794525  ,   94.160835  ,\n",
       "          33.325176  , 1305.7231    ,  144.64113   ],\n",
       "       [ -27.641005  ,  301.3561    ,  132.4802    ,   61.888985  ,\n",
       "          19.277834  , 1353.5157    ,  232.65999   ],\n",
       "       [   7.5342865 ,  548.17834   ,  114.92544   ,   65.86882   ,\n",
       "          37.16169   , 1340.3912    ,  198.87715   ],\n",
       "       [  12.835726  ,  654.386     ,  119.05318   ,  121.54294   ,\n",
       "          36.72099   , 1347.5326    ,  186.6927    ],\n",
       "       [  30.421507  ,  618.4861    ,  126.42648   ,   77.6539    ,\n",
       "          29.918177  , 1332.6462    ,  215.20381   ],\n",
       "       [   0.7807055 ,  664.6744    ,   81.013466  ,  104.12959   ,\n",
       "          25.503603  , 1343.7751    ,  236.071     ],\n",
       "       [  13.164851  ,  529.6258    ,   90.61927   ,   83.46534   ,\n",
       "          36.91001   , 1311.3201    ,  137.8528    ],\n",
       "       [  16.460567  ,  303.38663   ,  109.00868   ,  129.02211   ,\n",
       "          36.26202   , 1284.6287    ,  122.32254   ],\n",
       "       [ -18.991928  ,  583.51215   ,   89.95844   ,   31.036129  ,\n",
       "          24.896488  , 1383.7052    ,  222.05522   ],\n",
       "       [   0.33075458,  498.73965   ,   57.304375  ,   98.67441   ,\n",
       "          21.701473  , 1347.257     ,  235.42795   ],\n",
       "       [   4.1103687 ,  575.62714   ,  131.06396   ,   65.379585  ,\n",
       "          24.116161  , 1326.9802    ,  199.24164   ],\n",
       "       [  11.52657   ,  695.0229    ,  117.248825  ,  110.24499   ,\n",
       "          31.233318  , 1343.3179    ,  241.49446   ],\n",
       "       [  14.740848  ,  703.34406   ,   74.31327   ,  124.31413   ,\n",
       "          25.468311  , 1365.4432    ,  238.1115    ],\n",
       "       [ -22.620075  ,  432.1566    ,  154.8437    ,   92.12168   ,\n",
       "          22.65455   , 1342.9725    ,  237.23885   ],\n",
       "       [  12.123637  ,  900.3742    ,  116.39496   ,  144.23795   ,\n",
       "          33.535934  , 1367.0807    ,  238.51712   ],\n",
       "       [   3.3836975 ,  557.97235   ,  115.77781   ,   82.05084   ,\n",
       "          31.959024  , 1337.808     ,  210.90735   ],\n",
       "       [  29.960264  ,  643.267     ,  101.71334   ,   85.96276   ,\n",
       "          30.416658  , 1336.5079    ,  204.12915   ],\n",
       "       [  38.126663  ,  612.7732    ,  103.81521   ,  145.2811    ,\n",
       "          34.882908  , 1325.0957    ,  209.2098    ],\n",
       "       [   7.788252  ,  649.9923    ,  116.28045   ,   80.50919   ,\n",
       "          23.07837   , 1328.4417    ,  188.23482   ],\n",
       "       [   9.574125  ,  216.26437   ,   66.12304   ,   75.27897   ,\n",
       "          33.897064  , 1300.8351    ,  135.72827   ],\n",
       "       [   5.5224385 ,  651.62225   ,   83.959076  ,  105.19655   ,\n",
       "          32.455776  , 1329.4829    ,  237.75716   ],\n",
       "       [ -16.314034  ,  801.71674   ,   20.778034  ,  128.21533   ,\n",
       "          18.547747  , 1406.0065    ,  254.44661   ]], dtype=float32)"
      ]
     },
     "execution_count": 42,
     "metadata": {},
     "output_type": "execute_result"
    }
   ],
   "source": [
    "\n",
    "y_pred\n"
   ]
  },
  {
   "cell_type": "code",
   "execution_count": 43,
   "id": "d7983530",
   "metadata": {},
   "outputs": [
    {
     "data": {
      "text/plain": [
       "0.45329396905971686"
      ]
     },
     "execution_count": 43,
     "metadata": {},
     "output_type": "execute_result"
    }
   ],
   "source": [
    "\n",
    "r2_score( PDFshapingOBJ.y_test, y_pred )\n"
   ]
  },
  {
   "cell_type": "code",
   "execution_count": null,
   "id": "8fb5919e",
   "metadata": {},
   "outputs": [],
   "source": []
  },
  {
   "cell_type": "code",
   "execution_count": null,
   "id": "3e3cf0d3",
   "metadata": {},
   "outputs": [],
   "source": []
  },
  {
   "cell_type": "code",
   "execution_count": null,
   "id": "b17bc095",
   "metadata": {},
   "outputs": [],
   "source": []
  },
  {
   "cell_type": "code",
   "execution_count": null,
   "id": "9c1bb46a",
   "metadata": {},
   "outputs": [],
   "source": []
  },
  {
   "cell_type": "code",
   "execution_count": null,
   "id": "324cd265",
   "metadata": {},
   "outputs": [],
   "source": []
  },
  {
   "cell_type": "code",
   "execution_count": null,
   "id": "95682046",
   "metadata": {},
   "outputs": [],
   "source": []
  }
 ],
 "metadata": {
  "kernelspec": {
   "display_name": "Python 3 (ipykernel)",
   "language": "python",
   "name": "python3"
  },
  "language_info": {
   "codemirror_mode": {
    "name": "ipython",
    "version": 3
   },
   "file_extension": ".py",
   "mimetype": "text/x-python",
   "name": "python",
   "nbconvert_exporter": "python",
   "pygments_lexer": "ipython3",
   "version": "3.7.16"
  }
 },
 "nbformat": 4,
 "nbformat_minor": 5
}
