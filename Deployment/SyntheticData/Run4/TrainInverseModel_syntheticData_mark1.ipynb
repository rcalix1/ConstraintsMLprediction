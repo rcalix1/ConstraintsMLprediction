{
 "cells": [
  {
   "cell_type": "markdown",
   "id": "286b5522",
   "metadata": {},
   "source": [
    "\n",
    "## Train Inverse Model (Synthetic Data, from output constraints optimization)\n",
    "\n",
    "* Synthetic Data gen: gradient based input optimization from constrained outputs \n",
    "* invert inputs and outputs and train\n",
    "\n",
    "## Web application \n",
    "\n",
    "Run interactively on the web at: \n",
    "\n",
    "\n",
    "## Inputs\n",
    "\n",
    "\n",
    "* desired output requirements \n",
    "\n",
    "Raceway flame temp > 1900K.....(19, 'o_fta')\n",
    " \n",
    "Hot metal temp > 1700K........(21, 'o_hmt')\n",
    "\n",
    "Top gas temp > 100C,,,,,,,,,,,(23, 'o_tgt')\n",
    "\n",
    "production rate ..............(39, 'o_prod_rt')\n",
    "\n",
    "\n",
    "## Outputs\n",
    "\n",
    "\n",
    "\n",
    "(2, 'i_h2i_rate')\n",
    "\n",
    "(3, 'i_h2_temp')\n",
    "\n",
    "(4, 'i_ngi_rate')\n",
    "\n",
    "(6, 'i_pci_rate')\n",
    "\n",
    "(11, 'i_o2_volfract')\n",
    "\n",
    "(12, 'i_hbtemp')\n",
    "\n",
    "(13, 'i_wind_rt')\n",
    "\n",
    "\n",
    "\n",
    "\n",
    "\n",
    "\n",
    "\n",
    "\n"
   ]
  },
  {
   "cell_type": "markdown",
   "id": "e75f0429",
   "metadata": {},
   "source": [
    "\n",
    "## Installs\n"
   ]
  },
  {
   "cell_type": "code",
   "execution_count": 1,
   "id": "e5878bfa",
   "metadata": {},
   "outputs": [],
   "source": [
    "\n",
    "## !pip install xgboost\n",
    "## !pip install onnxmltools\n",
    "## !pip install onnxruntime\n",
    "## !pip install pandas\n",
    "## !pip install scikit-learn\n",
    "## !pip install matplotlib\n",
    "## !pip install seaborn\n",
    "## !pip install mlxtend\n",
    "## ! pip install skl2onnx\n"
   ]
  },
  {
   "cell_type": "markdown",
   "id": "ebb037f5",
   "metadata": {},
   "source": [
    "\n",
    "## Imports\n"
   ]
  },
  {
   "cell_type": "code",
   "execution_count": 2,
   "id": "976f2c8b",
   "metadata": {},
   "outputs": [],
   "source": [
    "\n",
    "import torch\n",
    "import numpy as np\n",
    "import pandas as pd\n",
    "import sklearn\n",
    "import torch.nn as nn\n",
    "import torch.nn.functional as F\n",
    "\n",
    "import matplotlib.pyplot as plt\n",
    "import math\n",
    "import seaborn as sns\n",
    "import random\n",
    "import functorch\n",
    "\n",
    "\n",
    "import torch.optim as optim\n",
    "\n",
    "\n",
    "from numpy.random import normal\n",
    "from scipy.stats import norm\n",
    "import scipy.stats as stats\n",
    "from numpy import hstack\n",
    "from numpy import vstack\n",
    "from numpy import exp\n",
    "from sklearn.neighbors import KernelDensity\n",
    "\n",
    "##from typing import Optional\n",
    "\n",
    "from torch import Tensor\n",
    "\n",
    "\n",
    "from torch.utils.data import TensorDataset, DataLoader\n",
    "\n",
    "from mlxtend.plotting import heatmap\n",
    "\n",
    "## coefficient of determination (R**2)\n",
    "from sklearn.metrics import r2_score\n",
    "\n",
    "np.set_printoptions(suppress=True)\n",
    "torch.set_printoptions(sci_mode=False)\n",
    "\n",
    "from sklearn.metrics import mean_absolute_error, mean_squared_error, r2_score\n"
   ]
  },
  {
   "cell_type": "code",
   "execution_count": 3,
   "id": "1d1e5d18",
   "metadata": {},
   "outputs": [],
   "source": [
    "\n",
    "import xgboost as xgb\n",
    "from xgboost import XGBClassifier, XGBRegressor, DMatrix, train as train_xgb\n",
    "from sklearn.datasets import load_boston\n",
    "from sklearn.model_selection import train_test_split\n",
    "from sklearn.metrics import mean_squared_error\n",
    "from sklearn.pipeline import Pipeline\n",
    "from sklearn.preprocessing import StandardScaler\n",
    "\n",
    "import onnxmltools\n",
    "from onnxmltools.convert.xgboost.operator_converters.XGBoost import (\n",
    "    convert_xgboost)\n",
    "from onnxmltools.convert import convert_xgboost as convert_xgboost_booster\n",
    "\n",
    "\n",
    "from zipfile import ZipFile\n",
    "from skl2onnx.common.data_types import FloatTensorType\n",
    "from skl2onnx import convert_sklearn, to_onnx, update_registered_converter\n",
    "from skl2onnx.common.shape_calculator import (\n",
    "    calculate_linear_classifier_output_shapes,\n",
    "    calculate_linear_regressor_output_shapes)\n",
    "\n",
    "\n",
    "# Import the ONNX runtime environment\n",
    "import onnxruntime as rt\n",
    "\n"
   ]
  },
  {
   "cell_type": "code",
   "execution_count": 4,
   "id": "b62c5c0d",
   "metadata": {},
   "outputs": [],
   "source": [
    "\n",
    "import PDFshapingUtils as PDF_tk\n"
   ]
  },
  {
   "cell_type": "markdown",
   "id": "7acae472",
   "metadata": {},
   "source": [
    "\n",
    "## Instantiate PDF shaping and regression class\n"
   ]
  },
  {
   "cell_type": "code",
   "execution_count": 5,
   "id": "0398adc8",
   "metadata": {},
   "outputs": [],
   "source": [
    "\n",
    "PDFshapingOBJ = PDF_tk.PDFshapingUtils()\n"
   ]
  },
  {
   "cell_type": "markdown",
   "id": "c4147cd3",
   "metadata": {},
   "source": [
    "\n",
    "## Initialize parameters\n"
   ]
  },
  {
   "cell_type": "code",
   "execution_count": 6,
   "id": "33351992",
   "metadata": {},
   "outputs": [],
   "source": [
    "\n",
    "PDFshapingOBJ.N_error_range = 5         ## 20\n",
    "PDFshapingOBJ.mean_impulse  = 0.0       ## -7.0      ## 0.0\n",
    "PDFshapingOBJ.std_impulse   = 0.001     ## 1.0\n",
    "PDFshapingOBJ.kde_std       = 0.5       ## 0.1       ## 0.5      ## 3.0  ## smaller is better approximation?\n",
    "PDFshapingOBJ.bandwidth     = 0.2       ## 0.2->more jagged, 2.0->more smooth\n"
   ]
  },
  {
   "cell_type": "code",
   "execution_count": 7,
   "id": "1f3e1ea8",
   "metadata": {},
   "outputs": [],
   "source": [
    "\n",
    "PDFshapingOBJ.initializeImpulseGaussian()\n"
   ]
  },
  {
   "cell_type": "markdown",
   "id": "4ac9d820",
   "metadata": {},
   "source": [
    "\n",
    "## Load Data\n"
   ]
  },
  {
   "cell_type": "code",
   "execution_count": 8,
   "id": "83fb3b5a",
   "metadata": {},
   "outputs": [],
   "source": [
    "\n",
    "df_synthetic_data_for_inverse = PDFshapingOBJ.load_synth_folder_to_pandas(\"SyntheticCorpus\", flatten=True)\n"
   ]
  },
  {
   "cell_type": "code",
   "execution_count": 9,
   "id": "c778ddea",
   "metadata": {},
   "outputs": [],
   "source": [
    "\n",
    "PDFshapingOBJ.CFD_raw_data = df_synthetic_data_for_inverse \n"
   ]
  },
  {
   "cell_type": "code",
   "execution_count": 10,
   "id": "0c808fb4",
   "metadata": {},
   "outputs": [],
   "source": [
    "\n",
    "PDFshapingOBJ.headers_list = PDFshapingOBJ.CFD_raw_data.columns.values.tolist()\n"
   ]
  },
  {
   "cell_type": "code",
   "execution_count": 11,
   "id": "9fb2a300",
   "metadata": {},
   "outputs": [
    {
     "data": {
      "text/html": [
       "<div>\n",
       "<style scoped>\n",
       "    .dataframe tbody tr th:only-of-type {\n",
       "        vertical-align: middle;\n",
       "    }\n",
       "\n",
       "    .dataframe tbody tr th {\n",
       "        vertical-align: top;\n",
       "    }\n",
       "\n",
       "    .dataframe thead th {\n",
       "        text-align: right;\n",
       "    }\n",
       "</style>\n",
       "<table border=\"1\" class=\"dataframe\">\n",
       "  <thead>\n",
       "    <tr style=\"text-align: right;\">\n",
       "      <th></th>\n",
       "      <th>clamp_min_0</th>\n",
       "      <th>clamp_min_1</th>\n",
       "      <th>clamp_min_2</th>\n",
       "      <th>clamp_min_3</th>\n",
       "      <th>clamp_min_4</th>\n",
       "      <th>clamp_min_5</th>\n",
       "      <th>clamp_min_6</th>\n",
       "      <th>final_input_0</th>\n",
       "      <th>final_input_1</th>\n",
       "      <th>final_input_2</th>\n",
       "      <th>...</th>\n",
       "      <th>lower_bounds_glob_2</th>\n",
       "      <th>lower_bounds_glob_3</th>\n",
       "      <th>final_output_0</th>\n",
       "      <th>final_output_1</th>\n",
       "      <th>final_output_2</th>\n",
       "      <th>final_output_3</th>\n",
       "      <th>upper_bounds_glob_0</th>\n",
       "      <th>upper_bounds_glob_1</th>\n",
       "      <th>upper_bounds_glob_2</th>\n",
       "      <th>upper_bounds_glob_3</th>\n",
       "    </tr>\n",
       "  </thead>\n",
       "  <tbody>\n",
       "    <tr>\n",
       "      <th>0</th>\n",
       "      <td>0.0</td>\n",
       "      <td>0.0</td>\n",
       "      <td>0.0</td>\n",
       "      <td>0.0</td>\n",
       "      <td>0.0</td>\n",
       "      <td>1150.0</td>\n",
       "      <td>100.0</td>\n",
       "      <td>30.913000</td>\n",
       "      <td>605.179993</td>\n",
       "      <td>70.586998</td>\n",
       "      <td>...</td>\n",
       "      <td>12.201427</td>\n",
       "      <td>8336.685547</td>\n",
       "      <td>2412.514893</td>\n",
       "      <td>807.518005</td>\n",
       "      <td>34.897999</td>\n",
       "      <td>9327.898438</td>\n",
       "      <td>2457.082764</td>\n",
       "      <td>945.653198</td>\n",
       "      <td>43.632729</td>\n",
       "      <td>9949.238281</td>\n",
       "    </tr>\n",
       "    <tr>\n",
       "      <th>1</th>\n",
       "      <td>0.0</td>\n",
       "      <td>0.0</td>\n",
       "      <td>0.0</td>\n",
       "      <td>0.0</td>\n",
       "      <td>0.0</td>\n",
       "      <td>1150.0</td>\n",
       "      <td>100.0</td>\n",
       "      <td>8.196000</td>\n",
       "      <td>849.021973</td>\n",
       "      <td>84.723000</td>\n",
       "      <td>...</td>\n",
       "      <td>136.951645</td>\n",
       "      <td>6527.677734</td>\n",
       "      <td>2218.454102</td>\n",
       "      <td>1723.489990</td>\n",
       "      <td>117.444000</td>\n",
       "      <td>7630.222168</td>\n",
       "      <td>2384.780273</td>\n",
       "      <td>1846.199707</td>\n",
       "      <td>161.503098</td>\n",
       "      <td>8197.164062</td>\n",
       "    </tr>\n",
       "    <tr>\n",
       "      <th>2</th>\n",
       "      <td>0.0</td>\n",
       "      <td>0.0</td>\n",
       "      <td>0.0</td>\n",
       "      <td>0.0</td>\n",
       "      <td>0.0</td>\n",
       "      <td>1150.0</td>\n",
       "      <td>100.0</td>\n",
       "      <td>19.176001</td>\n",
       "      <td>385.032013</td>\n",
       "      <td>47.999001</td>\n",
       "      <td>...</td>\n",
       "      <td>70.967445</td>\n",
       "      <td>8830.876953</td>\n",
       "      <td>2063.924072</td>\n",
       "      <td>555.703979</td>\n",
       "      <td>71.166000</td>\n",
       "      <td>9310.989258</td>\n",
       "      <td>2061.797363</td>\n",
       "      <td>814.313354</td>\n",
       "      <td>80.050781</td>\n",
       "      <td>9196.826172</td>\n",
       "    </tr>\n",
       "    <tr>\n",
       "      <th>3</th>\n",
       "      <td>0.0</td>\n",
       "      <td>0.0</td>\n",
       "      <td>0.0</td>\n",
       "      <td>0.0</td>\n",
       "      <td>0.0</td>\n",
       "      <td>1150.0</td>\n",
       "      <td>100.0</td>\n",
       "      <td>10.705000</td>\n",
       "      <td>609.044983</td>\n",
       "      <td>39.851002</td>\n",
       "      <td>...</td>\n",
       "      <td>72.513382</td>\n",
       "      <td>9474.287109</td>\n",
       "      <td>2383.951904</td>\n",
       "      <td>1627.159058</td>\n",
       "      <td>77.302002</td>\n",
       "      <td>10752.974609</td>\n",
       "      <td>2449.659424</td>\n",
       "      <td>2199.852051</td>\n",
       "      <td>110.303909</td>\n",
       "      <td>10992.480469</td>\n",
       "    </tr>\n",
       "    <tr>\n",
       "      <th>4</th>\n",
       "      <td>0.0</td>\n",
       "      <td>0.0</td>\n",
       "      <td>0.0</td>\n",
       "      <td>0.0</td>\n",
       "      <td>0.0</td>\n",
       "      <td>1150.0</td>\n",
       "      <td>100.0</td>\n",
       "      <td>19.545000</td>\n",
       "      <td>775.119995</td>\n",
       "      <td>68.838997</td>\n",
       "      <td>...</td>\n",
       "      <td>106.992905</td>\n",
       "      <td>7615.858398</td>\n",
       "      <td>2229.862061</td>\n",
       "      <td>1464.323975</td>\n",
       "      <td>102.764999</td>\n",
       "      <td>8250.154297</td>\n",
       "      <td>2437.204590</td>\n",
       "      <td>1541.996338</td>\n",
       "      <td>135.790146</td>\n",
       "      <td>8403.231445</td>\n",
       "    </tr>\n",
       "    <tr>\n",
       "      <th>...</th>\n",
       "      <td>...</td>\n",
       "      <td>...</td>\n",
       "      <td>...</td>\n",
       "      <td>...</td>\n",
       "      <td>...</td>\n",
       "      <td>...</td>\n",
       "      <td>...</td>\n",
       "      <td>...</td>\n",
       "      <td>...</td>\n",
       "      <td>...</td>\n",
       "      <td>...</td>\n",
       "      <td>...</td>\n",
       "      <td>...</td>\n",
       "      <td>...</td>\n",
       "      <td>...</td>\n",
       "      <td>...</td>\n",
       "      <td>...</td>\n",
       "      <td>...</td>\n",
       "      <td>...</td>\n",
       "      <td>...</td>\n",
       "      <td>...</td>\n",
       "    </tr>\n",
       "    <tr>\n",
       "      <th>12795</th>\n",
       "      <td>0.0</td>\n",
       "      <td>0.0</td>\n",
       "      <td>0.0</td>\n",
       "      <td>0.0</td>\n",
       "      <td>0.0</td>\n",
       "      <td>1150.0</td>\n",
       "      <td>100.0</td>\n",
       "      <td>21.770000</td>\n",
       "      <td>598.341003</td>\n",
       "      <td>69.146004</td>\n",
       "      <td>...</td>\n",
       "      <td>64.648178</td>\n",
       "      <td>8814.487305</td>\n",
       "      <td>2195.169922</td>\n",
       "      <td>563.091003</td>\n",
       "      <td>69.459000</td>\n",
       "      <td>9903.182617</td>\n",
       "      <td>2197.718262</td>\n",
       "      <td>928.289856</td>\n",
       "      <td>95.199257</td>\n",
       "      <td>10039.049805</td>\n",
       "    </tr>\n",
       "    <tr>\n",
       "      <th>12796</th>\n",
       "      <td>0.0</td>\n",
       "      <td>0.0</td>\n",
       "      <td>0.0</td>\n",
       "      <td>0.0</td>\n",
       "      <td>0.0</td>\n",
       "      <td>1150.0</td>\n",
       "      <td>100.0</td>\n",
       "      <td>22.367001</td>\n",
       "      <td>503.432007</td>\n",
       "      <td>110.265999</td>\n",
       "      <td>...</td>\n",
       "      <td>35.388786</td>\n",
       "      <td>11333.872070</td>\n",
       "      <td>2416.008057</td>\n",
       "      <td>1040.993042</td>\n",
       "      <td>54.949001</td>\n",
       "      <td>12221.938477</td>\n",
       "      <td>2404.311279</td>\n",
       "      <td>1256.759033</td>\n",
       "      <td>73.485397</td>\n",
       "      <td>12957.224609</td>\n",
       "    </tr>\n",
       "    <tr>\n",
       "      <th>12797</th>\n",
       "      <td>0.0</td>\n",
       "      <td>0.0</td>\n",
       "      <td>0.0</td>\n",
       "      <td>0.0</td>\n",
       "      <td>0.0</td>\n",
       "      <td>1150.0</td>\n",
       "      <td>100.0</td>\n",
       "      <td>24.903999</td>\n",
       "      <td>360.769989</td>\n",
       "      <td>63.609001</td>\n",
       "      <td>...</td>\n",
       "      <td>62.062183</td>\n",
       "      <td>7526.657715</td>\n",
       "      <td>1913.156982</td>\n",
       "      <td>-469.911011</td>\n",
       "      <td>49.606998</td>\n",
       "      <td>8548.337891</td>\n",
       "      <td>1911.846436</td>\n",
       "      <td>-367.408630</td>\n",
       "      <td>85.371010</td>\n",
       "      <td>8330.985352</td>\n",
       "    </tr>\n",
       "    <tr>\n",
       "      <th>12798</th>\n",
       "      <td>0.0</td>\n",
       "      <td>0.0</td>\n",
       "      <td>0.0</td>\n",
       "      <td>0.0</td>\n",
       "      <td>0.0</td>\n",
       "      <td>1150.0</td>\n",
       "      <td>100.0</td>\n",
       "      <td>16.549999</td>\n",
       "      <td>500.425995</td>\n",
       "      <td>58.637001</td>\n",
       "      <td>...</td>\n",
       "      <td>74.192230</td>\n",
       "      <td>8184.343750</td>\n",
       "      <td>2176.697021</td>\n",
       "      <td>595.208984</td>\n",
       "      <td>68.545998</td>\n",
       "      <td>9531.071289</td>\n",
       "      <td>2144.052979</td>\n",
       "      <td>1028.856445</td>\n",
       "      <td>98.239067</td>\n",
       "      <td>9429.421875</td>\n",
       "    </tr>\n",
       "    <tr>\n",
       "      <th>12799</th>\n",
       "      <td>0.0</td>\n",
       "      <td>0.0</td>\n",
       "      <td>0.0</td>\n",
       "      <td>0.0</td>\n",
       "      <td>0.0</td>\n",
       "      <td>1150.0</td>\n",
       "      <td>100.0</td>\n",
       "      <td>16.160000</td>\n",
       "      <td>807.242004</td>\n",
       "      <td>43.441002</td>\n",
       "      <td>...</td>\n",
       "      <td>45.348854</td>\n",
       "      <td>7124.713379</td>\n",
       "      <td>2484.006104</td>\n",
       "      <td>1544.691040</td>\n",
       "      <td>38.772999</td>\n",
       "      <td>8381.093750</td>\n",
       "      <td>2568.768555</td>\n",
       "      <td>1998.402100</td>\n",
       "      <td>56.318268</td>\n",
       "      <td>8570.007812</td>\n",
       "    </tr>\n",
       "  </tbody>\n",
       "</table>\n",
       "<p>12800 rows × 33 columns</p>\n",
       "</div>"
      ],
      "text/plain": [
       "       clamp_min_0  clamp_min_1  clamp_min_2  clamp_min_3  clamp_min_4  \\\n",
       "0              0.0          0.0          0.0          0.0          0.0   \n",
       "1              0.0          0.0          0.0          0.0          0.0   \n",
       "2              0.0          0.0          0.0          0.0          0.0   \n",
       "3              0.0          0.0          0.0          0.0          0.0   \n",
       "4              0.0          0.0          0.0          0.0          0.0   \n",
       "...            ...          ...          ...          ...          ...   \n",
       "12795          0.0          0.0          0.0          0.0          0.0   \n",
       "12796          0.0          0.0          0.0          0.0          0.0   \n",
       "12797          0.0          0.0          0.0          0.0          0.0   \n",
       "12798          0.0          0.0          0.0          0.0          0.0   \n",
       "12799          0.0          0.0          0.0          0.0          0.0   \n",
       "\n",
       "       clamp_min_5  clamp_min_6  final_input_0  final_input_1  final_input_2  \\\n",
       "0           1150.0        100.0      30.913000     605.179993      70.586998   \n",
       "1           1150.0        100.0       8.196000     849.021973      84.723000   \n",
       "2           1150.0        100.0      19.176001     385.032013      47.999001   \n",
       "3           1150.0        100.0      10.705000     609.044983      39.851002   \n",
       "4           1150.0        100.0      19.545000     775.119995      68.838997   \n",
       "...            ...          ...            ...            ...            ...   \n",
       "12795       1150.0        100.0      21.770000     598.341003      69.146004   \n",
       "12796       1150.0        100.0      22.367001     503.432007     110.265999   \n",
       "12797       1150.0        100.0      24.903999     360.769989      63.609001   \n",
       "12798       1150.0        100.0      16.549999     500.425995      58.637001   \n",
       "12799       1150.0        100.0      16.160000     807.242004      43.441002   \n",
       "\n",
       "       ...  lower_bounds_glob_2  lower_bounds_glob_3  final_output_0  \\\n",
       "0      ...            12.201427          8336.685547     2412.514893   \n",
       "1      ...           136.951645          6527.677734     2218.454102   \n",
       "2      ...            70.967445          8830.876953     2063.924072   \n",
       "3      ...            72.513382          9474.287109     2383.951904   \n",
       "4      ...           106.992905          7615.858398     2229.862061   \n",
       "...    ...                  ...                  ...             ...   \n",
       "12795  ...            64.648178          8814.487305     2195.169922   \n",
       "12796  ...            35.388786         11333.872070     2416.008057   \n",
       "12797  ...            62.062183          7526.657715     1913.156982   \n",
       "12798  ...            74.192230          8184.343750     2176.697021   \n",
       "12799  ...            45.348854          7124.713379     2484.006104   \n",
       "\n",
       "       final_output_1  final_output_2  final_output_3  upper_bounds_glob_0  \\\n",
       "0          807.518005       34.897999     9327.898438          2457.082764   \n",
       "1         1723.489990      117.444000     7630.222168          2384.780273   \n",
       "2          555.703979       71.166000     9310.989258          2061.797363   \n",
       "3         1627.159058       77.302002    10752.974609          2449.659424   \n",
       "4         1464.323975      102.764999     8250.154297          2437.204590   \n",
       "...               ...             ...             ...                  ...   \n",
       "12795      563.091003       69.459000     9903.182617          2197.718262   \n",
       "12796     1040.993042       54.949001    12221.938477          2404.311279   \n",
       "12797     -469.911011       49.606998     8548.337891          1911.846436   \n",
       "12798      595.208984       68.545998     9531.071289          2144.052979   \n",
       "12799     1544.691040       38.772999     8381.093750          2568.768555   \n",
       "\n",
       "       upper_bounds_glob_1  upper_bounds_glob_2  upper_bounds_glob_3  \n",
       "0               945.653198            43.632729          9949.238281  \n",
       "1              1846.199707           161.503098          8197.164062  \n",
       "2               814.313354            80.050781          9196.826172  \n",
       "3              2199.852051           110.303909         10992.480469  \n",
       "4              1541.996338           135.790146          8403.231445  \n",
       "...                    ...                  ...                  ...  \n",
       "12795           928.289856            95.199257         10039.049805  \n",
       "12796          1256.759033            73.485397         12957.224609  \n",
       "12797          -367.408630            85.371010          8330.985352  \n",
       "12798          1028.856445            98.239067          9429.421875  \n",
       "12799          1998.402100            56.318268          8570.007812  \n",
       "\n",
       "[12800 rows x 33 columns]"
      ]
     },
     "execution_count": 11,
     "metadata": {},
     "output_type": "execute_result"
    }
   ],
   "source": [
    "\n",
    "PDFshapingOBJ.CFD_raw_data\n"
   ]
  },
  {
   "cell_type": "code",
   "execution_count": 12,
   "id": "805b0aa6",
   "metadata": {},
   "outputs": [
    {
     "name": "stdout",
     "output_type": "stream",
     "text": [
      "['clamp_min_0', 'clamp_min_1', 'clamp_min_2', 'clamp_min_3', 'clamp_min_4', 'clamp_min_5', 'clamp_min_6', 'final_input_0', 'final_input_1', 'final_input_2', 'final_input_3', 'final_input_4', 'final_input_5', 'final_input_6', 'clamp_max_0', 'clamp_max_1', 'clamp_max_2', 'clamp_max_3', 'clamp_max_4', 'clamp_max_5', 'clamp_max_6', 'lower_bounds_glob_0', 'lower_bounds_glob_1', 'lower_bounds_glob_2', 'lower_bounds_glob_3', 'final_output_0', 'final_output_1', 'final_output_2', 'final_output_3', 'upper_bounds_glob_0', 'upper_bounds_glob_1', 'upper_bounds_glob_2', 'upper_bounds_glob_3']\n",
      "33\n",
      "(0, 'clamp_min_0')\n",
      "(1, 'clamp_min_1')\n",
      "(2, 'clamp_min_2')\n",
      "(3, 'clamp_min_3')\n",
      "(4, 'clamp_min_4')\n",
      "(5, 'clamp_min_5')\n",
      "(6, 'clamp_min_6')\n",
      "(7, 'final_input_0')\n",
      "(8, 'final_input_1')\n",
      "(9, 'final_input_2')\n",
      "(10, 'final_input_3')\n",
      "(11, 'final_input_4')\n",
      "(12, 'final_input_5')\n",
      "(13, 'final_input_6')\n",
      "(14, 'clamp_max_0')\n",
      "(15, 'clamp_max_1')\n",
      "(16, 'clamp_max_2')\n",
      "(17, 'clamp_max_3')\n",
      "(18, 'clamp_max_4')\n",
      "(19, 'clamp_max_5')\n",
      "(20, 'clamp_max_6')\n",
      "(21, 'lower_bounds_glob_0')\n",
      "(22, 'lower_bounds_glob_1')\n",
      "(23, 'lower_bounds_glob_2')\n",
      "(24, 'lower_bounds_glob_3')\n",
      "(25, 'final_output_0')\n",
      "(26, 'final_output_1')\n",
      "(27, 'final_output_2')\n",
      "(28, 'final_output_3')\n",
      "(29, 'upper_bounds_glob_0')\n",
      "(30, 'upper_bounds_glob_1')\n",
      "(31, 'upper_bounds_glob_2')\n",
      "(32, 'upper_bounds_glob_3')\n"
     ]
    }
   ],
   "source": [
    "\n",
    "PDFshapingOBJ.print_headers_list()\n"
   ]
  },
  {
   "cell_type": "code",
   "execution_count": 13,
   "id": "d57e4c15",
   "metadata": {},
   "outputs": [
    {
     "data": {
      "text/plain": [
       "\"\\n\\n\\nPDFshapingOBJ.list_of_selected_column_names = ['i_h2i_rate','i_h2_temp','i_ngi_rate','i_ng_temp','i_pci_rate',\\n                    'i_wpi_rate','i_o2_volfract',\\n                    'i_hbtemp','i_wind_rt','o_prod_rt', 'o_tgt', 'o_hmt','o_fta']\\n\\n\\n\\nPDFshapingOBJ.print_correlation_coefficients()\\n\\n\""
      ]
     },
     "execution_count": 13,
     "metadata": {},
     "output_type": "execute_result"
    }
   ],
   "source": [
    "'''\n",
    "\n",
    "\n",
    "PDFshapingOBJ.list_of_selected_column_names = ['i_h2i_rate','i_h2_temp','i_ngi_rate','i_ng_temp','i_pci_rate',\n",
    "                    'i_wpi_rate','i_o2_volfract',\n",
    "                    'i_hbtemp','i_wind_rt','o_prod_rt', 'o_tgt', 'o_hmt','o_fta']\n",
    "\n",
    "\n",
    "\n",
    "PDFshapingOBJ.print_correlation_coefficients()\n",
    "\n",
    "'''\n"
   ]
  },
  {
   "cell_type": "code",
   "execution_count": 14,
   "id": "ac298349",
   "metadata": {},
   "outputs": [
    {
     "name": "stdout",
     "output_type": "stream",
     "text": [
      "[[   0.            0.            0.         ...  945.65319824\n",
      "    43.63272858 9949.23828125]\n",
      " [   0.            0.            0.         ... 1846.19970703\n",
      "   161.50309753 8197.1640625 ]\n",
      " [   0.            0.            0.         ...  814.31335449\n",
      "    80.05078125 9196.82617188]\n",
      " ...\n",
      " [   0.            0.            0.         ... -367.40863037\n",
      "    85.37100983 8330.98535156]\n",
      " [   0.            0.            0.         ... 1028.85644531\n",
      "    98.23906708 9429.421875  ]\n",
      " [   0.            0.            0.         ... 1998.40209961\n",
      "    56.31826782 8570.0078125 ]]\n",
      "(12800, 33)\n"
     ]
    }
   ],
   "source": [
    "\n",
    "PDFshapingOBJ.convert_pd_data_to_numpy()\n"
   ]
  },
  {
   "cell_type": "markdown",
   "id": "60c6a7ed",
   "metadata": {},
   "source": [
    "\n",
    "## Select inputs and outputs\n"
   ]
  },
  {
   "cell_type": "code",
   "execution_count": 15,
   "id": "82175b15",
   "metadata": {},
   "outputs": [
    {
     "name": "stdout",
     "output_type": "stream",
     "text": [
      "8\n",
      "7\n"
     ]
    }
   ],
   "source": [
    "\n",
    "\n",
    "\n",
    "'''\n",
    "(21, 'lower_bounds_glob_0')\n",
    "(22, 'lower_bounds_glob_1')\n",
    "(23, 'lower_bounds_glob_2')\n",
    "(24, 'lower_bounds_glob_3')\n",
    "\n",
    "(29, 'upper_bounds_glob_0')\n",
    "(30, 'upper_bounds_glob_1')\n",
    "(31, 'upper_bounds_glob_2')\n",
    "(32, 'upper_bounds_glob_3')\n",
    "'''\n",
    "\n",
    "\n",
    "\n",
    "\n",
    "PDFshapingOBJ.gen_X_y_for_selected_indeces(  \n",
    "                   inputs = [ 21,22,23,24,    29,30,31,32 ] ,  \n",
    "                   outputs= [  7, 8, 9, 10, 11, 12, 13 ]   \n",
    ")\n"
   ]
  },
  {
   "cell_type": "code",
   "execution_count": 16,
   "id": "d2df9b9e",
   "metadata": {},
   "outputs": [
    {
     "name": "stdout",
     "output_type": "stream",
     "text": [
      "(12800, 8)\n",
      "(12800, 7)\n"
     ]
    }
   ],
   "source": [
    "\n",
    "print(PDFshapingOBJ.X.shape)\n",
    "print(PDFshapingOBJ.y.shape)\n"
   ]
  },
  {
   "cell_type": "code",
   "execution_count": 17,
   "id": "3eadabb9",
   "metadata": {},
   "outputs": [],
   "source": [
    "\n",
    "PDFshapingOBJ.random_seed = int( random.random() * 100  )         ## defautl is 42\n"
   ]
  },
  {
   "cell_type": "code",
   "execution_count": 18,
   "id": "ca944d87",
   "metadata": {},
   "outputs": [
    {
     "name": "stdout",
     "output_type": "stream",
     "text": [
      "(10240, 8)\n",
      "(2560, 8)\n",
      "(10240, 7)\n",
      "(2560, 7)\n"
     ]
    }
   ],
   "source": [
    "\n",
    "PDFshapingOBJ.split_np_data_train_test(selected_test_size=0.2)\n"
   ]
  },
  {
   "cell_type": "code",
   "execution_count": 19,
   "id": "bba1eb32",
   "metadata": {},
   "outputs": [],
   "source": [
    "\n",
    "PDFshapingOBJ.convert_dataset_from_np_to_torch()\n"
   ]
  },
  {
   "cell_type": "code",
   "execution_count": 20,
   "id": "61373d5f",
   "metadata": {},
   "outputs": [],
   "source": [
    "\n",
    "PDFshapingOBJ.standardize_X_scales()\n",
    "PDFshapingOBJ.standardize_y_scales()\n"
   ]
  },
  {
   "cell_type": "code",
   "execution_count": 21,
   "id": "d08b752c",
   "metadata": {},
   "outputs": [
    {
     "data": {
      "text/plain": [
       "<torch.utils.data.dataloader.DataLoader at 0x7f42ee5972d0>"
      ]
     },
     "execution_count": 21,
     "metadata": {},
     "output_type": "execute_result"
    }
   ],
   "source": [
    "\n",
    "PDFshapingOBJ.gen_Dataloader_train()\n",
    "\n",
    "PDFshapingOBJ.train_dl\n"
   ]
  },
  {
   "cell_type": "code",
   "execution_count": 22,
   "id": "c5c7e692",
   "metadata": {},
   "outputs": [],
   "source": [
    "\n",
    "n_inputs  = 8\n",
    "n_outputs = 7\n",
    "\n",
    "class ResidualNet(nn.Module):\n",
    "    def __init__(self, x_means, x_deviations, y_means, y_deviations, dropout_rate=0.1, device='cuda'):\n",
    "        \n",
    "        super().__init__()\n",
    "        self.device = device\n",
    "        \n",
    "        self.x_means      = x_means.to(self.device)\n",
    "        self.x_deviations = x_deviations.to(self.device)\n",
    "        self.y_means      = y_means.to(self.device)\n",
    "        self.y_deviations = y_deviations.to(self.device)\n",
    "\n",
    "     \n",
    "        self.fc1  = nn.Linear(n_inputs, 64)\n",
    "        self.act1 = nn.ReLU()\n",
    "        self.dropout1 = nn.Dropout(dropout_rate)\n",
    "\n",
    "        self.fc2 = nn.Linear(64, 64)\n",
    "        self.act2 = nn.ReLU()\n",
    "        self.dropout2 = nn.Dropout(dropout_rate)\n",
    "\n",
    "        self.fc3 = nn.Linear(64, n_outputs)\n",
    "\n",
    "        # If input_dim ≠ 64, project for residual addition\n",
    "        self.input_proj = nn.Linear(n_inputs, 64) if n_inputs != 64 else nn.Identity()\n",
    "        \n",
    "        # Move model to device\n",
    "        self.to(self.device)\n",
    "        \n",
    "\n",
    "    def forward(self, x):\n",
    "        x  = x.to(self.device)\n",
    "        x  = (x - self.x_means) / self.x_deviations\n",
    "        x0 = self.input_proj(x)\n",
    "        x1 = self.dropout1(self.act1(self.fc1(x)))\n",
    "        x2 = self.dropout2(self.act2(self.fc2(x1)))\n",
    "        x_res = x2 + x0\n",
    "        y_scaled = self.fc3(x_res)\n",
    "        y_descaled = y_scaled * self.y_deviations + self.y_means\n",
    "        \n",
    "        return y_descaled, y_scaled\n",
    "    \n",
    "    \n"
   ]
  },
  {
   "cell_type": "code",
   "execution_count": 23,
   "id": "5f432964",
   "metadata": {},
   "outputs": [],
   "source": [
    "\n",
    "device = torch.device('cuda' if torch.cuda.is_available() else 'cpu')\n",
    "\n",
    "model     = ResidualNet(\n",
    "             PDFshapingOBJ.x_means, \n",
    "             PDFshapingOBJ.x_deviations, \n",
    "             PDFshapingOBJ.y_means, \n",
    "             PDFshapingOBJ.y_deviations,\n",
    "             device=device  # pass device into the model\n",
    "    \n",
    ")\n",
    "\n",
    "optimizer = optim.Adam(model.parameters(), lr=0.001)\n",
    "loss_fn   = nn.MSELoss()\n",
    "\n",
    "\n"
   ]
  },
  {
   "cell_type": "code",
   "execution_count": 24,
   "id": "d22a9dd9",
   "metadata": {},
   "outputs": [
    {
     "name": "stdout",
     "output_type": "stream",
     "text": [
      "0 ..... 0.3609553277492523\n",
      "100 ..... 0.31876611709594727\n",
      "200 ..... 0.3444133400917053\n",
      "300 ..... 0.33273541927337646\n",
      "400 ..... 0.2690443694591522\n",
      "500 ..... 0.5578444600105286\n",
      "600 ..... 0.2586786150932312\n",
      "700 ..... 0.23427189886569977\n",
      "800 ..... 0.32660627365112305\n",
      "900 ..... 0.2769528329372406\n"
     ]
    }
   ],
   "source": [
    "\n",
    "model.train()\n",
    "\n",
    "for epoch in range(1000):\n",
    "    for xb, yb in PDFshapingOBJ.train_dl:\n",
    "        \n",
    "        xb = xb.to(model.device)\n",
    "        yb = yb.to(model.device)\n",
    "        \n",
    "        optimizer.zero_grad()\n",
    "        pred_descaled, pred_scaled = model(xb)\n",
    "        loss = loss_fn(pred_scaled, yb)\n",
    "        loss.backward()\n",
    "        optimizer.step()\n",
    "    if epoch % 100 == 0:\n",
    "        print(epoch, \".....\", loss.item() ) \n",
    "    \n",
    "\n",
    "\n",
    "    "
   ]
  },
  {
   "cell_type": "code",
   "execution_count": 25,
   "id": "c7a13532",
   "metadata": {},
   "outputs": [
    {
     "name": "stdout",
     "output_type": "stream",
     "text": [
      "=== SANITY CHECK: SCALING ===\n",
      "y_means: tensor([[  18.2588,  727.0840,   47.2776,   75.4991,   28.3970, 1393.0557,\n",
      "          192.3960]])\n",
      "y_deviations: tensor([[  9.4831, 201.1636,  26.0495,  37.0130,   6.9267,  55.0775,  28.2429]])\n",
      "===============================================\n",
      "x_means: tensor([[2261.7278, 1202.5920,   71.6060, 7958.9033, 2408.2881, 1603.5251,\n",
      "           98.8302, 8965.0166]])\n",
      "x_deviations: tensor([[ 208.6543,  574.8627,   39.0436, 1430.6458,  216.8379,  598.6440,\n",
      "           40.6227, 1496.8661]])\n"
     ]
    }
   ],
   "source": [
    "\n",
    "print(\"=== SANITY CHECK: SCALING ===\")\n",
    "print(\"y_means:\", PDFshapingOBJ.y_means)\n",
    "print(\"y_deviations:\", PDFshapingOBJ.y_deviations)\n",
    "\n",
    "print(\"===============================================\")\n",
    "\n",
    "print(\"x_means:\", PDFshapingOBJ.x_means)\n",
    "print(\"x_deviations:\", PDFshapingOBJ.x_deviations)\n",
    "\n"
   ]
  },
  {
   "cell_type": "markdown",
   "id": "6ca1a292",
   "metadata": {},
   "source": [
    "\n",
    "## Test model\n"
   ]
  },
  {
   "cell_type": "code",
   "execution_count": 26,
   "id": "6f1ebf4f",
   "metadata": {},
   "outputs": [
    {
     "name": "stdout",
     "output_type": "stream",
     "text": [
      "tensor([2402.9536,  643.5659,   40.3890, 7005.4863, 2619.6917,  906.4285,\n",
      "          66.7047, 8444.7793])\n",
      "tensor([  18.3360, 1054.0439,   56.6940,   89.2540,   29.1840, 1367.6200,\n",
      "         157.7800])\n"
     ]
    }
   ],
   "source": [
    "\n",
    "print( PDFshapingOBJ.X_test_tr[0] )\n",
    "print( PDFshapingOBJ.y_test_tr[0] )\n"
   ]
  },
  {
   "cell_type": "code",
   "execution_count": 27,
   "id": "af93fe73",
   "metadata": {},
   "outputs": [
    {
     "name": "stdout",
     "output_type": "stream",
     "text": [
      "torch.Size([2560, 8])\n",
      "torch.Size([2560, 7])\n"
     ]
    }
   ],
   "source": [
    "\n",
    "\n",
    "print( PDFshapingOBJ.X_test_tr.shape )\n",
    "print( PDFshapingOBJ.y_test_tr.shape )\n",
    "\n",
    "with torch.no_grad():\n",
    "    \n",
    "    pred_test_descaled, pred_test_scaled = model(  PDFshapingOBJ.X_test_tr  )\n"
   ]
  },
  {
   "cell_type": "code",
   "execution_count": 28,
   "id": "da5ed723",
   "metadata": {},
   "outputs": [
    {
     "name": "stdout",
     "output_type": "stream",
     "text": [
      "MAE: [  4.1566763 107.58911    11.711203   18.382746    1.499584   26.160069\n",
      "   7.8657064]\n",
      "RMSE: [  6.0753984 138.23094    16.583662   26.068056    1.9872025  36.258823\n",
      "  11.187339 ]\n",
      "R2: [0.599994   0.52163437 0.60373494 0.51501086 0.91478764 0.59283641\n",
      " 0.84989937]\n",
      "Overall averages: 25.337872 33.7702 0.6568425145863913\n"
     ]
    }
   ],
   "source": [
    "\n",
    "\n",
    "y_true = PDFshapingOBJ.y_test_tr.detach().cpu().numpy()\n",
    "\n",
    "y_pred = pred_test_descaled.detach().cpu().numpy()  # or use descaled pair\n",
    "\n",
    "mae  = mean_absolute_error(y_true, y_pred, multioutput='raw_values')\n",
    "rmse = mean_squared_error( y_true, y_pred, squared=False, multioutput='raw_values')\n",
    "r2   = r2_score(           y_true, y_pred, multioutput='raw_values')\n",
    "\n",
    "print(\"MAE:\", mae)\n",
    "print(\"RMSE:\", rmse)\n",
    "print(\"R2:\", r2)\n",
    "print(\"Overall averages:\", \n",
    "      mae.mean(), rmse.mean(), r2.mean())\n",
    "\n"
   ]
  },
  {
   "cell_type": "code",
   "execution_count": 29,
   "id": "b9456e75",
   "metadata": {},
   "outputs": [
    {
     "data": {
      "text/plain": [
       "array([0.599994  , 0.52163437, 0.60373494, 0.51501086, 0.91478764,\n",
       "       0.59283641, 0.84989937])"
      ]
     },
     "execution_count": 29,
     "metadata": {},
     "output_type": "execute_result"
    }
   ],
   "source": [
    "\n",
    "r2   = r2_score(           y_true, y_pred, multioutput='raw_values')\n",
    "r2\n"
   ]
  },
  {
   "cell_type": "code",
   "execution_count": 30,
   "id": "4ea10270",
   "metadata": {},
   "outputs": [
    {
     "data": {
      "text/plain": [
       "0.6568425145863913"
      ]
     },
     "execution_count": 30,
     "metadata": {},
     "output_type": "execute_result"
    }
   ],
   "source": [
    "\n",
    "r2.mean()\n"
   ]
  },
  {
   "cell_type": "code",
   "execution_count": 31,
   "id": "db8a7e4c",
   "metadata": {},
   "outputs": [
    {
     "name": "stdout",
     "output_type": "stream",
     "text": [
      "Testing R**2 - descaled: 0.46835927573513497\n"
     ]
    }
   ],
   "source": [
    "\n",
    "print('Testing R**2 - descaled:', r2_score( y_pred, y_true   )  )\n"
   ]
  },
  {
   "cell_type": "code",
   "execution_count": 32,
   "id": "8575e058",
   "metadata": {},
   "outputs": [
    {
     "name": "stdout",
     "output_type": "stream",
     "text": [
      "Testing R**2 - descaled: 0.6568425145863913\n"
     ]
    }
   ],
   "source": [
    "\n",
    "print('Testing R**2 - descaled:', r2_score( y_true,  y_pred   )  )\n"
   ]
  },
  {
   "cell_type": "code",
   "execution_count": 33,
   "id": "126f6541",
   "metadata": {},
   "outputs": [
    {
     "data": {
      "text/plain": [
       "tensor(0.6568, device='cuda:0')"
      ]
     },
     "execution_count": 33,
     "metadata": {},
     "output_type": "execute_result"
    }
   ],
   "source": [
    "\n",
    "PDFshapingOBJ.r2_score_torch(PDFshapingOBJ.y_test_tr.to(PDFshapingOBJ.device), pred_test_descaled).mean()\n"
   ]
  },
  {
   "cell_type": "code",
   "execution_count": null,
   "id": "a3a7a040",
   "metadata": {},
   "outputs": [],
   "source": []
  },
  {
   "cell_type": "markdown",
   "id": "d275850b",
   "metadata": {},
   "source": [
    "\n",
    "## ONNX\n"
   ]
  },
  {
   "cell_type": "code",
   "execution_count": null,
   "id": "283a78d5",
   "metadata": {},
   "outputs": [],
   "source": []
  },
  {
   "cell_type": "code",
   "execution_count": 34,
   "id": "c66447c9",
   "metadata": {},
   "outputs": [
    {
     "name": "stdout",
     "output_type": "stream",
     "text": [
      "ONNX model saved\n"
     ]
    }
   ],
   "source": [
    "\n",
    "import torch\n",
    "\n",
    "# Your trained model\n",
    "model.eval().float()\n",
    "\n",
    "\n",
    "dummy_input = torch.randn(1, 8, dtype=torch.float32)\n",
    "\n",
    "# Export to ONNX (single output called \"output1\")\n",
    "torch.onnx.export(\n",
    "    model,\n",
    "    dummy_input,\n",
    "    \"ONNXmodels/resNet_Inverse_syntheticData.onnx\",\n",
    "    input_names=[\"input1\"],\n",
    "    output_names=[\"output1\"],\n",
    "    opset_version=15,              # fine for onnxruntime-web\n",
    "    do_constant_folding=True,\n",
    "    dynamic_axes={\n",
    "        \"input1\": {0: \"batch\"},\n",
    "        \"output1\": {0: \"batch\"}\n",
    "    }\n",
    ")\n",
    "print(\"ONNX model saved\")\n",
    "\n"
   ]
  },
  {
   "cell_type": "code",
   "execution_count": null,
   "id": "25826f4d",
   "metadata": {},
   "outputs": [],
   "source": []
  },
  {
   "cell_type": "markdown",
   "id": "beaa608c",
   "metadata": {},
   "source": [
    "\n",
    "## XGBoost\n"
   ]
  },
  {
   "cell_type": "code",
   "execution_count": 35,
   "id": "dd8a6d9c",
   "metadata": {},
   "outputs": [],
   "source": [
    "\n",
    "regressor = xgb.XGBRegressor(\n",
    "    n_estimators=100,\n",
    "    reg_lambda=1,\n",
    "    gamma=0,\n",
    "    max_depth=3\n",
    ")\n"
   ]
  },
  {
   "cell_type": "code",
   "execution_count": 36,
   "id": "c45674ff",
   "metadata": {},
   "outputs": [
    {
     "data": {
      "text/plain": [
       "XGBRegressor(base_score=0.5, booster='gbtree', callbacks=None,\n",
       "             colsample_bylevel=1, colsample_bynode=1, colsample_bytree=1,\n",
       "             early_stopping_rounds=None, enable_categorical=False,\n",
       "             eval_metric=None, gamma=0, gpu_id=-1, grow_policy='depthwise',\n",
       "             importance_type=None, interaction_constraints='',\n",
       "             learning_rate=0.300000012, max_bin=256, max_cat_to_onehot=4,\n",
       "             max_delta_step=0, max_depth=3, max_leaves=0, min_child_weight=1,\n",
       "             missing=nan, monotone_constraints='()', n_estimators=100, n_jobs=0,\n",
       "             num_parallel_tree=1, predictor='auto', random_state=0, reg_alpha=0,\n",
       "             reg_lambda=1, ...)"
      ]
     },
     "execution_count": 36,
     "metadata": {},
     "output_type": "execute_result"
    }
   ],
   "source": [
    "\n",
    "regressor.fit(PDFshapingOBJ.X_train, PDFshapingOBJ.y_train)\n"
   ]
  },
  {
   "cell_type": "code",
   "execution_count": 37,
   "id": "f1f46489",
   "metadata": {},
   "outputs": [
    {
     "name": "stdout",
     "output_type": "stream",
     "text": [
      "10240\n",
      "10240\n"
     ]
    }
   ],
   "source": [
    "\n",
    "print( len(PDFshapingOBJ.X_train  ))\n",
    "print( len(PDFshapingOBJ.y_train  ))\n"
   ]
  },
  {
   "cell_type": "code",
   "execution_count": 38,
   "id": "ea9752ec",
   "metadata": {},
   "outputs": [
    {
     "name": "stdout",
     "output_type": "stream",
     "text": [
      "(10240, 8)\n",
      "(10240, 7)\n"
     ]
    }
   ],
   "source": [
    "\n",
    "print( PDFshapingOBJ.X_train.shape  )\n",
    "print( PDFshapingOBJ.y_train.shape  )\n"
   ]
  },
  {
   "cell_type": "code",
   "execution_count": 39,
   "id": "278c6be1",
   "metadata": {},
   "outputs": [],
   "source": [
    "\n",
    "y_pred = regressor.predict(PDFshapingOBJ.X_test )\n"
   ]
  },
  {
   "cell_type": "code",
   "execution_count": 40,
   "id": "bbb8a1b9",
   "metadata": {},
   "outputs": [
    {
     "data": {
      "text/plain": [
       "array([[  22.754217,  890.4391  ,   44.817307, ...,   30.093527,\n",
       "        1384.1034  ,  155.86365 ],\n",
       "       [  20.976805,  549.1407  ,   57.316467, ...,   18.37663 ,\n",
       "        1399.9496  ,  203.86684 ],\n",
       "       [  16.810219,  906.8006  ,   38.190487, ...,   28.403757,\n",
       "        1390.7188  ,  177.95992 ],\n",
       "       ...,\n",
       "       [  13.493675,  701.95386 ,   31.970772, ...,   24.89286 ,\n",
       "        1429.2443  ,  208.26833 ],\n",
       "       [  25.1124  ,  802.54236 ,   74.75608 , ...,   37.938843,\n",
       "        1359.2437  ,  172.30612 ],\n",
       "       [  16.529015,  488.04297 ,   49.573147, ...,   24.896387,\n",
       "        1406.7866  ,  214.59193 ]], dtype=float32)"
      ]
     },
     "execution_count": 40,
     "metadata": {},
     "output_type": "execute_result"
    }
   ],
   "source": [
    "\n",
    "y_pred\n"
   ]
  },
  {
   "cell_type": "code",
   "execution_count": 41,
   "id": "d7983530",
   "metadata": {},
   "outputs": [
    {
     "data": {
      "text/plain": [
       "0.6607562485880388"
      ]
     },
     "execution_count": 41,
     "metadata": {},
     "output_type": "execute_result"
    }
   ],
   "source": [
    "\n",
    "r2_score( PDFshapingOBJ.y_test, y_pred )\n"
   ]
  },
  {
   "cell_type": "code",
   "execution_count": null,
   "id": "8fb5919e",
   "metadata": {},
   "outputs": [],
   "source": []
  },
  {
   "cell_type": "code",
   "execution_count": null,
   "id": "3e3cf0d3",
   "metadata": {},
   "outputs": [],
   "source": []
  },
  {
   "cell_type": "code",
   "execution_count": null,
   "id": "cd5b8775",
   "metadata": {},
   "outputs": [],
   "source": []
  },
  {
   "cell_type": "code",
   "execution_count": null,
   "id": "34680473",
   "metadata": {},
   "outputs": [],
   "source": []
  },
  {
   "cell_type": "code",
   "execution_count": null,
   "id": "eb5218ac",
   "metadata": {},
   "outputs": [],
   "source": []
  },
  {
   "cell_type": "code",
   "execution_count": null,
   "id": "b17bc095",
   "metadata": {},
   "outputs": [],
   "source": []
  },
  {
   "cell_type": "code",
   "execution_count": null,
   "id": "9c1bb46a",
   "metadata": {},
   "outputs": [],
   "source": []
  },
  {
   "cell_type": "code",
   "execution_count": null,
   "id": "324cd265",
   "metadata": {},
   "outputs": [],
   "source": []
  },
  {
   "cell_type": "code",
   "execution_count": null,
   "id": "95682046",
   "metadata": {},
   "outputs": [],
   "source": []
  }
 ],
 "metadata": {
  "kernelspec": {
   "display_name": "Python 3 (ipykernel)",
   "language": "python",
   "name": "python3"
  },
  "language_info": {
   "codemirror_mode": {
    "name": "ipython",
    "version": 3
   },
   "file_extension": ".py",
   "mimetype": "text/x-python",
   "name": "python",
   "nbconvert_exporter": "python",
   "pygments_lexer": "ipython3",
   "version": "3.7.16"
  }
 },
 "nbformat": 4,
 "nbformat_minor": 5
}
