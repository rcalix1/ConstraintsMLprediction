{
 "cells": [
  {
   "cell_type": "markdown",
   "id": "286b5522",
   "metadata": {},
   "source": [
    "\n",
    "## Train Real Gen Inverse Model \n",
    "\n",
    "* real data gen\n",
    "\n",
    "## Web application \n",
    "\n",
    "Run interactively on the web at: \n",
    "\n",
    "\n",
    "## Inputs\n",
    "\n",
    "\n",
    "* desired output requirements \n",
    "\n",
    "Raceway flame temp > 1900K.....(19, 'o_fta')\n",
    " \n",
    "Hot metal temp > 1700K........(21, 'o_hmt')\n",
    "\n",
    "Top gas temp > 100C,,,,,,,,,,,(23, 'o_tgt')\n",
    "\n",
    "production rate ..............(39, 'o_prod_rt')\n",
    "\n",
    "\n",
    "## Outputs\n",
    "\n",
    "\n",
    "\n",
    "(2, 'i_h2i_rate')\n",
    "\n",
    "(3, 'i_h2_temp')\n",
    "\n",
    "(4, 'i_ngi_rate')\n",
    "\n",
    "(6, 'i_pci_rate')\n",
    "\n",
    "(11, 'i_o2_volfract')\n",
    "\n",
    "(12, 'i_hbtemp')\n",
    "\n",
    "(13, 'i_wind_rt')\n",
    "\n",
    "\n",
    "\n",
    "\n",
    "\n",
    "\n",
    "\n",
    "\n"
   ]
  },
  {
   "cell_type": "markdown",
   "id": "e75f0429",
   "metadata": {},
   "source": [
    "\n",
    "## Installs\n"
   ]
  },
  {
   "cell_type": "code",
   "execution_count": 1,
   "id": "e5878bfa",
   "metadata": {},
   "outputs": [],
   "source": [
    "\n",
    "## !pip install xgboost\n",
    "## !pip install onnxmltools\n",
    "## !pip install onnxruntime\n",
    "## !pip install pandas\n",
    "## !pip install scikit-learn\n",
    "## !pip install matplotlib\n",
    "## !pip install seaborn\n",
    "## !pip install mlxtend\n",
    "## ! pip install skl2onnx\n"
   ]
  },
  {
   "cell_type": "markdown",
   "id": "ebb037f5",
   "metadata": {},
   "source": [
    "\n",
    "## Imports\n"
   ]
  },
  {
   "cell_type": "code",
   "execution_count": 2,
   "id": "976f2c8b",
   "metadata": {},
   "outputs": [],
   "source": [
    "\n",
    "import torch\n",
    "import numpy as np\n",
    "import pandas as pd\n",
    "import sklearn\n",
    "import torch.nn as nn\n",
    "import torch.nn.functional as F\n",
    "\n",
    "import matplotlib.pyplot as plt\n",
    "import math\n",
    "import seaborn as sns\n",
    "import random\n",
    "import functorch\n",
    "\n",
    "\n",
    "import torch.optim as optim\n",
    "\n",
    "\n",
    "from numpy.random import normal\n",
    "from scipy.stats import norm\n",
    "import scipy.stats as stats\n",
    "from numpy import hstack\n",
    "from numpy import vstack\n",
    "from numpy import exp\n",
    "from sklearn.neighbors import KernelDensity\n",
    "\n",
    "##from typing import Optional\n",
    "\n",
    "from torch import Tensor\n",
    "\n",
    "\n",
    "from torch.utils.data import TensorDataset, DataLoader\n",
    "\n",
    "from mlxtend.plotting import heatmap\n",
    "\n",
    "## coefficient of determination (R**2)\n",
    "from sklearn.metrics import r2_score\n",
    "\n",
    "np.set_printoptions(suppress=True)\n",
    "torch.set_printoptions(sci_mode=False)\n",
    "\n",
    "from sklearn.metrics import mean_absolute_error, mean_squared_error, r2_score\n"
   ]
  },
  {
   "cell_type": "code",
   "execution_count": 3,
   "id": "1d1e5d18",
   "metadata": {},
   "outputs": [],
   "source": [
    "\n",
    "import xgboost as xgb\n",
    "from xgboost import XGBClassifier, XGBRegressor, DMatrix, train as train_xgb\n",
    "from sklearn.datasets import load_boston\n",
    "from sklearn.model_selection import train_test_split\n",
    "from sklearn.metrics import mean_squared_error\n",
    "from sklearn.pipeline import Pipeline\n",
    "from sklearn.preprocessing import StandardScaler\n",
    "\n",
    "import onnxmltools\n",
    "from onnxmltools.convert.xgboost.operator_converters.XGBoost import (\n",
    "    convert_xgboost)\n",
    "from onnxmltools.convert import convert_xgboost as convert_xgboost_booster\n",
    "\n",
    "\n",
    "from zipfile import ZipFile\n",
    "from skl2onnx.common.data_types import FloatTensorType\n",
    "from skl2onnx import convert_sklearn, to_onnx, update_registered_converter\n",
    "from skl2onnx.common.shape_calculator import (\n",
    "    calculate_linear_classifier_output_shapes,\n",
    "    calculate_linear_regressor_output_shapes)\n",
    "\n",
    "\n",
    "# Import the ONNX runtime environment\n",
    "import onnxruntime as rt\n",
    "\n"
   ]
  },
  {
   "cell_type": "code",
   "execution_count": 4,
   "id": "b62c5c0d",
   "metadata": {},
   "outputs": [],
   "source": [
    "\n",
    "import PDFshapingUtils as PDF_tk\n"
   ]
  },
  {
   "cell_type": "markdown",
   "id": "7acae472",
   "metadata": {},
   "source": [
    "\n",
    "## Instantiate PDF shaping and regression class\n"
   ]
  },
  {
   "cell_type": "code",
   "execution_count": 5,
   "id": "0398adc8",
   "metadata": {},
   "outputs": [],
   "source": [
    "\n",
    "PDFshapingOBJ = PDF_tk.PDFshapingUtils()\n"
   ]
  },
  {
   "cell_type": "markdown",
   "id": "c4147cd3",
   "metadata": {},
   "source": [
    "\n",
    "## Initialize parameters\n"
   ]
  },
  {
   "cell_type": "code",
   "execution_count": 6,
   "id": "33351992",
   "metadata": {},
   "outputs": [],
   "source": [
    "\n",
    "PDFshapingOBJ.N_error_range = 5         ## 20\n",
    "PDFshapingOBJ.mean_impulse  = 0.0       ## -7.0      ## 0.0\n",
    "PDFshapingOBJ.std_impulse   = 0.001     ## 1.0\n",
    "PDFshapingOBJ.kde_std       = 0.5       ## 0.1       ## 0.5      ## 3.0  ## smaller is better approximation?\n",
    "PDFshapingOBJ.bandwidth     = 0.2       ## 0.2->more jagged, 2.0->more smooth\n"
   ]
  },
  {
   "cell_type": "code",
   "execution_count": 7,
   "id": "1f3e1ea8",
   "metadata": {},
   "outputs": [],
   "source": [
    "\n",
    "PDFshapingOBJ.initializeImpulseGaussian()\n"
   ]
  },
  {
   "cell_type": "markdown",
   "id": "4ac9d820",
   "metadata": {},
   "source": [
    "\n",
    "## Load Data\n"
   ]
  },
  {
   "cell_type": "code",
   "execution_count": 8,
   "id": "83fb3b5a",
   "metadata": {},
   "outputs": [],
   "source": [
    "\n",
    "df_synthetic_data_for_inverse = PDFshapingOBJ.load_synth_folder_to_pandas(\"SyntheticCorpus\", flatten=True)\n"
   ]
  },
  {
   "cell_type": "code",
   "execution_count": 9,
   "id": "c778ddea",
   "metadata": {},
   "outputs": [],
   "source": [
    "\n",
    "PDFshapingOBJ.CFD_raw_data = df_synthetic_data_for_inverse \n"
   ]
  },
  {
   "cell_type": "code",
   "execution_count": 10,
   "id": "0c808fb4",
   "metadata": {},
   "outputs": [],
   "source": [
    "\n",
    "PDFshapingOBJ.headers_list = PDFshapingOBJ.CFD_raw_data.columns.values.tolist()\n"
   ]
  },
  {
   "cell_type": "code",
   "execution_count": 11,
   "id": "9fb2a300",
   "metadata": {},
   "outputs": [
    {
     "data": {
      "text/html": [
       "<div>\n",
       "<style scoped>\n",
       "    .dataframe tbody tr th:only-of-type {\n",
       "        vertical-align: middle;\n",
       "    }\n",
       "\n",
       "    .dataframe tbody tr th {\n",
       "        vertical-align: top;\n",
       "    }\n",
       "\n",
       "    .dataframe thead th {\n",
       "        text-align: right;\n",
       "    }\n",
       "</style>\n",
       "<table border=\"1\" class=\"dataframe\">\n",
       "  <thead>\n",
       "    <tr style=\"text-align: right;\">\n",
       "      <th></th>\n",
       "      <th>clamp_min_0</th>\n",
       "      <th>clamp_min_1</th>\n",
       "      <th>clamp_min_2</th>\n",
       "      <th>clamp_min_3</th>\n",
       "      <th>clamp_min_4</th>\n",
       "      <th>clamp_min_5</th>\n",
       "      <th>clamp_min_6</th>\n",
       "      <th>final_input_0</th>\n",
       "      <th>final_input_1</th>\n",
       "      <th>final_input_2</th>\n",
       "      <th>...</th>\n",
       "      <th>lower_bounds_glob_2</th>\n",
       "      <th>lower_bounds_glob_3</th>\n",
       "      <th>final_output_0</th>\n",
       "      <th>final_output_1</th>\n",
       "      <th>final_output_2</th>\n",
       "      <th>final_output_3</th>\n",
       "      <th>upper_bounds_glob_0</th>\n",
       "      <th>upper_bounds_glob_1</th>\n",
       "      <th>upper_bounds_glob_2</th>\n",
       "      <th>upper_bounds_glob_3</th>\n",
       "    </tr>\n",
       "  </thead>\n",
       "  <tbody>\n",
       "    <tr>\n",
       "      <th>0</th>\n",
       "      <td>6.291000</td>\n",
       "      <td>0.000000</td>\n",
       "      <td>99.461998</td>\n",
       "      <td>41.283001</td>\n",
       "      <td>24.423000</td>\n",
       "      <td>1301.963989</td>\n",
       "      <td>195.013000</td>\n",
       "      <td>6.291000</td>\n",
       "      <td>0.000000</td>\n",
       "      <td>99.461998</td>\n",
       "      <td>...</td>\n",
       "      <td>77.660004</td>\n",
       "      <td>8857.799805</td>\n",
       "      <td>1969.712036</td>\n",
       "      <td>618.918030</td>\n",
       "      <td>77.660004</td>\n",
       "      <td>8857.799805</td>\n",
       "      <td>1969.712036</td>\n",
       "      <td>618.918030</td>\n",
       "      <td>77.660004</td>\n",
       "      <td>8857.799805</td>\n",
       "    </tr>\n",
       "    <tr>\n",
       "      <th>1</th>\n",
       "      <td>19.320999</td>\n",
       "      <td>461.717987</td>\n",
       "      <td>37.470001</td>\n",
       "      <td>23.632000</td>\n",
       "      <td>24.093000</td>\n",
       "      <td>1495.265991</td>\n",
       "      <td>186.029007</td>\n",
       "      <td>19.320999</td>\n",
       "      <td>461.717987</td>\n",
       "      <td>37.470001</td>\n",
       "      <td>...</td>\n",
       "      <td>58.433998</td>\n",
       "      <td>8320.955078</td>\n",
       "      <td>2248.246094</td>\n",
       "      <td>906.635986</td>\n",
       "      <td>58.433998</td>\n",
       "      <td>8320.955078</td>\n",
       "      <td>2248.246094</td>\n",
       "      <td>906.635986</td>\n",
       "      <td>58.433998</td>\n",
       "      <td>8320.955078</td>\n",
       "    </tr>\n",
       "    <tr>\n",
       "      <th>2</th>\n",
       "      <td>14.171000</td>\n",
       "      <td>0.000000</td>\n",
       "      <td>122.396004</td>\n",
       "      <td>0.000000</td>\n",
       "      <td>26.806000</td>\n",
       "      <td>1288.738037</td>\n",
       "      <td>180.975998</td>\n",
       "      <td>14.171000</td>\n",
       "      <td>0.000000</td>\n",
       "      <td>122.396004</td>\n",
       "      <td>...</td>\n",
       "      <td>66.882004</td>\n",
       "      <td>8721.851562</td>\n",
       "      <td>1953.932983</td>\n",
       "      <td>496.412994</td>\n",
       "      <td>66.882004</td>\n",
       "      <td>8721.851562</td>\n",
       "      <td>1953.932983</td>\n",
       "      <td>496.412994</td>\n",
       "      <td>66.882004</td>\n",
       "      <td>8721.851562</td>\n",
       "    </tr>\n",
       "    <tr>\n",
       "      <th>3</th>\n",
       "      <td>21.112000</td>\n",
       "      <td>549.929993</td>\n",
       "      <td>38.831001</td>\n",
       "      <td>0.000000</td>\n",
       "      <td>22.920000</td>\n",
       "      <td>1337.751953</td>\n",
       "      <td>154.199997</td>\n",
       "      <td>21.112000</td>\n",
       "      <td>549.929993</td>\n",
       "      <td>38.831001</td>\n",
       "      <td>...</td>\n",
       "      <td>49.710999</td>\n",
       "      <td>6908.180176</td>\n",
       "      <td>2097.268066</td>\n",
       "      <td>409.562988</td>\n",
       "      <td>49.710999</td>\n",
       "      <td>6908.180176</td>\n",
       "      <td>2097.268066</td>\n",
       "      <td>409.562988</td>\n",
       "      <td>49.710999</td>\n",
       "      <td>6908.180176</td>\n",
       "    </tr>\n",
       "    <tr>\n",
       "      <th>4</th>\n",
       "      <td>9.717000</td>\n",
       "      <td>76.620003</td>\n",
       "      <td>55.382000</td>\n",
       "      <td>0.000000</td>\n",
       "      <td>25.549999</td>\n",
       "      <td>1073.092041</td>\n",
       "      <td>229.688004</td>\n",
       "      <td>9.717000</td>\n",
       "      <td>76.620003</td>\n",
       "      <td>55.382000</td>\n",
       "      <td>...</td>\n",
       "      <td>106.440002</td>\n",
       "      <td>8757.669922</td>\n",
       "      <td>2047.034058</td>\n",
       "      <td>1225.357056</td>\n",
       "      <td>106.440002</td>\n",
       "      <td>8757.669922</td>\n",
       "      <td>2047.034058</td>\n",
       "      <td>1225.357056</td>\n",
       "      <td>106.440002</td>\n",
       "      <td>8757.669922</td>\n",
       "    </tr>\n",
       "    <tr>\n",
       "      <th>...</th>\n",
       "      <td>...</td>\n",
       "      <td>...</td>\n",
       "      <td>...</td>\n",
       "      <td>...</td>\n",
       "      <td>...</td>\n",
       "      <td>...</td>\n",
       "      <td>...</td>\n",
       "      <td>...</td>\n",
       "      <td>...</td>\n",
       "      <td>...</td>\n",
       "      <td>...</td>\n",
       "      <td>...</td>\n",
       "      <td>...</td>\n",
       "      <td>...</td>\n",
       "      <td>...</td>\n",
       "      <td>...</td>\n",
       "      <td>...</td>\n",
       "      <td>...</td>\n",
       "      <td>...</td>\n",
       "      <td>...</td>\n",
       "      <td>...</td>\n",
       "    </tr>\n",
       "    <tr>\n",
       "      <th>12890</th>\n",
       "      <td>17.587000</td>\n",
       "      <td>394.502014</td>\n",
       "      <td>45.917999</td>\n",
       "      <td>16.603001</td>\n",
       "      <td>24.193001</td>\n",
       "      <td>1392.828979</td>\n",
       "      <td>189.014999</td>\n",
       "      <td>17.587000</td>\n",
       "      <td>394.502014</td>\n",
       "      <td>45.917999</td>\n",
       "      <td>...</td>\n",
       "      <td>66.765999</td>\n",
       "      <td>8222.673828</td>\n",
       "      <td>2157.434082</td>\n",
       "      <td>872.961975</td>\n",
       "      <td>66.765999</td>\n",
       "      <td>8222.673828</td>\n",
       "      <td>2157.434082</td>\n",
       "      <td>872.961975</td>\n",
       "      <td>66.765999</td>\n",
       "      <td>8222.673828</td>\n",
       "    </tr>\n",
       "    <tr>\n",
       "      <th>12891</th>\n",
       "      <td>26.521000</td>\n",
       "      <td>279.338989</td>\n",
       "      <td>0.000000</td>\n",
       "      <td>28.233999</td>\n",
       "      <td>26.382999</td>\n",
       "      <td>1554.717041</td>\n",
       "      <td>153.210999</td>\n",
       "      <td>26.521000</td>\n",
       "      <td>279.338989</td>\n",
       "      <td>0.000000</td>\n",
       "      <td>...</td>\n",
       "      <td>42.397999</td>\n",
       "      <td>7016.518066</td>\n",
       "      <td>2323.868896</td>\n",
       "      <td>939.638977</td>\n",
       "      <td>42.397999</td>\n",
       "      <td>7016.518066</td>\n",
       "      <td>2323.868896</td>\n",
       "      <td>939.638977</td>\n",
       "      <td>42.397999</td>\n",
       "      <td>7016.518066</td>\n",
       "    </tr>\n",
       "    <tr>\n",
       "      <th>12892</th>\n",
       "      <td>0.000000</td>\n",
       "      <td>180.686005</td>\n",
       "      <td>60.108002</td>\n",
       "      <td>97.251999</td>\n",
       "      <td>25.070999</td>\n",
       "      <td>1385.245972</td>\n",
       "      <td>170.587997</td>\n",
       "      <td>0.000000</td>\n",
       "      <td>180.686005</td>\n",
       "      <td>60.108002</td>\n",
       "      <td>...</td>\n",
       "      <td>59.855999</td>\n",
       "      <td>7758.246094</td>\n",
       "      <td>2146.909912</td>\n",
       "      <td>896.197998</td>\n",
       "      <td>59.855999</td>\n",
       "      <td>7758.246094</td>\n",
       "      <td>2146.909912</td>\n",
       "      <td>896.197998</td>\n",
       "      <td>59.855999</td>\n",
       "      <td>7758.246094</td>\n",
       "    </tr>\n",
       "    <tr>\n",
       "      <th>12893</th>\n",
       "      <td>24.584000</td>\n",
       "      <td>285.221985</td>\n",
       "      <td>102.587997</td>\n",
       "      <td>7.750000</td>\n",
       "      <td>23.472000</td>\n",
       "      <td>1526.805054</td>\n",
       "      <td>231.763000</td>\n",
       "      <td>24.584000</td>\n",
       "      <td>285.221985</td>\n",
       "      <td>102.587997</td>\n",
       "      <td>...</td>\n",
       "      <td>75.721001</td>\n",
       "      <td>11193.183594</td>\n",
       "      <td>2071.056885</td>\n",
       "      <td>589.093994</td>\n",
       "      <td>75.721001</td>\n",
       "      <td>11193.183594</td>\n",
       "      <td>2071.056885</td>\n",
       "      <td>589.093994</td>\n",
       "      <td>75.721001</td>\n",
       "      <td>11193.183594</td>\n",
       "    </tr>\n",
       "    <tr>\n",
       "      <th>12894</th>\n",
       "      <td>27.667000</td>\n",
       "      <td>551.210999</td>\n",
       "      <td>1.134000</td>\n",
       "      <td>36.750000</td>\n",
       "      <td>27.966999</td>\n",
       "      <td>1807.951050</td>\n",
       "      <td>138.934006</td>\n",
       "      <td>27.667000</td>\n",
       "      <td>551.210999</td>\n",
       "      <td>1.134000</td>\n",
       "      <td>...</td>\n",
       "      <td>26.917999</td>\n",
       "      <td>6845.613770</td>\n",
       "      <td>2574.782959</td>\n",
       "      <td>1254.006958</td>\n",
       "      <td>26.917999</td>\n",
       "      <td>6845.613770</td>\n",
       "      <td>2574.782959</td>\n",
       "      <td>1254.006958</td>\n",
       "      <td>26.917999</td>\n",
       "      <td>6845.613770</td>\n",
       "    </tr>\n",
       "  </tbody>\n",
       "</table>\n",
       "<p>12895 rows × 33 columns</p>\n",
       "</div>"
      ],
      "text/plain": [
       "       clamp_min_0  clamp_min_1  clamp_min_2  clamp_min_3  clamp_min_4  \\\n",
       "0         6.291000     0.000000    99.461998    41.283001    24.423000   \n",
       "1        19.320999   461.717987    37.470001    23.632000    24.093000   \n",
       "2        14.171000     0.000000   122.396004     0.000000    26.806000   \n",
       "3        21.112000   549.929993    38.831001     0.000000    22.920000   \n",
       "4         9.717000    76.620003    55.382000     0.000000    25.549999   \n",
       "...            ...          ...          ...          ...          ...   \n",
       "12890    17.587000   394.502014    45.917999    16.603001    24.193001   \n",
       "12891    26.521000   279.338989     0.000000    28.233999    26.382999   \n",
       "12892     0.000000   180.686005    60.108002    97.251999    25.070999   \n",
       "12893    24.584000   285.221985   102.587997     7.750000    23.472000   \n",
       "12894    27.667000   551.210999     1.134000    36.750000    27.966999   \n",
       "\n",
       "       clamp_min_5  clamp_min_6  final_input_0  final_input_1  final_input_2  \\\n",
       "0      1301.963989   195.013000       6.291000       0.000000      99.461998   \n",
       "1      1495.265991   186.029007      19.320999     461.717987      37.470001   \n",
       "2      1288.738037   180.975998      14.171000       0.000000     122.396004   \n",
       "3      1337.751953   154.199997      21.112000     549.929993      38.831001   \n",
       "4      1073.092041   229.688004       9.717000      76.620003      55.382000   \n",
       "...            ...          ...            ...            ...            ...   \n",
       "12890  1392.828979   189.014999      17.587000     394.502014      45.917999   \n",
       "12891  1554.717041   153.210999      26.521000     279.338989       0.000000   \n",
       "12892  1385.245972   170.587997       0.000000     180.686005      60.108002   \n",
       "12893  1526.805054   231.763000      24.584000     285.221985     102.587997   \n",
       "12894  1807.951050   138.934006      27.667000     551.210999       1.134000   \n",
       "\n",
       "       ...  lower_bounds_glob_2  lower_bounds_glob_3  final_output_0  \\\n",
       "0      ...            77.660004          8857.799805     1969.712036   \n",
       "1      ...            58.433998          8320.955078     2248.246094   \n",
       "2      ...            66.882004          8721.851562     1953.932983   \n",
       "3      ...            49.710999          6908.180176     2097.268066   \n",
       "4      ...           106.440002          8757.669922     2047.034058   \n",
       "...    ...                  ...                  ...             ...   \n",
       "12890  ...            66.765999          8222.673828     2157.434082   \n",
       "12891  ...            42.397999          7016.518066     2323.868896   \n",
       "12892  ...            59.855999          7758.246094     2146.909912   \n",
       "12893  ...            75.721001         11193.183594     2071.056885   \n",
       "12894  ...            26.917999          6845.613770     2574.782959   \n",
       "\n",
       "       final_output_1  final_output_2  final_output_3  upper_bounds_glob_0  \\\n",
       "0          618.918030       77.660004     8857.799805          1969.712036   \n",
       "1          906.635986       58.433998     8320.955078          2248.246094   \n",
       "2          496.412994       66.882004     8721.851562          1953.932983   \n",
       "3          409.562988       49.710999     6908.180176          2097.268066   \n",
       "4         1225.357056      106.440002     8757.669922          2047.034058   \n",
       "...               ...             ...             ...                  ...   \n",
       "12890      872.961975       66.765999     8222.673828          2157.434082   \n",
       "12891      939.638977       42.397999     7016.518066          2323.868896   \n",
       "12892      896.197998       59.855999     7758.246094          2146.909912   \n",
       "12893      589.093994       75.721001    11193.183594          2071.056885   \n",
       "12894     1254.006958       26.917999     6845.613770          2574.782959   \n",
       "\n",
       "       upper_bounds_glob_1  upper_bounds_glob_2  upper_bounds_glob_3  \n",
       "0               618.918030            77.660004          8857.799805  \n",
       "1               906.635986            58.433998          8320.955078  \n",
       "2               496.412994            66.882004          8721.851562  \n",
       "3               409.562988            49.710999          6908.180176  \n",
       "4              1225.357056           106.440002          8757.669922  \n",
       "...                    ...                  ...                  ...  \n",
       "12890           872.961975            66.765999          8222.673828  \n",
       "12891           939.638977            42.397999          7016.518066  \n",
       "12892           896.197998            59.855999          7758.246094  \n",
       "12893           589.093994            75.721001         11193.183594  \n",
       "12894          1254.006958            26.917999          6845.613770  \n",
       "\n",
       "[12895 rows x 33 columns]"
      ]
     },
     "execution_count": 11,
     "metadata": {},
     "output_type": "execute_result"
    }
   ],
   "source": [
    "\n",
    "PDFshapingOBJ.CFD_raw_data\n"
   ]
  },
  {
   "cell_type": "code",
   "execution_count": 12,
   "id": "805b0aa6",
   "metadata": {},
   "outputs": [
    {
     "name": "stdout",
     "output_type": "stream",
     "text": [
      "['clamp_min_0', 'clamp_min_1', 'clamp_min_2', 'clamp_min_3', 'clamp_min_4', 'clamp_min_5', 'clamp_min_6', 'final_input_0', 'final_input_1', 'final_input_2', 'final_input_3', 'final_input_4', 'final_input_5', 'final_input_6', 'clamp_max_0', 'clamp_max_1', 'clamp_max_2', 'clamp_max_3', 'clamp_max_4', 'clamp_max_5', 'clamp_max_6', 'lower_bounds_glob_0', 'lower_bounds_glob_1', 'lower_bounds_glob_2', 'lower_bounds_glob_3', 'final_output_0', 'final_output_1', 'final_output_2', 'final_output_3', 'upper_bounds_glob_0', 'upper_bounds_glob_1', 'upper_bounds_glob_2', 'upper_bounds_glob_3']\n",
      "33\n",
      "(0, 'clamp_min_0')\n",
      "(1, 'clamp_min_1')\n",
      "(2, 'clamp_min_2')\n",
      "(3, 'clamp_min_3')\n",
      "(4, 'clamp_min_4')\n",
      "(5, 'clamp_min_5')\n",
      "(6, 'clamp_min_6')\n",
      "(7, 'final_input_0')\n",
      "(8, 'final_input_1')\n",
      "(9, 'final_input_2')\n",
      "(10, 'final_input_3')\n",
      "(11, 'final_input_4')\n",
      "(12, 'final_input_5')\n",
      "(13, 'final_input_6')\n",
      "(14, 'clamp_max_0')\n",
      "(15, 'clamp_max_1')\n",
      "(16, 'clamp_max_2')\n",
      "(17, 'clamp_max_3')\n",
      "(18, 'clamp_max_4')\n",
      "(19, 'clamp_max_5')\n",
      "(20, 'clamp_max_6')\n",
      "(21, 'lower_bounds_glob_0')\n",
      "(22, 'lower_bounds_glob_1')\n",
      "(23, 'lower_bounds_glob_2')\n",
      "(24, 'lower_bounds_glob_3')\n",
      "(25, 'final_output_0')\n",
      "(26, 'final_output_1')\n",
      "(27, 'final_output_2')\n",
      "(28, 'final_output_3')\n",
      "(29, 'upper_bounds_glob_0')\n",
      "(30, 'upper_bounds_glob_1')\n",
      "(31, 'upper_bounds_glob_2')\n",
      "(32, 'upper_bounds_glob_3')\n"
     ]
    }
   ],
   "source": [
    "\n",
    "PDFshapingOBJ.print_headers_list()\n"
   ]
  },
  {
   "cell_type": "code",
   "execution_count": 13,
   "id": "d57e4c15",
   "metadata": {},
   "outputs": [
    {
     "data": {
      "text/plain": [
       "\"\\n\\n\\nPDFshapingOBJ.list_of_selected_column_names = ['i_h2i_rate','i_h2_temp','i_ngi_rate','i_ng_temp','i_pci_rate',\\n                    'i_wpi_rate','i_o2_volfract',\\n                    'i_hbtemp','i_wind_rt','o_prod_rt', 'o_tgt', 'o_hmt','o_fta']\\n\\n\\n\\nPDFshapingOBJ.print_correlation_coefficients()\\n\\n\""
      ]
     },
     "execution_count": 13,
     "metadata": {},
     "output_type": "execute_result"
    }
   ],
   "source": [
    "'''\n",
    "\n",
    "\n",
    "PDFshapingOBJ.list_of_selected_column_names = ['i_h2i_rate','i_h2_temp','i_ngi_rate','i_ng_temp','i_pci_rate',\n",
    "                    'i_wpi_rate','i_o2_volfract',\n",
    "                    'i_hbtemp','i_wind_rt','o_prod_rt', 'o_tgt', 'o_hmt','o_fta']\n",
    "\n",
    "\n",
    "\n",
    "PDFshapingOBJ.print_correlation_coefficients()\n",
    "\n",
    "'''\n"
   ]
  },
  {
   "cell_type": "code",
   "execution_count": 14,
   "id": "ac298349",
   "metadata": {},
   "outputs": [
    {
     "name": "stdout",
     "output_type": "stream",
     "text": [
      "[[    6.29099989     0.            99.46199799 ...   618.91802979\n",
      "     77.66000366  8857.79980469]\n",
      " [   19.32099915   461.71798706    37.47000122 ...   906.63598633\n",
      "     58.43399811  8320.95507812]\n",
      " [   14.17099953     0.           122.39600372 ...   496.41299438\n",
      "     66.88200378  8721.8515625 ]\n",
      " ...\n",
      " [    0.           180.68600464    60.10800171 ...   896.19799805\n",
      "     59.85599899  7758.24609375]\n",
      " [   24.58399963   285.22198486   102.58799744 ...   589.09399414\n",
      "     75.72100067 11193.18359375]\n",
      " [   27.66699982   551.21099854     1.13399994 ...  1254.00695801\n",
      "     26.91799927  6845.61376953]]\n",
      "(12895, 33)\n"
     ]
    }
   ],
   "source": [
    "\n",
    "PDFshapingOBJ.convert_pd_data_to_numpy()\n"
   ]
  },
  {
   "cell_type": "markdown",
   "id": "60c6a7ed",
   "metadata": {},
   "source": [
    "\n",
    "## Select inputs and outputs\n"
   ]
  },
  {
   "cell_type": "code",
   "execution_count": 15,
   "id": "82175b15",
   "metadata": {},
   "outputs": [
    {
     "name": "stdout",
     "output_type": "stream",
     "text": [
      "4\n",
      "7\n"
     ]
    }
   ],
   "source": [
    "\n",
    "\n",
    "\n",
    "'''\n",
    "(21, 'lower_bounds_glob_0')\n",
    "(22, 'lower_bounds_glob_1')\n",
    "(23, 'lower_bounds_glob_2')\n",
    "(24, 'lower_bounds_glob_3')\n",
    "\n",
    "(29, 'upper_bounds_glob_0')\n",
    "(30, 'upper_bounds_glob_1')\n",
    "(31, 'upper_bounds_glob_2')\n",
    "(32, 'upper_bounds_glob_3')\n",
    "'''\n",
    "\n",
    "\n",
    "\n",
    "\n",
    "PDFshapingOBJ.gen_X_y_for_selected_indeces(  \n",
    "                   inputs = [ 25, 26, 27, 28 ] ,  \n",
    "                   outputs= [  7, 8, 9, 10, 11, 12, 13 ]   \n",
    ")\n"
   ]
  },
  {
   "cell_type": "code",
   "execution_count": 16,
   "id": "d2df9b9e",
   "metadata": {},
   "outputs": [
    {
     "name": "stdout",
     "output_type": "stream",
     "text": [
      "(12895, 4)\n",
      "(12895, 7)\n"
     ]
    }
   ],
   "source": [
    "\n",
    "print(PDFshapingOBJ.X.shape)\n",
    "print(PDFshapingOBJ.y.shape)\n"
   ]
  },
  {
   "cell_type": "code",
   "execution_count": 17,
   "id": "3eadabb9",
   "metadata": {},
   "outputs": [],
   "source": [
    "\n",
    "PDFshapingOBJ.random_seed = int( random.random() * 100  )         ## defautl is 42\n"
   ]
  },
  {
   "cell_type": "code",
   "execution_count": 18,
   "id": "ca944d87",
   "metadata": {},
   "outputs": [
    {
     "name": "stdout",
     "output_type": "stream",
     "text": [
      "(10316, 4)\n",
      "(2579, 4)\n",
      "(10316, 7)\n",
      "(2579, 7)\n"
     ]
    }
   ],
   "source": [
    "\n",
    "PDFshapingOBJ.split_np_data_train_test(selected_test_size=0.2)\n"
   ]
  },
  {
   "cell_type": "code",
   "execution_count": 19,
   "id": "bba1eb32",
   "metadata": {},
   "outputs": [],
   "source": [
    "\n",
    "PDFshapingOBJ.convert_dataset_from_np_to_torch()\n"
   ]
  },
  {
   "cell_type": "code",
   "execution_count": 20,
   "id": "61373d5f",
   "metadata": {},
   "outputs": [],
   "source": [
    "\n",
    "PDFshapingOBJ.standardize_X_scales()\n",
    "PDFshapingOBJ.standardize_y_scales()\n"
   ]
  },
  {
   "cell_type": "code",
   "execution_count": 21,
   "id": "d08b752c",
   "metadata": {},
   "outputs": [
    {
     "data": {
      "text/plain": [
       "<torch.utils.data.dataloader.DataLoader at 0x7f99943d7750>"
      ]
     },
     "execution_count": 21,
     "metadata": {},
     "output_type": "execute_result"
    }
   ],
   "source": [
    "\n",
    "PDFshapingOBJ.gen_Dataloader_train()\n",
    "\n",
    "PDFshapingOBJ.train_dl\n"
   ]
  },
  {
   "cell_type": "code",
   "execution_count": 22,
   "id": "c5c7e692",
   "metadata": {},
   "outputs": [
    {
     "data": {
      "text/plain": [
       "\"\\n\\nclass ResidualNet(nn.Module):\\n    def __init__(self, x_means, x_deviations, y_means, y_deviations, dropout_rate=0.1, device='cuda'):\\n        \\n        super().__init__()\\n        self.device = device\\n        \\n        self.x_means      = x_means.to(self.device)\\n        self.x_deviations = x_deviations.to(self.device)\\n        self.y_means      = y_means.to(self.device)\\n        self.y_deviations = y_deviations.to(self.device)\\n\\n     \\n        self.fc1  = nn.Linear(n_inputs, 64)\\n        self.act1 = nn.ReLU()\\n        self.dropout1 = nn.Dropout(dropout_rate)\\n\\n        self.fc2 = nn.Linear(64, 64)\\n        self.act2 = nn.ReLU()\\n        self.dropout2 = nn.Dropout(dropout_rate)\\n\\n        self.fc3 = nn.Linear(64, n_outputs)\\n\\n        # If input_dim ≠ 64, project for residual addition\\n        self.input_proj = nn.Linear(n_inputs, 64) if n_inputs != 64 else nn.Identity()\\n        \\n        # Move model to device\\n        self.to(self.device)\\n        \\n\\n    def forward(self, x):\\n        x  = x.to(self.device)\\n        x  = (x - self.x_means) / self.x_deviations\\n        x0 = self.input_proj(x)\\n        x1 = self.dropout1(self.act1(self.fc1(x)))\\n        x2 = self.dropout2(self.act2(self.fc2(x1)))\\n        x_res = x2 + x0\\n        y_scaled = self.fc3(x_res)\\n        y_descaled = y_scaled * self.y_deviations + self.y_means\\n        \\n        return y_descaled, y_scaled\\n    \\n\""
      ]
     },
     "execution_count": 22,
     "metadata": {},
     "output_type": "execute_result"
    }
   ],
   "source": [
    "\n",
    "n_inputs  = 4\n",
    "n_outputs = 7\n",
    "\n",
    "'''\n",
    "\n",
    "class ResidualNet(nn.Module):\n",
    "    def __init__(self, x_means, x_deviations, y_means, y_deviations, dropout_rate=0.1, device='cuda'):\n",
    "        \n",
    "        super().__init__()\n",
    "        self.device = device\n",
    "        \n",
    "        self.x_means      = x_means.to(self.device)\n",
    "        self.x_deviations = x_deviations.to(self.device)\n",
    "        self.y_means      = y_means.to(self.device)\n",
    "        self.y_deviations = y_deviations.to(self.device)\n",
    "\n",
    "     \n",
    "        self.fc1  = nn.Linear(n_inputs, 64)\n",
    "        self.act1 = nn.ReLU()\n",
    "        self.dropout1 = nn.Dropout(dropout_rate)\n",
    "\n",
    "        self.fc2 = nn.Linear(64, 64)\n",
    "        self.act2 = nn.ReLU()\n",
    "        self.dropout2 = nn.Dropout(dropout_rate)\n",
    "\n",
    "        self.fc3 = nn.Linear(64, n_outputs)\n",
    "\n",
    "        # If input_dim ≠ 64, project for residual addition\n",
    "        self.input_proj = nn.Linear(n_inputs, 64) if n_inputs != 64 else nn.Identity()\n",
    "        \n",
    "        # Move model to device\n",
    "        self.to(self.device)\n",
    "        \n",
    "\n",
    "    def forward(self, x):\n",
    "        x  = x.to(self.device)\n",
    "        x  = (x - self.x_means) / self.x_deviations\n",
    "        x0 = self.input_proj(x)\n",
    "        x1 = self.dropout1(self.act1(self.fc1(x)))\n",
    "        x2 = self.dropout2(self.act2(self.fc2(x1)))\n",
    "        x_res = x2 + x0\n",
    "        y_scaled = self.fc3(x_res)\n",
    "        y_descaled = y_scaled * self.y_deviations + self.y_means\n",
    "        \n",
    "        return y_descaled, y_scaled\n",
    "    \n",
    "'''\n"
   ]
  },
  {
   "cell_type": "code",
   "execution_count": 23,
   "id": "b8d1d525",
   "metadata": {},
   "outputs": [],
   "source": [
    "\n",
    "\n",
    "\n",
    "#############################################################\n",
    "##   F1      plus       F2\n",
    "## Linear     +      Nonlinear\n",
    "\n",
    "class F1plusF2_SIO(nn.Module):\n",
    "    ## initialize the layers\n",
    "    def __init__(self, x_means, x_deviations, y_means, y_deviations,  device='cuda'):\n",
    "        super().__init__()\n",
    "        self.device = device\n",
    "        \n",
    "        ## self.x_means      = x_means\n",
    "        ## self.x_deviations = x_deviations\n",
    "        ## self.y_means      = y_means\n",
    "        ## self.y_deviations = y_deviations\n",
    "        \n",
    "        \n",
    "        self.x_means      = x_means.to(self.device)\n",
    "        self.x_deviations = x_deviations.to(self.device)\n",
    "        self.y_means      = y_means.to(self.device)\n",
    "        self.y_deviations = y_deviations.to(self.device)\n",
    "        \n",
    "        \n",
    "        \n",
    "        ## F1\n",
    "        self.f1_linear1 = nn.Linear(4, 7)       \n",
    "        \n",
    "        ## F2\n",
    "        self.f2_linear1 = nn.Linear(4, 10)\n",
    "        self.f2_act1    = nn.Sigmoid()                    ## Tanh()                       \n",
    "        self.f2_linear2 = nn.Linear(10, 7)       \n",
    "        self.f2_dropout = nn.Dropout(0.25)\n",
    "        \n",
    "        # Move model to device\n",
    "        self.to(self.device)\n",
    "        \n",
    "        \n",
    "    ## perform inference\n",
    "    def forward(self, x):\n",
    "        x = x.to(self.device)\n",
    "        x = (x - self.x_means) / self.x_deviations\n",
    "        \n",
    "        ## F1\n",
    "        f1 = self.f1_linear1(x)\n",
    "        \n",
    "        ## F2\n",
    "        f2 = self.f2_linear1(x)\n",
    "        f2 = self.f2_act1(f2)\n",
    "        f2 = self.f2_dropout(f2)\n",
    "        f2 = self.f2_linear2(f2)\n",
    "        \n",
    "        \n",
    "        y_scaled   = f1 + f2\n",
    "        y_descaled = y_scaled * self.y_deviations + self.y_means\n",
    "        \n",
    "        return y_descaled, y_scaled\n",
    "    \n",
    "\n"
   ]
  },
  {
   "cell_type": "code",
   "execution_count": 24,
   "id": "5f432964",
   "metadata": {},
   "outputs": [],
   "source": [
    "\n",
    "device = torch.device('cuda' if torch.cuda.is_available() else 'cpu')\n",
    "\n",
    "model     = F1plusF2_SIO(\n",
    "             PDFshapingOBJ.x_means, \n",
    "             PDFshapingOBJ.x_deviations, \n",
    "             PDFshapingOBJ.y_means, \n",
    "             PDFshapingOBJ.y_deviations,\n",
    "             device=device  # pass device into the model\n",
    "    \n",
    ")\n",
    "\n",
    "optimizer = optim.Adam(model.parameters(), lr=0.001)\n",
    "loss_fn   = nn.MSELoss()\n",
    "\n",
    "\n"
   ]
  },
  {
   "cell_type": "code",
   "execution_count": 25,
   "id": "d22a9dd9",
   "metadata": {},
   "outputs": [
    {
     "name": "stdout",
     "output_type": "stream",
     "text": [
      "0 ..... 0.5811542868614197\n",
      "100 ..... 0.4097370505332947\n",
      "200 ..... 0.36831799149513245\n",
      "300 ..... 0.346495121717453\n",
      "400 ..... 0.40355950593948364\n",
      "500 ..... 0.5243855714797974\n",
      "600 ..... 0.3336016833782196\n",
      "700 ..... 0.4870888590812683\n",
      "800 ..... 0.3608343005180359\n",
      "900 ..... 0.5655982494354248\n"
     ]
    }
   ],
   "source": [
    "\n",
    "model.train()\n",
    "\n",
    "for epoch in range(1000):\n",
    "    for xb, yb in PDFshapingOBJ.train_dl:\n",
    "        \n",
    "        xb = xb.to(model.device)\n",
    "        yb = yb.to(model.device)\n",
    "        \n",
    "        optimizer.zero_grad()\n",
    "        pred_descaled, pred_scaled = model(xb)\n",
    "        loss = loss_fn(pred_scaled, yb)\n",
    "        loss.backward()\n",
    "        optimizer.step()\n",
    "    if epoch % 100 == 0:\n",
    "        print(epoch, \".....\", loss.item() ) \n",
    "    \n",
    "\n",
    "\n",
    "    "
   ]
  },
  {
   "cell_type": "code",
   "execution_count": 26,
   "id": "c7a13532",
   "metadata": {},
   "outputs": [
    {
     "name": "stdout",
     "output_type": "stream",
     "text": [
      "=== SANITY CHECK: SCALING ===\n",
      "y_means: tensor([[  14.6623,  305.5481,   45.1122,   36.6760,   25.5216, 1431.1283,\n",
      "          190.2352]])\n",
      "y_deviations: tensor([[ 12.6345, 281.6759,  36.4733,  39.6898,   3.3199, 160.6678,  25.8242]])\n",
      "===============================================\n",
      "x_means: tensor([[2243.9016, 1039.0397,   63.8860, 8417.1729]])\n",
      "x_deviations: tensor([[ 178.6109,  507.6813,   22.1074, 1175.1044]])\n"
     ]
    }
   ],
   "source": [
    "\n",
    "print(\"=== SANITY CHECK: SCALING ===\")\n",
    "print(\"y_means:\", PDFshapingOBJ.y_means)\n",
    "print(\"y_deviations:\", PDFshapingOBJ.y_deviations)\n",
    "\n",
    "print(\"===============================================\")\n",
    "\n",
    "print(\"x_means:\", PDFshapingOBJ.x_means)\n",
    "print(\"x_deviations:\", PDFshapingOBJ.x_deviations)\n",
    "\n"
   ]
  },
  {
   "cell_type": "markdown",
   "id": "6ca1a292",
   "metadata": {},
   "source": [
    "\n",
    "## Test model\n"
   ]
  },
  {
   "cell_type": "code",
   "execution_count": 27,
   "id": "6f1ebf4f",
   "metadata": {},
   "outputs": [
    {
     "name": "stdout",
     "output_type": "stream",
     "text": [
      "tensor([2093.8120,  902.9690,   70.8630, 9296.1680])\n",
      "tensor([  22.1480,    0.0000,   21.0880,   47.1270,   27.7620, 1164.4041,\n",
      "         209.7550])\n"
     ]
    }
   ],
   "source": [
    "\n",
    "print( PDFshapingOBJ.X_test_tr[0] )\n",
    "print( PDFshapingOBJ.y_test_tr[0] )\n"
   ]
  },
  {
   "cell_type": "code",
   "execution_count": 28,
   "id": "af93fe73",
   "metadata": {},
   "outputs": [
    {
     "name": "stdout",
     "output_type": "stream",
     "text": [
      "torch.Size([2579, 4])\n",
      "torch.Size([2579, 7])\n"
     ]
    }
   ],
   "source": [
    "\n",
    "\n",
    "print( PDFshapingOBJ.X_test_tr.shape )\n",
    "print( PDFshapingOBJ.y_test_tr.shape )\n",
    "\n",
    "with torch.no_grad():\n",
    "    \n",
    "    pred_test_descaled, pred_test_scaled = model(  PDFshapingOBJ.X_test_tr  )\n"
   ]
  },
  {
   "cell_type": "code",
   "execution_count": 29,
   "id": "da5ed723",
   "metadata": {},
   "outputs": [
    {
     "name": "stdout",
     "output_type": "stream",
     "text": [
      "MAE: [  4.9793825  135.3401      23.115265    31.551983     0.93298143\n",
      "  99.60271      4.4458017 ]\n",
      "RMSE: [  6.3632655 170.87119    28.450798   39.04742     1.2132748 123.85369\n",
      "   5.622951 ]\n",
      "R2: [0.74667367 0.63222894 0.3825443  0.07852167 0.86897658 0.35919006\n",
      " 0.95033423]\n",
      "Overall averages: 42.852604 53.631798 0.5740670640331175\n"
     ]
    }
   ],
   "source": [
    "\n",
    "\n",
    "y_true = PDFshapingOBJ.y_test_tr.detach().cpu().numpy()\n",
    "\n",
    "y_pred = pred_test_descaled.detach().cpu().numpy()  # or use descaled pair\n",
    "\n",
    "mae  = mean_absolute_error(y_true, y_pred, multioutput='raw_values')\n",
    "rmse = mean_squared_error( y_true, y_pred, squared=False, multioutput='raw_values')\n",
    "r2   = r2_score(           y_true, y_pred, multioutput='raw_values')\n",
    "\n",
    "print(\"MAE:\", mae)\n",
    "print(\"RMSE:\", rmse)\n",
    "print(\"R2:\", r2)\n",
    "print(\"Overall averages:\", \n",
    "      mae.mean(), rmse.mean(), r2.mean())\n",
    "\n"
   ]
  },
  {
   "cell_type": "code",
   "execution_count": 30,
   "id": "b9456e75",
   "metadata": {},
   "outputs": [
    {
     "data": {
      "text/plain": [
       "array([0.74667367, 0.63222894, 0.3825443 , 0.07852167, 0.86897658,\n",
       "       0.35919006, 0.95033423])"
      ]
     },
     "execution_count": 30,
     "metadata": {},
     "output_type": "execute_result"
    }
   ],
   "source": [
    "\n",
    "r2   = r2_score(           y_true, y_pred, multioutput='raw_values')\n",
    "r2\n"
   ]
  },
  {
   "cell_type": "code",
   "execution_count": 31,
   "id": "4ea10270",
   "metadata": {},
   "outputs": [
    {
     "data": {
      "text/plain": [
       "0.5740670640331175"
      ]
     },
     "execution_count": 31,
     "metadata": {},
     "output_type": "execute_result"
    }
   ],
   "source": [
    "\n",
    "r2.mean()\n"
   ]
  },
  {
   "cell_type": "code",
   "execution_count": 32,
   "id": "db8a7e4c",
   "metadata": {},
   "outputs": [
    {
     "name": "stdout",
     "output_type": "stream",
     "text": [
      "Testing R**2 - descaled: -1.5215673509291325\n"
     ]
    }
   ],
   "source": [
    "\n",
    "print('Testing R**2 - descaled:', r2_score( y_pred, y_true   )  )\n"
   ]
  },
  {
   "cell_type": "code",
   "execution_count": 33,
   "id": "8575e058",
   "metadata": {},
   "outputs": [
    {
     "name": "stdout",
     "output_type": "stream",
     "text": [
      "Testing R**2 - descaled: 0.5740670640331175\n"
     ]
    }
   ],
   "source": [
    "\n",
    "print('Testing R**2 - descaled:', r2_score( y_true,  y_pred   )  )\n"
   ]
  },
  {
   "cell_type": "code",
   "execution_count": 34,
   "id": "126f6541",
   "metadata": {},
   "outputs": [
    {
     "data": {
      "text/plain": [
       "tensor(0.5741, device='cuda:0')"
      ]
     },
     "execution_count": 34,
     "metadata": {},
     "output_type": "execute_result"
    }
   ],
   "source": [
    "\n",
    "PDFshapingOBJ.r2_score_torch(PDFshapingOBJ.y_test_tr.to(PDFshapingOBJ.device), pred_test_descaled).mean()\n"
   ]
  },
  {
   "cell_type": "code",
   "execution_count": null,
   "id": "a3a7a040",
   "metadata": {},
   "outputs": [],
   "source": []
  },
  {
   "cell_type": "markdown",
   "id": "d275850b",
   "metadata": {},
   "source": [
    "\n",
    "## ONNX\n"
   ]
  },
  {
   "cell_type": "code",
   "execution_count": null,
   "id": "283a78d5",
   "metadata": {},
   "outputs": [],
   "source": []
  },
  {
   "cell_type": "code",
   "execution_count": 35,
   "id": "c66447c9",
   "metadata": {},
   "outputs": [
    {
     "name": "stdout",
     "output_type": "stream",
     "text": [
      "ONNX model saved\n"
     ]
    }
   ],
   "source": [
    "\n",
    "import torch\n",
    "\n",
    "# Your trained model\n",
    "model.eval().float()\n",
    "\n",
    "\n",
    "dummy_input = torch.randn(1, 4, dtype=torch.float32)\n",
    "\n",
    "# Export to ONNX (single output called \"output1\")\n",
    "torch.onnx.export(\n",
    "    model,\n",
    "    dummy_input,\n",
    "    \"ONNXmodels/F1F2_Inverse_HongRealGen.onnx\",\n",
    "    input_names=[\"input1\"],\n",
    "    output_names=[\"output1\"],\n",
    "    opset_version=15,              # fine for onnxruntime-web\n",
    "    do_constant_folding=True,\n",
    "    dynamic_axes={\n",
    "        \"input1\": {0: \"batch\"},\n",
    "        \"output1\": {0: \"batch\"}\n",
    "    }\n",
    ")\n",
    "print(\"ONNX model saved\")\n",
    "\n"
   ]
  },
  {
   "cell_type": "code",
   "execution_count": null,
   "id": "25826f4d",
   "metadata": {},
   "outputs": [],
   "source": []
  },
  {
   "cell_type": "markdown",
   "id": "beaa608c",
   "metadata": {},
   "source": [
    "\n",
    "## XGBoost\n"
   ]
  },
  {
   "cell_type": "code",
   "execution_count": 36,
   "id": "dd8a6d9c",
   "metadata": {},
   "outputs": [],
   "source": [
    "\n",
    "regressor = xgb.XGBRegressor(\n",
    "    n_estimators=100,\n",
    "    reg_lambda=1,\n",
    "    gamma=0,\n",
    "    max_depth=3\n",
    ")\n"
   ]
  },
  {
   "cell_type": "code",
   "execution_count": 37,
   "id": "c45674ff",
   "metadata": {},
   "outputs": [
    {
     "data": {
      "text/plain": [
       "XGBRegressor(base_score=0.5, booster='gbtree', callbacks=None,\n",
       "             colsample_bylevel=1, colsample_bynode=1, colsample_bytree=1,\n",
       "             early_stopping_rounds=None, enable_categorical=False,\n",
       "             eval_metric=None, gamma=0, gpu_id=-1, grow_policy='depthwise',\n",
       "             importance_type=None, interaction_constraints='',\n",
       "             learning_rate=0.300000012, max_bin=256, max_cat_to_onehot=4,\n",
       "             max_delta_step=0, max_depth=3, max_leaves=0, min_child_weight=1,\n",
       "             missing=nan, monotone_constraints='()', n_estimators=100, n_jobs=0,\n",
       "             num_parallel_tree=1, predictor='auto', random_state=0, reg_alpha=0,\n",
       "             reg_lambda=1, ...)"
      ]
     },
     "execution_count": 37,
     "metadata": {},
     "output_type": "execute_result"
    }
   ],
   "source": [
    "\n",
    "regressor.fit(PDFshapingOBJ.X_train, PDFshapingOBJ.y_train)\n"
   ]
  },
  {
   "cell_type": "code",
   "execution_count": 38,
   "id": "f1f46489",
   "metadata": {},
   "outputs": [
    {
     "name": "stdout",
     "output_type": "stream",
     "text": [
      "10316\n",
      "10316\n"
     ]
    }
   ],
   "source": [
    "\n",
    "print( len(PDFshapingOBJ.X_train  ))\n",
    "print( len(PDFshapingOBJ.y_train  ))\n"
   ]
  },
  {
   "cell_type": "code",
   "execution_count": 39,
   "id": "ea9752ec",
   "metadata": {},
   "outputs": [
    {
     "name": "stdout",
     "output_type": "stream",
     "text": [
      "(10316, 4)\n",
      "(10316, 7)\n"
     ]
    }
   ],
   "source": [
    "\n",
    "print( PDFshapingOBJ.X_train.shape  )\n",
    "print( PDFshapingOBJ.y_train.shape  )\n"
   ]
  },
  {
   "cell_type": "code",
   "execution_count": 40,
   "id": "278c6be1",
   "metadata": {},
   "outputs": [],
   "source": [
    "\n",
    "y_pred = regressor.predict(PDFshapingOBJ.X_test )\n"
   ]
  },
  {
   "cell_type": "code",
   "execution_count": 41,
   "id": "bbb8a1b9",
   "metadata": {},
   "outputs": [
    {
     "data": {
      "text/plain": [
       "array([[  10.661306  ,   68.70148   ,   76.43118   , ...,   26.433651  ,\n",
       "        1331.4052    ,  204.98164   ],\n",
       "       [   7.5912056 ,   54.32675   ,   74.4434    , ...,   29.210987  ,\n",
       "        1371.3878    ,  189.6661    ],\n",
       "       [  11.120284  ,  205.2797    ,   49.682922  , ...,   24.503937  ,\n",
       "        1367.3735    ,  184.73325   ],\n",
       "       ...,\n",
       "       [   0.48936856,   17.630016  ,   91.86566   , ...,   24.110846  ,\n",
       "        1401.0419    ,  207.52469   ],\n",
       "       [  11.232839  ,  483.71317   ,   22.938517  , ...,   28.894894  ,\n",
       "        1760.4896    ,  221.52014   ],\n",
       "       [   2.7374516 ,   98.67716   ,   49.26787   , ...,   25.296757  ,\n",
       "        1336.5511    ,  192.79828   ]], dtype=float32)"
      ]
     },
     "execution_count": 41,
     "metadata": {},
     "output_type": "execute_result"
    }
   ],
   "source": [
    "\n",
    "y_pred\n"
   ]
  },
  {
   "cell_type": "code",
   "execution_count": 42,
   "id": "d7983530",
   "metadata": {},
   "outputs": [
    {
     "data": {
      "text/plain": [
       "0.5705041565214447"
      ]
     },
     "execution_count": 42,
     "metadata": {},
     "output_type": "execute_result"
    }
   ],
   "source": [
    "\n",
    "r2_score( PDFshapingOBJ.y_test, y_pred )\n"
   ]
  },
  {
   "cell_type": "code",
   "execution_count": null,
   "id": "8fb5919e",
   "metadata": {},
   "outputs": [],
   "source": []
  },
  {
   "cell_type": "code",
   "execution_count": null,
   "id": "3e3cf0d3",
   "metadata": {},
   "outputs": [],
   "source": []
  },
  {
   "cell_type": "code",
   "execution_count": null,
   "id": "cd5b8775",
   "metadata": {},
   "outputs": [],
   "source": []
  },
  {
   "cell_type": "code",
   "execution_count": null,
   "id": "34680473",
   "metadata": {},
   "outputs": [],
   "source": []
  },
  {
   "cell_type": "code",
   "execution_count": null,
   "id": "eb5218ac",
   "metadata": {},
   "outputs": [],
   "source": []
  },
  {
   "cell_type": "code",
   "execution_count": null,
   "id": "b17bc095",
   "metadata": {},
   "outputs": [],
   "source": []
  },
  {
   "cell_type": "code",
   "execution_count": null,
   "id": "9c1bb46a",
   "metadata": {},
   "outputs": [],
   "source": []
  },
  {
   "cell_type": "code",
   "execution_count": null,
   "id": "324cd265",
   "metadata": {},
   "outputs": [],
   "source": []
  },
  {
   "cell_type": "code",
   "execution_count": null,
   "id": "95682046",
   "metadata": {},
   "outputs": [],
   "source": []
  }
 ],
 "metadata": {
  "kernelspec": {
   "display_name": "Python 3 (ipykernel)",
   "language": "python",
   "name": "python3"
  },
  "language_info": {
   "codemirror_mode": {
    "name": "ipython",
    "version": 3
   },
   "file_extension": ".py",
   "mimetype": "text/x-python",
   "name": "python",
   "nbconvert_exporter": "python",
   "pygments_lexer": "ipython3",
   "version": "3.7.16"
  }
 },
 "nbformat": 4,
 "nbformat_minor": 5
}
